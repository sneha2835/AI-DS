{
 "cells": [
  {
   "cell_type": "markdown",
   "id": "bd1f9f98-f722-4c8c-aaa2-bd6162daab99",
   "metadata": {},
   "source": [
    "**TASKS**"
   ]
  },
  {
   "cell_type": "code",
   "execution_count": 1,
   "id": "5ff3cb01-d6c3-46be-81b5-4ec6ecbdff3a",
   "metadata": {},
   "outputs": [],
   "source": [
    "import numpy as np"
   ]
  },
  {
   "cell_type": "markdown",
   "id": "03df466e-9c4e-49cf-a3cd-7a94964663d7",
   "metadata": {},
   "source": [
    "**1)array creation**"
   ]
  },
  {
   "cell_type": "code",
   "execution_count": 2,
   "id": "14ff4fa4-4af1-402f-bc7d-2f1545e736c4",
   "metadata": {},
   "outputs": [
    {
     "data": {
      "text/plain": [
       "array([10, 11, 12, 13, 14, 15, 16, 17, 18, 19, 20, 21, 22, 23, 24, 25, 26,\n",
       "       27, 28, 29, 30, 31, 32, 33, 34, 35, 36, 37, 38, 39, 40])"
      ]
     },
     "execution_count": 2,
     "metadata": {},
     "output_type": "execute_result"
    }
   ],
   "source": [
    "#create 1d array of numbers from 10 to 40\n",
    "\n",
    "arr=np.arange(10,41)\n",
    "arr"
   ]
  },
  {
   "cell_type": "code",
   "execution_count": 3,
   "id": "5810b8d9-9ecc-4ddf-8592-cd9cec70f87a",
   "metadata": {},
   "outputs": [
    {
     "data": {
      "text/plain": [
       "array([[0.04004807, 0.74868645],\n",
       "       [0.62496605, 0.02212615]])"
      ]
     },
     "execution_count": 3,
     "metadata": {},
     "output_type": "execute_result"
    }
   ],
   "source": [
    "#create a 2x2 array of random numbers between 0 and 1\n",
    "\n",
    "rarr=np.random.rand(2, 2)\n",
    "rarr"
   ]
  },
  {
   "cell_type": "markdown",
   "id": "d914815f-2958-4b1e-a119-98c305f5bb3d",
   "metadata": {},
   "source": [
    "**2)Array Attributes**"
   ]
  },
  {
   "cell_type": "code",
   "execution_count": 4,
   "id": "eec28b3c-4f47-4b9b-9e17-58863c1f8a65",
   "metadata": {},
   "outputs": [
    {
     "name": "stdout",
     "output_type": "stream",
     "text": [
      "shape: (2, 2)\n",
      "size: 4\n",
      "datatype: float64\n"
     ]
    }
   ],
   "source": [
    "#Find the shape size and datatype of the array you created in previous task\n",
    "\n",
    "print(\"shape:\",np.shape(rarr))\n",
    "print(\"size:\",np.size(rarr))\n",
    "print(\"datatype:\",rarr.dtype)"
   ]
  },
  {
   "cell_type": "markdown",
   "id": "18e788b2-660b-4708-a933-a86060c01708",
   "metadata": {},
   "source": [
    "**3)Basic Operations**"
   ]
  },
  {
   "cell_type": "code",
   "execution_count": 5,
   "id": "ae51cc67-3148-4cbc-95c2-0175319b8a23",
   "metadata": {},
   "outputs": [
    {
     "data": {
      "text/plain": [
       "array([11, 12, 13, 14, 15])"
      ]
     },
     "execution_count": 5,
     "metadata": {},
     "output_type": "execute_result"
    }
   ],
   "source": [
    "#Add 5 to every element of 1d array\n",
    "\n",
    "a=[1,2,3,4,5]\n",
    "b=np.add(a,10)\n",
    "b"
   ]
  },
  {
   "cell_type": "code",
   "execution_count": 6,
   "id": "daaaf075-b376-4275-aab2-d60a0ea8ec62",
   "metadata": {},
   "outputs": [
    {
     "data": {
      "text/plain": [
       "array([[0.80702937, 0.47784623, 0.72397422],\n",
       "       [0.97370464, 0.18967808, 0.77109637],\n",
       "       [0.62092226, 0.92229672, 0.25206236]])"
      ]
     },
     "execution_count": 6,
     "metadata": {},
     "output_type": "execute_result"
    }
   ],
   "source": [
    "#Multipy 2 2d arrays element wise \n",
    "\n",
    "arr1 = np.random.rand(3, 3)\n",
    "arr1\n"
   ]
  },
  {
   "cell_type": "code",
   "execution_count": 7,
   "id": "3ae7fd8c-9e29-4e97-900b-e78dc3146948",
   "metadata": {},
   "outputs": [
    {
     "data": {
      "text/plain": [
       "array([[0.30844601, 0.97721861, 0.7005567 ],\n",
       "       [0.17078277, 0.42686269, 0.28565275],\n",
       "       [0.41317629, 0.49621222, 0.17330187]])"
      ]
     },
     "execution_count": 7,
     "metadata": {},
     "output_type": "execute_result"
    }
   ],
   "source": [
    "arr2 = np.random.rand(3, 3)\n",
    "arr2"
   ]
  },
  {
   "cell_type": "code",
   "execution_count": 8,
   "id": "244c01e6-6238-4eed-9810-f1fdd89b07a3",
   "metadata": {},
   "outputs": [
    {
     "data": {
      "text/plain": [
       "array([[0.62966187, 1.3518637 , 0.82733401],\n",
       "       [0.6513278 , 1.41511623, 0.86994982],\n",
       "       [0.45317957, 1.12554727, 0.74213072]])"
      ]
     },
     "execution_count": 8,
     "metadata": {},
     "output_type": "execute_result"
    }
   ],
   "source": [
    "mul=np.dot(arr1,arr2)\n",
    "mul"
   ]
  },
  {
   "cell_type": "markdown",
   "id": "39a69439-e0a8-4bbf-a706-501b215f2d26",
   "metadata": {},
   "source": [
    "**4)Indexing and slicing**"
   ]
  },
  {
   "cell_type": "code",
   "execution_count": 9,
   "id": "a10f216a-1eaf-4f96-9dba-6c3cfc78321f",
   "metadata": {},
   "outputs": [
    {
     "data": {
      "text/plain": [
       "array([[ 1,  2,  3,  4,  5],\n",
       "       [ 6,  7,  8,  9, 10],\n",
       "       [11, 12, 13, 14, 15],\n",
       "       [16, 17, 18, 19, 20],\n",
       "       [21, 22, 23, 24, 25]])"
      ]
     },
     "execution_count": 9,
     "metadata": {},
     "output_type": "execute_result"
    }
   ],
   "source": [
    "#create a 5x5 array of integers from 1 to 25 .extract: \n",
    "#.The first row \n",
    "#.the last column \n",
    "#.a subarray of the first 3 rows and first 2 columns\n",
    "arr = np.arange(1, 26).reshape(5, 5)\n",
    "arr\n"
   ]
  },
  {
   "cell_type": "code",
   "execution_count": 10,
   "id": "756ad778-df3e-4c3d-ac63-7236bae56bb1",
   "metadata": {},
   "outputs": [
    {
     "data": {
      "text/plain": [
       "array([1, 2, 3, 4, 5])"
      ]
     },
     "execution_count": 10,
     "metadata": {},
     "output_type": "execute_result"
    }
   ],
   "source": [
    "#.The first row \n",
    "arr[0, :]"
   ]
  },
  {
   "cell_type": "code",
   "execution_count": 11,
   "id": "57cf9f6b-9e62-480f-bb20-b953269da046",
   "metadata": {},
   "outputs": [
    {
     "data": {
      "text/plain": [
       "array([ 5, 10, 15, 20, 25])"
      ]
     },
     "execution_count": 11,
     "metadata": {},
     "output_type": "execute_result"
    }
   ],
   "source": [
    "#.the last column\n",
    "arr[:,-1]"
   ]
  },
  {
   "cell_type": "code",
   "execution_count": 12,
   "id": "020cd51f-454f-4059-91ee-0e78292eb561",
   "metadata": {},
   "outputs": [
    {
     "data": {
      "text/plain": [
       "array([[ 1,  2],\n",
       "       [ 6,  7],\n",
       "       [11, 12]])"
      ]
     },
     "execution_count": 12,
     "metadata": {},
     "output_type": "execute_result"
    }
   ],
   "source": [
    "#.a subarray of the first 3 rows and first 2 columns\n",
    "arr[:3, :2]"
   ]
  },
  {
   "cell_type": "markdown",
   "id": "d162c65c-0e05-4fb5-a6c1-9e03d045c272",
   "metadata": {},
   "source": [
    "**5)Aggregation**"
   ]
  },
  {
   "cell_type": "code",
   "execution_count": 13,
   "id": "baa51582-2baf-4830-99a9-b90522bacb71",
   "metadata": {},
   "outputs": [
    {
     "data": {
      "text/plain": [
       "array([20, 60, 46, 72, 93, 94, 27, 69, 95, 21])"
      ]
     },
     "execution_count": 13,
     "metadata": {},
     "output_type": "execute_result"
    }
   ],
   "source": [
    "#create 10-element array of random integers between 1 to 100.find:\n",
    "#the max value\n",
    "#the min value\n",
    "#the mean and std\n",
    "\n",
    "random_ints = np.random.randint(1, 101, size=10)\n",
    "random_ints\n"
   ]
  },
  {
   "cell_type": "code",
   "execution_count": 14,
   "id": "8bd73683-c883-4fdc-8f05-29943cfe862d",
   "metadata": {},
   "outputs": [
    {
     "data": {
      "text/plain": [
       "95"
      ]
     },
     "execution_count": 14,
     "metadata": {},
     "output_type": "execute_result"
    }
   ],
   "source": [
    "#the max value\n",
    "\n",
    "np.max(random_ints)"
   ]
  },
  {
   "cell_type": "code",
   "execution_count": 15,
   "id": "deb34592-14f0-4ae8-9a03-417dd920163e",
   "metadata": {},
   "outputs": [
    {
     "data": {
      "text/plain": [
       "20"
      ]
     },
     "execution_count": 15,
     "metadata": {},
     "output_type": "execute_result"
    }
   ],
   "source": [
    "#the min value\n",
    "\n",
    "np.min(random_ints)"
   ]
  },
  {
   "cell_type": "code",
   "execution_count": 16,
   "id": "e121cd32-02f1-4a7f-b6b4-bb78203b2a11",
   "metadata": {},
   "outputs": [
    {
     "data": {
      "text/plain": [
       "59.7"
      ]
     },
     "execution_count": 16,
     "metadata": {},
     "output_type": "execute_result"
    }
   ],
   "source": [
    "#the mean \n",
    "\n",
    "np.mean(random_ints)\n"
   ]
  },
  {
   "cell_type": "code",
   "execution_count": 17,
   "id": "639499cf-e02d-49a0-9ebb-72fa97b6097c",
   "metadata": {},
   "outputs": [
    {
     "data": {
      "text/plain": [
       "28.46067462306542"
      ]
     },
     "execution_count": 17,
     "metadata": {},
     "output_type": "execute_result"
    }
   ],
   "source": [
    "#std\n",
    "\n",
    "np.std(random_ints)"
   ]
  },
  {
   "cell_type": "markdown",
   "id": "658e3e55-b043-480f-b15f-78703de87a67",
   "metadata": {},
   "source": [
    "**6)Reshaping**"
   ]
  },
  {
   "cell_type": "code",
   "execution_count": 18,
   "id": "35747e0f-9f12-40f2-9c47-22bd6d253029",
   "metadata": {},
   "outputs": [
    {
     "data": {
      "text/plain": [
       "array([ 1,  2,  3,  4,  5,  6,  7,  8,  9, 10, 11, 12])"
      ]
     },
     "execution_count": 18,
     "metadata": {},
     "output_type": "execute_result"
    }
   ],
   "source": [
    "#convert a 1d array of numbers from 1 to 12 into 3x4 matrix\n",
    "\n",
    "arr_3=np.arange(1,13)\n",
    "arr_3"
   ]
  },
  {
   "cell_type": "code",
   "execution_count": 19,
   "id": "879100ad-06d9-44d4-9fbf-386babb936df",
   "metadata": {},
   "outputs": [
    {
     "data": {
      "text/plain": [
       "array([[ 1,  2,  3,  4],\n",
       "       [ 5,  6,  7,  8],\n",
       "       [ 9, 10, 11, 12]])"
      ]
     },
     "execution_count": 19,
     "metadata": {},
     "output_type": "execute_result"
    }
   ],
   "source": [
    "reshaped_arr = arr_3.reshape(3, 4)\n",
    "reshaped_arr"
   ]
  },
  {
   "cell_type": "markdown",
   "id": "05936a39-a1f8-4b02-b224-a32d7383b7cb",
   "metadata": {},
   "source": [
    "**7)Broadcasting**"
   ]
  },
  {
   "cell_type": "code",
   "execution_count": 20,
   "id": "7a4f6a59-a6e4-4990-b497-89a04c771564",
   "metadata": {},
   "outputs": [
    {
     "data": {
      "text/plain": [
       "array([[1., 1., 1.],\n",
       "       [1., 1., 1.],\n",
       "       [1., 1., 1.]])"
      ]
     },
     "execution_count": 20,
     "metadata": {},
     "output_type": "execute_result"
    }
   ],
   "source": [
    "#create a 3x3 martrix of ones.add a 1d array[1,2,3] to eac row \n",
    "\n",
    "ones=np.ones((3,3))\n",
    "ones"
   ]
  },
  {
   "cell_type": "code",
   "execution_count": 21,
   "id": "1d4200b4-56d6-4088-9152-7516afcbe2bf",
   "metadata": {},
   "outputs": [
    {
     "data": {
      "text/plain": [
       "array([[2., 3., 4.],\n",
       "       [2., 3., 4.],\n",
       "       [2., 3., 4.]])"
      ]
     },
     "execution_count": 21,
     "metadata": {},
     "output_type": "execute_result"
    }
   ],
   "source": [
    "e=[1,2,3]\n",
    "f=np.add(ones,e)\n",
    "f"
   ]
  },
  {
   "cell_type": "markdown",
   "id": "06bd1f52-0cfd-4e30-873c-3609350d532e",
   "metadata": {},
   "source": [
    "**8)Filtering**"
   ]
  },
  {
   "cell_type": "code",
   "execution_count": 22,
   "id": "b918d436-af20-4b9a-8054-4db057f1b314",
   "metadata": {},
   "outputs": [
    {
     "data": {
      "text/plain": [
       "array([ 1,  2,  3,  4,  5,  6,  7,  8,  9, 10, 11, 12, 13, 14, 15, 16, 17,\n",
       "       18, 19, 20, 21, 22, 23, 24, 25, 26, 27, 28, 29, 30, 31, 32, 33, 34,\n",
       "       35, 36, 37, 38, 39, 40, 41, 42, 43, 44, 45, 46, 47, 48, 49])"
      ]
     },
     "execution_count": 22,
     "metadata": {},
     "output_type": "execute_result"
    }
   ],
   "source": [
    "#create a 1D array of random integers between 1 and 50 .\n",
    "#extract all elements that are divisible by 5\n",
    "\n",
    "rand_a=np.arange(1,50)\n",
    "rand_a"
   ]
  },
  {
   "cell_type": "code",
   "execution_count": 23,
   "id": "a0001df8-04bb-40a2-bbaf-9f150b2d6aaa",
   "metadata": {},
   "outputs": [
    {
     "name": "stdout",
     "output_type": "stream",
     "text": [
      "5\n",
      "10\n",
      "15\n",
      "20\n",
      "25\n",
      "30\n",
      "35\n",
      "40\n",
      "45\n"
     ]
    }
   ],
   "source": [
    "for i in rand_a :\n",
    "    if i%5==0:\n",
    "        print(i)"
   ]
  },
  {
   "cell_type": "markdown",
   "id": "8fa0896b-e334-426f-aefd-8587bced4903",
   "metadata": {},
   "source": [
    "**9)Matrix multiplication**"
   ]
  },
  {
   "cell_type": "code",
   "execution_count": 24,
   "id": "3377c270-b93b-47b3-ba92-9a91f74aadd1",
   "metadata": {},
   "outputs": [
    {
     "data": {
      "text/plain": [
       "array([[0.61099393, 0.21262143],\n",
       "       [0.54715472, 0.61828991]])"
      ]
     },
     "execution_count": 24,
     "metadata": {},
     "output_type": "execute_result"
    }
   ],
   "source": [
    "#create 2 2x2 martices and perform matrix multiplication\n",
    "\n",
    "var1 = np.random.rand(2, 2)\n",
    "var1"
   ]
  },
  {
   "cell_type": "code",
   "execution_count": 25,
   "id": "803f90d9-fa9d-45ed-accf-57ce8ddbed03",
   "metadata": {},
   "outputs": [
    {
     "data": {
      "text/plain": [
       "array([[0.87496224, 0.59021752],\n",
       "       [0.27061318, 0.42307712]])"
      ]
     },
     "execution_count": 25,
     "metadata": {},
     "output_type": "execute_result"
    }
   ],
   "source": [
    "var2=np.random.rand(2,2)\n",
    "var2"
   ]
  },
  {
   "cell_type": "code",
   "execution_count": 26,
   "id": "1ddc4cde-5813-43f5-9353-5883082b7e24",
   "metadata": {},
   "outputs": [
    {
     "data": {
      "text/plain": [
       "array([[0.59213478, 0.45057459],\n",
       "       [0.64605712, 0.58452462]])"
      ]
     },
     "execution_count": 26,
     "metadata": {},
     "output_type": "execute_result"
    }
   ],
   "source": [
    "var3=np.dot(var1,var2)\n",
    "var3"
   ]
  },
  {
   "cell_type": "markdown",
   "id": "be5251a2-38db-4bf9-8cec-c9ce00081726",
   "metadata": {},
   "source": [
    "**10)Advanced Indexing**"
   ]
  },
  {
   "cell_type": "code",
   "execution_count": 27,
   "id": "5350a752-7923-408d-b352-4aa23b3ee003",
   "metadata": {},
   "outputs": [
    {
     "data": {
      "text/plain": [
       "array([[ 1,  2,  3,  4],\n",
       "       [ 5,  6,  7,  8],\n",
       "       [ 9, 10, 11, 12],\n",
       "       [13, 14, 15, 16]])"
      ]
     },
     "execution_count": 27,
     "metadata": {},
     "output_type": "execute_result"
    }
   ],
   "source": [
    "#given a 4x4 matrix ,use fancy indexing to extract the diagonal elements\n",
    "\n",
    "mat= np.array([[1, 2, 3, 4],\n",
    "               [5, 6, 7, 8],\n",
    "               [9, 10, 11, 12],\n",
    "               [13, 14, 15, 16]])\n",
    "\n",
    "mat"
   ]
  },
  {
   "cell_type": "code",
   "execution_count": 28,
   "id": "f1c328c5-8efc-4783-8e7a-ddd48def0a30",
   "metadata": {},
   "outputs": [
    {
     "data": {
      "text/plain": [
       "array([ 1,  6, 11, 16])"
      ]
     },
     "execution_count": 28,
     "metadata": {},
     "output_type": "execute_result"
    }
   ],
   "source": [
    "dia_eles = mat[np.arange(4), np.arange(4)]\n",
    "dia_eles"
   ]
  },
  {
   "cell_type": "code",
   "execution_count": 29,
   "id": "11251dc0-abac-485c-99d2-49e4b6ad5fc8",
   "metadata": {},
   "outputs": [
    {
     "data": {
      "text/plain": [
       "array([ 1,  6, 11, 16])"
      ]
     },
     "execution_count": 29,
     "metadata": {},
     "output_type": "execute_result"
    }
   ],
   "source": [
    "np.diagonal(mat)"
   ]
  }
 ],
 "metadata": {
  "kernelspec": {
   "display_name": "Python 3 (ipykernel)",
   "language": "python",
   "name": "python3"
  },
  "language_info": {
   "codemirror_mode": {
    "name": "ipython",
    "version": 3
   },
   "file_extension": ".py",
   "mimetype": "text/x-python",
   "name": "python",
   "nbconvert_exporter": "python",
   "pygments_lexer": "ipython3",
   "version": "3.10.9"
  }
 },
 "nbformat": 4,
 "nbformat_minor": 5
}

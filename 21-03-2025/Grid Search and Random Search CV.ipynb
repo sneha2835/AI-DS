{
 "cells": [
  {
   "cell_type": "code",
   "execution_count": 1,
   "id": "268019a1-5d71-4a16-9d82-8390e2ae4fed",
   "metadata": {},
   "outputs": [],
   "source": [
    "import numpy as np\n",
    "import pandas as pd\n",
    "import matplotlib.pyplot as plt\n",
    "import seaborn as sns\n",
    "from sklearn.model_selection import train_test_split,GridSearchCV,RandomizedSearchCV\n",
    "from sklearn.ensemble import RandomForestClassifier\n",
    "from sklearn.metrics import accuracy_score,classification_report,confusion_matrix\n",
    "from sklearn.datasets import load_iris"
   ]
  },
  {
   "cell_type": "code",
   "execution_count": 2,
   "id": "ec5871b8-4b98-4801-9256-ed5539d42339",
   "metadata": {},
   "outputs": [],
   "source": [
    "#Load dataset\n",
    "df=load_iris()\n",
    "X=df.data\n",
    "y=df.target"
   ]
  },
  {
   "cell_type": "code",
   "execution_count": 3,
   "id": "648f85ab-ffb0-4ef3-ba74-85534c862e80",
   "metadata": {},
   "outputs": [],
   "source": [
    "#define hyperparameter grid\n",
    "param_grid={\n",
    "    'n_estimators':[10,50,100,200],\n",
    "    'max_depth':[5,10,20,None],\n",
    "    'min_samples_split':[2,5,10],\n",
    "    'min_samples_leaf':[1,2,4]\n",
    "}"
   ]
  },
  {
   "cell_type": "code",
   "execution_count": 4,
   "id": "8b7c1103-5578-4edf-82b5-ccfd65a26e44",
   "metadata": {},
   "outputs": [],
   "source": [
    "#split into training and testing sets (80-20 split)\n",
    "X_train,X_test,y_train,y_test=train_test_split(X,y,test_size=0.2,random_state=42)"
   ]
  },
  {
   "cell_type": "code",
   "execution_count": 5,
   "id": "b99276b8-f571-4333-b2e0-3e856ebf7f58",
   "metadata": {},
   "outputs": [
    {
     "name": "stdout",
     "output_type": "stream",
     "text": [
      "Fitting 5 folds for each of 144 candidates, totalling 720 fits\n",
      "Best Parameters from Grid Search: {'max_depth': 10, 'min_samples_leaf': 4, 'min_samples_split': 2, 'n_estimators': 50}\n"
     ]
    }
   ],
   "source": [
    "#grid search cv\n",
    "grid_search=GridSearchCV(RandomForestClassifier(),param_grid,cv=5,n_jobs=-1,verbose=1)\n",
    "grid_search.fit(X_train,y_train)\n",
    "#Get best parameters\n",
    "print('Best Parameters from Grid Search:',grid_search.best_params_)"
   ]
  },
  {
   "cell_type": "code",
   "execution_count": 6,
   "id": "863be7e0-5e69-45ac-873b-9d4bf8b39d59",
   "metadata": {},
   "outputs": [
    {
     "name": "stdout",
     "output_type": "stream",
     "text": [
      "Best Parameters from Random Search: {'n_estimators': 100, 'min_samples_split': 5, 'min_samples_leaf': 4, 'max_depth': 10}\n"
     ]
    }
   ],
   "source": [
    "#randomized search CV\n",
    "random_search=RandomizedSearchCV(RandomForestClassifier(),param_grid,n_iter=10,cv=5,n_jobs=-1,random_state=42)\n",
    "random_search.fit(X_train,y_train)\n",
    "#get best parameters\n",
    "print('Best Parameters from Random Search:',random_search.best_params_)"
   ]
  },
  {
   "cell_type": "code",
   "execution_count": 7,
   "id": "f79d449b-df31-4964-ac9b-c4d983470515",
   "metadata": {},
   "outputs": [],
   "source": [
    "#Train models with best parameters\n",
    "best_grid_model=grid_search.best_estimator_\n",
    "best_random_model=random_search.best_estimator_"
   ]
  },
  {
   "cell_type": "code",
   "execution_count": 8,
   "id": "c40e0ee8-ca7f-43f7-a910-8fab1f4e0e7a",
   "metadata": {},
   "outputs": [],
   "source": [
    "#predictions\n",
    "y_pred_grid=best_grid_model.predict(X_test)\n",
    "y_pred_random=best_random_model.predict(X_test)"
   ]
  },
  {
   "cell_type": "code",
   "execution_count": 10,
   "id": "d5c7b791-d2d8-4d6a-80f2-686c1e41c992",
   "metadata": {},
   "outputs": [
    {
     "name": "stdout",
     "output_type": "stream",
     "text": [
      "Grid Search Accuracy:1.00\n",
      "Random Search Accuracy: 1.00\n"
     ]
    }
   ],
   "source": [
    "#accuracy scores\n",
    "acc_grid=accuracy_score(y_test,y_pred_grid)\n",
    "acc_random=accuracy_score(y_test,y_pred_random)\n",
    "print(f'Grid Search Accuracy:{acc_grid:.2f}')\n",
    "print(f'Random Search Accuracy: {acc_random:.2f}')"
   ]
  }
 ],
 "metadata": {
  "kernelspec": {
   "display_name": "Python 3 (ipykernel)",
   "language": "python",
   "name": "python3"
  },
  "language_info": {
   "codemirror_mode": {
    "name": "ipython",
    "version": 3
   },
   "file_extension": ".py",
   "mimetype": "text/x-python",
   "name": "python",
   "nbconvert_exporter": "python",
   "pygments_lexer": "ipython3",
   "version": "3.11.5"
  }
 },
 "nbformat": 4,
 "nbformat_minor": 5
}

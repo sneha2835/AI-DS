{
  "nbformat": 4,
  "nbformat_minor": 0,
  "metadata": {
    "colab": {
      "provenance": []
    },
    "kernelspec": {
      "name": "python3",
      "display_name": "Python 3"
    },
    "language_info": {
      "name": "python"
    }
  },
  "cells": [
    {
      "cell_type": "code",
      "execution_count": null,
      "metadata": {
        "id": "ODZXteVmhQNL"
      },
      "outputs": [],
      "source": [
        "import pandas as pd\n",
        "import seaborn as sns\n",
        "import numpy as np\n",
        "from sklearn.model_selection import train_test_split\n",
        "from sklearn.preprocessing import StandardScaler, LabelEncoder\n",
        "from tensorflow.keras.utils import to_categorical\n",
        "from tensorflow.keras.models import Sequential\n",
        "from tensorflow.keras.layers import Dense,Dropout\n",
        "from tensorflow.keras.callbacks import EarlyStopping, ModelCheckpoint"
      ]
    },
    {
      "cell_type": "code",
      "source": [
        "dfs=sns.load_dataset('diamonds')"
      ],
      "metadata": {
        "id": "rojA7aYzkV2e"
      },
      "execution_count": null,
      "outputs": []
    },
    {
      "cell_type": "code",
      "source": [
        "dfs"
      ],
      "metadata": {
        "colab": {
          "base_uri": "https://localhost:8080/",
          "height": 423
        },
        "id": "vCiWYBUukhLG",
        "outputId": "b9379c2c-6523-4ca1-8ad6-0a971d2a215f"
      },
      "execution_count": null,
      "outputs": [
        {
          "output_type": "execute_result",
          "data": {
            "text/plain": [
              "       carat        cut color clarity  depth  table  price     x     y     z\n",
              "0       0.23      Ideal     E     SI2   61.5   55.0    326  3.95  3.98  2.43\n",
              "1       0.21    Premium     E     SI1   59.8   61.0    326  3.89  3.84  2.31\n",
              "2       0.23       Good     E     VS1   56.9   65.0    327  4.05  4.07  2.31\n",
              "3       0.29    Premium     I     VS2   62.4   58.0    334  4.20  4.23  2.63\n",
              "4       0.31       Good     J     SI2   63.3   58.0    335  4.34  4.35  2.75\n",
              "...      ...        ...   ...     ...    ...    ...    ...   ...   ...   ...\n",
              "53935   0.72      Ideal     D     SI1   60.8   57.0   2757  5.75  5.76  3.50\n",
              "53936   0.72       Good     D     SI1   63.1   55.0   2757  5.69  5.75  3.61\n",
              "53937   0.70  Very Good     D     SI1   62.8   60.0   2757  5.66  5.68  3.56\n",
              "53938   0.86    Premium     H     SI2   61.0   58.0   2757  6.15  6.12  3.74\n",
              "53939   0.75      Ideal     D     SI2   62.2   55.0   2757  5.83  5.87  3.64\n",
              "\n",
              "[53940 rows x 10 columns]"
            ],
            "text/html": [
              "\n",
              "  <div id=\"df-d244c77f-862c-480b-a42e-4e1e0b9533ff\" class=\"colab-df-container\">\n",
              "    <div>\n",
              "<style scoped>\n",
              "    .dataframe tbody tr th:only-of-type {\n",
              "        vertical-align: middle;\n",
              "    }\n",
              "\n",
              "    .dataframe tbody tr th {\n",
              "        vertical-align: top;\n",
              "    }\n",
              "\n",
              "    .dataframe thead th {\n",
              "        text-align: right;\n",
              "    }\n",
              "</style>\n",
              "<table border=\"1\" class=\"dataframe\">\n",
              "  <thead>\n",
              "    <tr style=\"text-align: right;\">\n",
              "      <th></th>\n",
              "      <th>carat</th>\n",
              "      <th>cut</th>\n",
              "      <th>color</th>\n",
              "      <th>clarity</th>\n",
              "      <th>depth</th>\n",
              "      <th>table</th>\n",
              "      <th>price</th>\n",
              "      <th>x</th>\n",
              "      <th>y</th>\n",
              "      <th>z</th>\n",
              "    </tr>\n",
              "  </thead>\n",
              "  <tbody>\n",
              "    <tr>\n",
              "      <th>0</th>\n",
              "      <td>0.23</td>\n",
              "      <td>Ideal</td>\n",
              "      <td>E</td>\n",
              "      <td>SI2</td>\n",
              "      <td>61.5</td>\n",
              "      <td>55.0</td>\n",
              "      <td>326</td>\n",
              "      <td>3.95</td>\n",
              "      <td>3.98</td>\n",
              "      <td>2.43</td>\n",
              "    </tr>\n",
              "    <tr>\n",
              "      <th>1</th>\n",
              "      <td>0.21</td>\n",
              "      <td>Premium</td>\n",
              "      <td>E</td>\n",
              "      <td>SI1</td>\n",
              "      <td>59.8</td>\n",
              "      <td>61.0</td>\n",
              "      <td>326</td>\n",
              "      <td>3.89</td>\n",
              "      <td>3.84</td>\n",
              "      <td>2.31</td>\n",
              "    </tr>\n",
              "    <tr>\n",
              "      <th>2</th>\n",
              "      <td>0.23</td>\n",
              "      <td>Good</td>\n",
              "      <td>E</td>\n",
              "      <td>VS1</td>\n",
              "      <td>56.9</td>\n",
              "      <td>65.0</td>\n",
              "      <td>327</td>\n",
              "      <td>4.05</td>\n",
              "      <td>4.07</td>\n",
              "      <td>2.31</td>\n",
              "    </tr>\n",
              "    <tr>\n",
              "      <th>3</th>\n",
              "      <td>0.29</td>\n",
              "      <td>Premium</td>\n",
              "      <td>I</td>\n",
              "      <td>VS2</td>\n",
              "      <td>62.4</td>\n",
              "      <td>58.0</td>\n",
              "      <td>334</td>\n",
              "      <td>4.20</td>\n",
              "      <td>4.23</td>\n",
              "      <td>2.63</td>\n",
              "    </tr>\n",
              "    <tr>\n",
              "      <th>4</th>\n",
              "      <td>0.31</td>\n",
              "      <td>Good</td>\n",
              "      <td>J</td>\n",
              "      <td>SI2</td>\n",
              "      <td>63.3</td>\n",
              "      <td>58.0</td>\n",
              "      <td>335</td>\n",
              "      <td>4.34</td>\n",
              "      <td>4.35</td>\n",
              "      <td>2.75</td>\n",
              "    </tr>\n",
              "    <tr>\n",
              "      <th>...</th>\n",
              "      <td>...</td>\n",
              "      <td>...</td>\n",
              "      <td>...</td>\n",
              "      <td>...</td>\n",
              "      <td>...</td>\n",
              "      <td>...</td>\n",
              "      <td>...</td>\n",
              "      <td>...</td>\n",
              "      <td>...</td>\n",
              "      <td>...</td>\n",
              "    </tr>\n",
              "    <tr>\n",
              "      <th>53935</th>\n",
              "      <td>0.72</td>\n",
              "      <td>Ideal</td>\n",
              "      <td>D</td>\n",
              "      <td>SI1</td>\n",
              "      <td>60.8</td>\n",
              "      <td>57.0</td>\n",
              "      <td>2757</td>\n",
              "      <td>5.75</td>\n",
              "      <td>5.76</td>\n",
              "      <td>3.50</td>\n",
              "    </tr>\n",
              "    <tr>\n",
              "      <th>53936</th>\n",
              "      <td>0.72</td>\n",
              "      <td>Good</td>\n",
              "      <td>D</td>\n",
              "      <td>SI1</td>\n",
              "      <td>63.1</td>\n",
              "      <td>55.0</td>\n",
              "      <td>2757</td>\n",
              "      <td>5.69</td>\n",
              "      <td>5.75</td>\n",
              "      <td>3.61</td>\n",
              "    </tr>\n",
              "    <tr>\n",
              "      <th>53937</th>\n",
              "      <td>0.70</td>\n",
              "      <td>Very Good</td>\n",
              "      <td>D</td>\n",
              "      <td>SI1</td>\n",
              "      <td>62.8</td>\n",
              "      <td>60.0</td>\n",
              "      <td>2757</td>\n",
              "      <td>5.66</td>\n",
              "      <td>5.68</td>\n",
              "      <td>3.56</td>\n",
              "    </tr>\n",
              "    <tr>\n",
              "      <th>53938</th>\n",
              "      <td>0.86</td>\n",
              "      <td>Premium</td>\n",
              "      <td>H</td>\n",
              "      <td>SI2</td>\n",
              "      <td>61.0</td>\n",
              "      <td>58.0</td>\n",
              "      <td>2757</td>\n",
              "      <td>6.15</td>\n",
              "      <td>6.12</td>\n",
              "      <td>3.74</td>\n",
              "    </tr>\n",
              "    <tr>\n",
              "      <th>53939</th>\n",
              "      <td>0.75</td>\n",
              "      <td>Ideal</td>\n",
              "      <td>D</td>\n",
              "      <td>SI2</td>\n",
              "      <td>62.2</td>\n",
              "      <td>55.0</td>\n",
              "      <td>2757</td>\n",
              "      <td>5.83</td>\n",
              "      <td>5.87</td>\n",
              "      <td>3.64</td>\n",
              "    </tr>\n",
              "  </tbody>\n",
              "</table>\n",
              "<p>53940 rows × 10 columns</p>\n",
              "</div>\n",
              "    <div class=\"colab-df-buttons\">\n",
              "\n",
              "  <div class=\"colab-df-container\">\n",
              "    <button class=\"colab-df-convert\" onclick=\"convertToInteractive('df-d244c77f-862c-480b-a42e-4e1e0b9533ff')\"\n",
              "            title=\"Convert this dataframe to an interactive table.\"\n",
              "            style=\"display:none;\">\n",
              "\n",
              "  <svg xmlns=\"http://www.w3.org/2000/svg\" height=\"24px\" viewBox=\"0 -960 960 960\">\n",
              "    <path d=\"M120-120v-720h720v720H120Zm60-500h600v-160H180v160Zm220 220h160v-160H400v160Zm0 220h160v-160H400v160ZM180-400h160v-160H180v160Zm440 0h160v-160H620v160ZM180-180h160v-160H180v160Zm440 0h160v-160H620v160Z\"/>\n",
              "  </svg>\n",
              "    </button>\n",
              "\n",
              "  <style>\n",
              "    .colab-df-container {\n",
              "      display:flex;\n",
              "      gap: 12px;\n",
              "    }\n",
              "\n",
              "    .colab-df-convert {\n",
              "      background-color: #E8F0FE;\n",
              "      border: none;\n",
              "      border-radius: 50%;\n",
              "      cursor: pointer;\n",
              "      display: none;\n",
              "      fill: #1967D2;\n",
              "      height: 32px;\n",
              "      padding: 0 0 0 0;\n",
              "      width: 32px;\n",
              "    }\n",
              "\n",
              "    .colab-df-convert:hover {\n",
              "      background-color: #E2EBFA;\n",
              "      box-shadow: 0px 1px 2px rgba(60, 64, 67, 0.3), 0px 1px 3px 1px rgba(60, 64, 67, 0.15);\n",
              "      fill: #174EA6;\n",
              "    }\n",
              "\n",
              "    .colab-df-buttons div {\n",
              "      margin-bottom: 4px;\n",
              "    }\n",
              "\n",
              "    [theme=dark] .colab-df-convert {\n",
              "      background-color: #3B4455;\n",
              "      fill: #D2E3FC;\n",
              "    }\n",
              "\n",
              "    [theme=dark] .colab-df-convert:hover {\n",
              "      background-color: #434B5C;\n",
              "      box-shadow: 0px 1px 3px 1px rgba(0, 0, 0, 0.15);\n",
              "      filter: drop-shadow(0px 1px 2px rgba(0, 0, 0, 0.3));\n",
              "      fill: #FFFFFF;\n",
              "    }\n",
              "  </style>\n",
              "\n",
              "    <script>\n",
              "      const buttonEl =\n",
              "        document.querySelector('#df-d244c77f-862c-480b-a42e-4e1e0b9533ff button.colab-df-convert');\n",
              "      buttonEl.style.display =\n",
              "        google.colab.kernel.accessAllowed ? 'block' : 'none';\n",
              "\n",
              "      async function convertToInteractive(key) {\n",
              "        const element = document.querySelector('#df-d244c77f-862c-480b-a42e-4e1e0b9533ff');\n",
              "        const dataTable =\n",
              "          await google.colab.kernel.invokeFunction('convertToInteractive',\n",
              "                                                    [key], {});\n",
              "        if (!dataTable) return;\n",
              "\n",
              "        const docLinkHtml = 'Like what you see? Visit the ' +\n",
              "          '<a target=\"_blank\" href=https://colab.research.google.com/notebooks/data_table.ipynb>data table notebook</a>'\n",
              "          + ' to learn more about interactive tables.';\n",
              "        element.innerHTML = '';\n",
              "        dataTable['output_type'] = 'display_data';\n",
              "        await google.colab.output.renderOutput(dataTable, element);\n",
              "        const docLink = document.createElement('div');\n",
              "        docLink.innerHTML = docLinkHtml;\n",
              "        element.appendChild(docLink);\n",
              "      }\n",
              "    </script>\n",
              "  </div>\n",
              "\n",
              "\n",
              "    <div id=\"df-ce53491e-9e83-4108-abf2-0c26c595d455\">\n",
              "      <button class=\"colab-df-quickchart\" onclick=\"quickchart('df-ce53491e-9e83-4108-abf2-0c26c595d455')\"\n",
              "                title=\"Suggest charts\"\n",
              "                style=\"display:none;\">\n",
              "\n",
              "<svg xmlns=\"http://www.w3.org/2000/svg\" height=\"24px\"viewBox=\"0 0 24 24\"\n",
              "     width=\"24px\">\n",
              "    <g>\n",
              "        <path d=\"M19 3H5c-1.1 0-2 .9-2 2v14c0 1.1.9 2 2 2h14c1.1 0 2-.9 2-2V5c0-1.1-.9-2-2-2zM9 17H7v-7h2v7zm4 0h-2V7h2v10zm4 0h-2v-4h2v4z\"/>\n",
              "    </g>\n",
              "</svg>\n",
              "      </button>\n",
              "\n",
              "<style>\n",
              "  .colab-df-quickchart {\n",
              "      --bg-color: #E8F0FE;\n",
              "      --fill-color: #1967D2;\n",
              "      --hover-bg-color: #E2EBFA;\n",
              "      --hover-fill-color: #174EA6;\n",
              "      --disabled-fill-color: #AAA;\n",
              "      --disabled-bg-color: #DDD;\n",
              "  }\n",
              "\n",
              "  [theme=dark] .colab-df-quickchart {\n",
              "      --bg-color: #3B4455;\n",
              "      --fill-color: #D2E3FC;\n",
              "      --hover-bg-color: #434B5C;\n",
              "      --hover-fill-color: #FFFFFF;\n",
              "      --disabled-bg-color: #3B4455;\n",
              "      --disabled-fill-color: #666;\n",
              "  }\n",
              "\n",
              "  .colab-df-quickchart {\n",
              "    background-color: var(--bg-color);\n",
              "    border: none;\n",
              "    border-radius: 50%;\n",
              "    cursor: pointer;\n",
              "    display: none;\n",
              "    fill: var(--fill-color);\n",
              "    height: 32px;\n",
              "    padding: 0;\n",
              "    width: 32px;\n",
              "  }\n",
              "\n",
              "  .colab-df-quickchart:hover {\n",
              "    background-color: var(--hover-bg-color);\n",
              "    box-shadow: 0 1px 2px rgba(60, 64, 67, 0.3), 0 1px 3px 1px rgba(60, 64, 67, 0.15);\n",
              "    fill: var(--button-hover-fill-color);\n",
              "  }\n",
              "\n",
              "  .colab-df-quickchart-complete:disabled,\n",
              "  .colab-df-quickchart-complete:disabled:hover {\n",
              "    background-color: var(--disabled-bg-color);\n",
              "    fill: var(--disabled-fill-color);\n",
              "    box-shadow: none;\n",
              "  }\n",
              "\n",
              "  .colab-df-spinner {\n",
              "    border: 2px solid var(--fill-color);\n",
              "    border-color: transparent;\n",
              "    border-bottom-color: var(--fill-color);\n",
              "    animation:\n",
              "      spin 1s steps(1) infinite;\n",
              "  }\n",
              "\n",
              "  @keyframes spin {\n",
              "    0% {\n",
              "      border-color: transparent;\n",
              "      border-bottom-color: var(--fill-color);\n",
              "      border-left-color: var(--fill-color);\n",
              "    }\n",
              "    20% {\n",
              "      border-color: transparent;\n",
              "      border-left-color: var(--fill-color);\n",
              "      border-top-color: var(--fill-color);\n",
              "    }\n",
              "    30% {\n",
              "      border-color: transparent;\n",
              "      border-left-color: var(--fill-color);\n",
              "      border-top-color: var(--fill-color);\n",
              "      border-right-color: var(--fill-color);\n",
              "    }\n",
              "    40% {\n",
              "      border-color: transparent;\n",
              "      border-right-color: var(--fill-color);\n",
              "      border-top-color: var(--fill-color);\n",
              "    }\n",
              "    60% {\n",
              "      border-color: transparent;\n",
              "      border-right-color: var(--fill-color);\n",
              "    }\n",
              "    80% {\n",
              "      border-color: transparent;\n",
              "      border-right-color: var(--fill-color);\n",
              "      border-bottom-color: var(--fill-color);\n",
              "    }\n",
              "    90% {\n",
              "      border-color: transparent;\n",
              "      border-bottom-color: var(--fill-color);\n",
              "    }\n",
              "  }\n",
              "</style>\n",
              "\n",
              "      <script>\n",
              "        async function quickchart(key) {\n",
              "          const quickchartButtonEl =\n",
              "            document.querySelector('#' + key + ' button');\n",
              "          quickchartButtonEl.disabled = true;  // To prevent multiple clicks.\n",
              "          quickchartButtonEl.classList.add('colab-df-spinner');\n",
              "          try {\n",
              "            const charts = await google.colab.kernel.invokeFunction(\n",
              "                'suggestCharts', [key], {});\n",
              "          } catch (error) {\n",
              "            console.error('Error during call to suggestCharts:', error);\n",
              "          }\n",
              "          quickchartButtonEl.classList.remove('colab-df-spinner');\n",
              "          quickchartButtonEl.classList.add('colab-df-quickchart-complete');\n",
              "        }\n",
              "        (() => {\n",
              "          let quickchartButtonEl =\n",
              "            document.querySelector('#df-ce53491e-9e83-4108-abf2-0c26c595d455 button');\n",
              "          quickchartButtonEl.style.display =\n",
              "            google.colab.kernel.accessAllowed ? 'block' : 'none';\n",
              "        })();\n",
              "      </script>\n",
              "    </div>\n",
              "\n",
              "  <div id=\"id_3b7fd88e-0768-4398-9907-d802c8158ab4\">\n",
              "    <style>\n",
              "      .colab-df-generate {\n",
              "        background-color: #E8F0FE;\n",
              "        border: none;\n",
              "        border-radius: 50%;\n",
              "        cursor: pointer;\n",
              "        display: none;\n",
              "        fill: #1967D2;\n",
              "        height: 32px;\n",
              "        padding: 0 0 0 0;\n",
              "        width: 32px;\n",
              "      }\n",
              "\n",
              "      .colab-df-generate:hover {\n",
              "        background-color: #E2EBFA;\n",
              "        box-shadow: 0px 1px 2px rgba(60, 64, 67, 0.3), 0px 1px 3px 1px rgba(60, 64, 67, 0.15);\n",
              "        fill: #174EA6;\n",
              "      }\n",
              "\n",
              "      [theme=dark] .colab-df-generate {\n",
              "        background-color: #3B4455;\n",
              "        fill: #D2E3FC;\n",
              "      }\n",
              "\n",
              "      [theme=dark] .colab-df-generate:hover {\n",
              "        background-color: #434B5C;\n",
              "        box-shadow: 0px 1px 3px 1px rgba(0, 0, 0, 0.15);\n",
              "        filter: drop-shadow(0px 1px 2px rgba(0, 0, 0, 0.3));\n",
              "        fill: #FFFFFF;\n",
              "      }\n",
              "    </style>\n",
              "    <button class=\"colab-df-generate\" onclick=\"generateWithVariable('dfs')\"\n",
              "            title=\"Generate code using this dataframe.\"\n",
              "            style=\"display:none;\">\n",
              "\n",
              "  <svg xmlns=\"http://www.w3.org/2000/svg\" height=\"24px\"viewBox=\"0 0 24 24\"\n",
              "       width=\"24px\">\n",
              "    <path d=\"M7,19H8.4L18.45,9,17,7.55,7,17.6ZM5,21V16.75L18.45,3.32a2,2,0,0,1,2.83,0l1.4,1.43a1.91,1.91,0,0,1,.58,1.4,1.91,1.91,0,0,1-.58,1.4L9.25,21ZM18.45,9,17,7.55Zm-12,3A5.31,5.31,0,0,0,4.9,8.1,5.31,5.31,0,0,0,1,6.5,5.31,5.31,0,0,0,4.9,4.9,5.31,5.31,0,0,0,6.5,1,5.31,5.31,0,0,0,8.1,4.9,5.31,5.31,0,0,0,12,6.5,5.46,5.46,0,0,0,6.5,12Z\"/>\n",
              "  </svg>\n",
              "    </button>\n",
              "    <script>\n",
              "      (() => {\n",
              "      const buttonEl =\n",
              "        document.querySelector('#id_3b7fd88e-0768-4398-9907-d802c8158ab4 button.colab-df-generate');\n",
              "      buttonEl.style.display =\n",
              "        google.colab.kernel.accessAllowed ? 'block' : 'none';\n",
              "\n",
              "      buttonEl.onclick = () => {\n",
              "        google.colab.notebook.generateWithVariable('dfs');\n",
              "      }\n",
              "      })();\n",
              "    </script>\n",
              "  </div>\n",
              "\n",
              "    </div>\n",
              "  </div>\n"
            ],
            "application/vnd.google.colaboratory.intrinsic+json": {
              "type": "dataframe",
              "variable_name": "dfs",
              "summary": "{\n  \"name\": \"dfs\",\n  \"rows\": 53940,\n  \"fields\": [\n    {\n      \"column\": \"carat\",\n      \"properties\": {\n        \"dtype\": \"number\",\n        \"std\": 0.47401124440538067,\n        \"min\": 0.2,\n        \"max\": 5.01,\n        \"num_unique_values\": 273,\n        \"samples\": [\n          0.77,\n          1.58,\n          0.65\n        ],\n        \"semantic_type\": \"\",\n        \"description\": \"\"\n      }\n    },\n    {\n      \"column\": \"cut\",\n      \"properties\": {\n        \"dtype\": \"category\",\n        \"num_unique_values\": 5,\n        \"samples\": [\n          \"Premium\",\n          \"Fair\",\n          \"Good\"\n        ],\n        \"semantic_type\": \"\",\n        \"description\": \"\"\n      }\n    },\n    {\n      \"column\": \"color\",\n      \"properties\": {\n        \"dtype\": \"category\",\n        \"num_unique_values\": 7,\n        \"samples\": [\n          \"E\",\n          \"I\",\n          \"G\"\n        ],\n        \"semantic_type\": \"\",\n        \"description\": \"\"\n      }\n    },\n    {\n      \"column\": \"clarity\",\n      \"properties\": {\n        \"dtype\": \"category\",\n        \"num_unique_values\": 8,\n        \"samples\": [\n          \"SI1\",\n          \"VVS1\",\n          \"SI2\"\n        ],\n        \"semantic_type\": \"\",\n        \"description\": \"\"\n      }\n    },\n    {\n      \"column\": \"depth\",\n      \"properties\": {\n        \"dtype\": \"number\",\n        \"std\": 1.4326213188337733,\n        \"min\": 43.0,\n        \"max\": 79.0,\n        \"num_unique_values\": 184,\n        \"samples\": [\n          61.0,\n          62.9,\n          70.2\n        ],\n        \"semantic_type\": \"\",\n        \"description\": \"\"\n      }\n    },\n    {\n      \"column\": \"table\",\n      \"properties\": {\n        \"dtype\": \"number\",\n        \"std\": 2.234490562820938,\n        \"min\": 43.0,\n        \"max\": 95.0,\n        \"num_unique_values\": 127,\n        \"samples\": [\n          54.8,\n          61.5,\n          57.6\n        ],\n        \"semantic_type\": \"\",\n        \"description\": \"\"\n      }\n    },\n    {\n      \"column\": \"price\",\n      \"properties\": {\n        \"dtype\": \"number\",\n        \"std\": 3989,\n        \"min\": 326,\n        \"max\": 18823,\n        \"num_unique_values\": 11602,\n        \"samples\": [\n          16368,\n          895,\n          748\n        ],\n        \"semantic_type\": \"\",\n        \"description\": \"\"\n      }\n    },\n    {\n      \"column\": \"x\",\n      \"properties\": {\n        \"dtype\": \"number\",\n        \"std\": 1.1217607467924422,\n        \"min\": 0.0,\n        \"max\": 10.74,\n        \"num_unique_values\": 554,\n        \"samples\": [\n          5.88,\n          5.69,\n          4.61\n        ],\n        \"semantic_type\": \"\",\n        \"description\": \"\"\n      }\n    },\n    {\n      \"column\": \"y\",\n      \"properties\": {\n        \"dtype\": \"number\",\n        \"std\": 1.1421346741235396,\n        \"min\": 0.0,\n        \"max\": 58.9,\n        \"num_unique_values\": 552,\n        \"samples\": [\n          5.33,\n          5.61,\n          5.25\n        ],\n        \"semantic_type\": \"\",\n        \"description\": \"\"\n      }\n    },\n    {\n      \"column\": \"z\",\n      \"properties\": {\n        \"dtype\": \"number\",\n        \"std\": 0.7056988469499964,\n        \"min\": 0.0,\n        \"max\": 31.8,\n        \"num_unique_values\": 375,\n        \"samples\": [\n          3.36,\n          2.45,\n          2.7\n        ],\n        \"semantic_type\": \"\",\n        \"description\": \"\"\n      }\n    }\n  ]\n}"
            }
          },
          "metadata": {},
          "execution_count": 3
        }
      ]
    },
    {
      "cell_type": "code",
      "source": [
        "dfs.isnull().sum()"
      ],
      "metadata": {
        "colab": {
          "base_uri": "https://localhost:8080/",
          "height": 397
        },
        "id": "Z2ZdCe2Xk1jj",
        "outputId": "d1a4af8f-8de5-4338-9d54-90aaa987743b"
      },
      "execution_count": null,
      "outputs": [
        {
          "output_type": "execute_result",
          "data": {
            "text/plain": [
              "carat      0\n",
              "cut        0\n",
              "color      0\n",
              "clarity    0\n",
              "depth      0\n",
              "table      0\n",
              "price      0\n",
              "x          0\n",
              "y          0\n",
              "z          0\n",
              "dtype: int64"
            ],
            "text/html": [
              "<div>\n",
              "<style scoped>\n",
              "    .dataframe tbody tr th:only-of-type {\n",
              "        vertical-align: middle;\n",
              "    }\n",
              "\n",
              "    .dataframe tbody tr th {\n",
              "        vertical-align: top;\n",
              "    }\n",
              "\n",
              "    .dataframe thead th {\n",
              "        text-align: right;\n",
              "    }\n",
              "</style>\n",
              "<table border=\"1\" class=\"dataframe\">\n",
              "  <thead>\n",
              "    <tr style=\"text-align: right;\">\n",
              "      <th></th>\n",
              "      <th>0</th>\n",
              "    </tr>\n",
              "  </thead>\n",
              "  <tbody>\n",
              "    <tr>\n",
              "      <th>carat</th>\n",
              "      <td>0</td>\n",
              "    </tr>\n",
              "    <tr>\n",
              "      <th>cut</th>\n",
              "      <td>0</td>\n",
              "    </tr>\n",
              "    <tr>\n",
              "      <th>color</th>\n",
              "      <td>0</td>\n",
              "    </tr>\n",
              "    <tr>\n",
              "      <th>clarity</th>\n",
              "      <td>0</td>\n",
              "    </tr>\n",
              "    <tr>\n",
              "      <th>depth</th>\n",
              "      <td>0</td>\n",
              "    </tr>\n",
              "    <tr>\n",
              "      <th>table</th>\n",
              "      <td>0</td>\n",
              "    </tr>\n",
              "    <tr>\n",
              "      <th>price</th>\n",
              "      <td>0</td>\n",
              "    </tr>\n",
              "    <tr>\n",
              "      <th>x</th>\n",
              "      <td>0</td>\n",
              "    </tr>\n",
              "    <tr>\n",
              "      <th>y</th>\n",
              "      <td>0</td>\n",
              "    </tr>\n",
              "    <tr>\n",
              "      <th>z</th>\n",
              "      <td>0</td>\n",
              "    </tr>\n",
              "  </tbody>\n",
              "</table>\n",
              "</div><br><label><b>dtype:</b> int64</label>"
            ]
          },
          "metadata": {},
          "execution_count": 4
        }
      ]
    },
    {
      "cell_type": "code",
      "source": [
        "dfs.duplicated().sum()"
      ],
      "metadata": {
        "colab": {
          "base_uri": "https://localhost:8080/"
        },
        "id": "OOrDF2aqk4eI",
        "outputId": "b62ea102-d1e6-4c3a-ce26-62fc65c2215f"
      },
      "execution_count": null,
      "outputs": [
        {
          "output_type": "execute_result",
          "data": {
            "text/plain": [
              "np.int64(146)"
            ]
          },
          "metadata": {},
          "execution_count": 5
        }
      ]
    },
    {
      "cell_type": "code",
      "source": [
        "dfs.drop_duplicates(inplace=True)"
      ],
      "metadata": {
        "id": "txR2traYk5-Q"
      },
      "execution_count": null,
      "outputs": []
    },
    {
      "cell_type": "code",
      "source": [
        "dfs.dtypes"
      ],
      "metadata": {
        "colab": {
          "base_uri": "https://localhost:8080/",
          "height": 397
        },
        "id": "j0eCGFQ2x0zD",
        "outputId": "3137d572-a3b6-49ca-e8f4-db90cbda160c"
      },
      "execution_count": null,
      "outputs": [
        {
          "output_type": "execute_result",
          "data": {
            "text/plain": [
              "carat       float64\n",
              "cut        category\n",
              "color      category\n",
              "clarity    category\n",
              "depth       float64\n",
              "table       float64\n",
              "price         int64\n",
              "x           float64\n",
              "y           float64\n",
              "z           float64\n",
              "dtype: object"
            ],
            "text/html": [
              "<div>\n",
              "<style scoped>\n",
              "    .dataframe tbody tr th:only-of-type {\n",
              "        vertical-align: middle;\n",
              "    }\n",
              "\n",
              "    .dataframe tbody tr th {\n",
              "        vertical-align: top;\n",
              "    }\n",
              "\n",
              "    .dataframe thead th {\n",
              "        text-align: right;\n",
              "    }\n",
              "</style>\n",
              "<table border=\"1\" class=\"dataframe\">\n",
              "  <thead>\n",
              "    <tr style=\"text-align: right;\">\n",
              "      <th></th>\n",
              "      <th>0</th>\n",
              "    </tr>\n",
              "  </thead>\n",
              "  <tbody>\n",
              "    <tr>\n",
              "      <th>carat</th>\n",
              "      <td>float64</td>\n",
              "    </tr>\n",
              "    <tr>\n",
              "      <th>cut</th>\n",
              "      <td>category</td>\n",
              "    </tr>\n",
              "    <tr>\n",
              "      <th>color</th>\n",
              "      <td>category</td>\n",
              "    </tr>\n",
              "    <tr>\n",
              "      <th>clarity</th>\n",
              "      <td>category</td>\n",
              "    </tr>\n",
              "    <tr>\n",
              "      <th>depth</th>\n",
              "      <td>float64</td>\n",
              "    </tr>\n",
              "    <tr>\n",
              "      <th>table</th>\n",
              "      <td>float64</td>\n",
              "    </tr>\n",
              "    <tr>\n",
              "      <th>price</th>\n",
              "      <td>int64</td>\n",
              "    </tr>\n",
              "    <tr>\n",
              "      <th>x</th>\n",
              "      <td>float64</td>\n",
              "    </tr>\n",
              "    <tr>\n",
              "      <th>y</th>\n",
              "      <td>float64</td>\n",
              "    </tr>\n",
              "    <tr>\n",
              "      <th>z</th>\n",
              "      <td>float64</td>\n",
              "    </tr>\n",
              "  </tbody>\n",
              "</table>\n",
              "</div><br><label><b>dtype:</b> object</label>"
            ]
          },
          "metadata": {},
          "execution_count": 7
        }
      ]
    },
    {
      "cell_type": "code",
      "source": [
        "numeric_cols = ['carat', 'depth', 'table', 'price', 'x', 'y', 'z']\n",
        "\n",
        "outlier_counts = {}\n",
        "\n",
        "for col in numeric_cols:\n",
        "    Q1 = dfs[col].quantile(0.25)\n",
        "    Q3 = dfs[col].quantile(0.75)\n",
        "    IQR = Q3 - Q1\n",
        "    lower_bound = Q1 - 1.5 * IQR\n",
        "    upper_bound = Q3 + 1.5 * IQR\n",
        "    outliers = dfs[(dfs[col] < lower_bound) | (dfs[col] > upper_bound)]\n",
        "    outlier_counts[col] = len(outliers)\n",
        "\n",
        "for col, count in outlier_counts.items():\n",
        "    print(f\"{col}: {count} outliers\")\n",
        "\n",
        "dfs.shape"
      ],
      "metadata": {
        "colab": {
          "base_uri": "https://localhost:8080/"
        },
        "id": "u2stiqLkw0fU",
        "outputId": "a1fe084c-47c8-4018-e2ae-260d8367ed29"
      },
      "execution_count": null,
      "outputs": [
        {
          "output_type": "stream",
          "name": "stdout",
          "text": [
            "carat: 1873 outliers\n",
            "depth: 2525 outliers\n",
            "table: 604 outliers\n",
            "price: 3523 outliers\n",
            "x: 31 outliers\n",
            "y: 28 outliers\n",
            "z: 48 outliers\n"
          ]
        },
        {
          "output_type": "execute_result",
          "data": {
            "text/plain": [
              "(53794, 10)"
            ]
          },
          "metadata": {},
          "execution_count": 8
        }
      ]
    },
    {
      "cell_type": "code",
      "source": [
        "def remove_outliers_zscore(dfs, column, threshold=3):\n",
        "    mean = dfs[column].mean()\n",
        "    std = dfs[column].std()\n",
        "    z_scores = (dfs[column] - mean) / std\n",
        "    df = dfs[(z_scores < threshold) & (z_scores > -threshold)].copy()\n",
        "    return df\n",
        "df=dfs.copy()\n",
        "for col in numeric_cols:\n",
        "    df = remove_outliers_zscore(df, col)\n",
        "\n",
        "df.shape"
      ],
      "metadata": {
        "colab": {
          "base_uri": "https://localhost:8080/"
        },
        "id": "ieXUu3y6w6Ud",
        "outputId": "41ea5d92-9aba-44ad-95d8-b3526cc21058"
      },
      "execution_count": null,
      "outputs": [
        {
          "output_type": "execute_result",
          "data": {
            "text/plain": [
              "(51051, 10)"
            ]
          },
          "metadata": {},
          "execution_count": 9
        }
      ]
    },
    {
      "cell_type": "code",
      "source": [
        "df['cut'].unique()"
      ],
      "metadata": {
        "colab": {
          "base_uri": "https://localhost:8080/"
        },
        "id": "d2b_L8kvx9Wu",
        "outputId": "0c481916-9cc8-4a07-bb18-e874078827ec"
      },
      "execution_count": null,
      "outputs": [
        {
          "output_type": "execute_result",
          "data": {
            "text/plain": [
              "['Ideal', 'Premium', 'Good', 'Very Good', 'Fair']\n",
              "Categories (5, object): ['Ideal', 'Premium', 'Very Good', 'Good', 'Fair']"
            ]
          },
          "metadata": {},
          "execution_count": 10
        }
      ]
    },
    {
      "cell_type": "code",
      "source": [
        "df['color'].unique()"
      ],
      "metadata": {
        "colab": {
          "base_uri": "https://localhost:8080/"
        },
        "id": "WvYU46WSx9TI",
        "outputId": "697c0f83-61e2-4fb2-d0eb-4b1d5caa2ad5"
      },
      "execution_count": null,
      "outputs": [
        {
          "output_type": "execute_result",
          "data": {
            "text/plain": [
              "['E', 'I', 'J', 'H', 'F', 'G', 'D']\n",
              "Categories (7, object): ['D', 'E', 'F', 'G', 'H', 'I', 'J']"
            ]
          },
          "metadata": {},
          "execution_count": 11
        }
      ]
    },
    {
      "cell_type": "code",
      "source": [
        "df['clarity'].unique()"
      ],
      "metadata": {
        "colab": {
          "base_uri": "https://localhost:8080/"
        },
        "id": "GNcmATECx9Qy",
        "outputId": "2a65bfdc-2a56-4879-94f7-3c448f54651f"
      },
      "execution_count": null,
      "outputs": [
        {
          "output_type": "execute_result",
          "data": {
            "text/plain": [
              "['SI2', 'SI1', 'VS2', 'VVS2', 'VVS1', 'VS1', 'I1', 'IF']\n",
              "Categories (8, object): ['IF', 'VVS1', 'VVS2', 'VS1', 'VS2', 'SI1', 'SI2', 'I1']"
            ]
          },
          "metadata": {},
          "execution_count": 12
        }
      ]
    },
    {
      "cell_type": "code",
      "source": [
        "df['depth'].unique()"
      ],
      "metadata": {
        "colab": {
          "base_uri": "https://localhost:8080/"
        },
        "id": "WlgRwkK0yA_U",
        "outputId": "bc43afef-40e7-488e-d4dd-6396877eef53"
      },
      "execution_count": null,
      "outputs": [
        {
          "output_type": "execute_result",
          "data": {
            "text/plain": [
              "array([61.5, 59.8, 62.4, 63.3, 62.8, 62.3, 61.9, 65.1, 59.4, 64. , 60.4,\n",
              "       62.2, 60.2, 60.9, 62. , 63.4, 63.8, 62.7, 61. , 58.1, 62.5, 60.5,\n",
              "       60. , 60.7, 59.5, 58.2, 64.1, 60.8, 61.8, 61.2, 61.1, 65.2, 58.4,\n",
              "       63.1, 61.6, 59.3, 62.6, 63. , 63.2, 62.1, 61.4, 62.9, 63.7, 59.2,\n",
              "       59.9, 57.9, 57.5, 61.7, 58.8, 64.5, 65.3, 59.6, 64.4, 65.7, 63.6,\n",
              "       61.3, 60.1, 60.3, 58. , 64.6, 59.7, 57.8, 60.6, 64.2, 65.8, 63.5,\n",
              "       63.9, 58.6, 64.3, 58.5, 65. , 58.3, 64.9, 59.1, 59. , 58.9, 58.7,\n",
              "       57.7, 65.4, 65.5, 66. , 57.6, 65.6, 64.8, 64.7, 65.9])"
            ]
          },
          "metadata": {},
          "execution_count": 13
        }
      ]
    },
    {
      "cell_type": "code",
      "source": [
        "min_value = df['depth'].min()\n",
        "max_value = df['depth'].max()\n",
        "value_range = max_value - min_value\n",
        "\n",
        "print(f\"Minimum value in 'depth': {min_value}\")\n",
        "print(f\"Maximum value in 'depth': {max_value}\")\n",
        "print(f\"Range of values in 'depth': {value_range}\")"
      ],
      "metadata": {
        "colab": {
          "base_uri": "https://localhost:8080/"
        },
        "id": "VHlB8Dv5yF64",
        "outputId": "334e589c-1463-4879-ccca-e08080103d82"
      },
      "execution_count": null,
      "outputs": [
        {
          "output_type": "stream",
          "name": "stdout",
          "text": [
            "Minimum value in 'depth': 57.5\n",
            "Maximum value in 'depth': 66.0\n",
            "Range of values in 'depth': 8.5\n"
          ]
        }
      ]
    },
    {
      "cell_type": "code",
      "source": [
        "df['carat'].unique()"
      ],
      "metadata": {
        "colab": {
          "base_uri": "https://localhost:8080/"
        },
        "id": "zxkTrcDtyF3U",
        "outputId": "f4f5fae2-408b-4b8e-c7df-320a30dd1b8d"
      },
      "execution_count": null,
      "outputs": [
        {
          "output_type": "execute_result",
          "data": {
            "text/plain": [
              "array([0.23, 0.21, 0.29, 0.31, 0.24, 0.26, 0.22, 0.3 , 0.2 , 0.32, 0.33,\n",
              "       0.25, 0.35, 0.42, 0.28, 0.38, 0.7 , 0.71, 0.78, 0.73, 0.8 , 0.75,\n",
              "       0.74, 0.81, 0.59, 0.9 , 0.91, 0.61, 0.77, 0.63, 0.76, 0.64, 0.72,\n",
              "       0.79, 0.58, 1.17, 0.6 , 0.83, 0.54, 0.52, 1.01, 0.51, 1.05, 0.55,\n",
              "       0.87, 1.  , 0.57, 0.82, 0.96, 1.04, 0.53, 0.93, 1.2 , 0.34, 0.43,\n",
              "       0.36, 0.84, 0.89, 1.02, 0.86, 0.97, 0.56, 0.85, 0.92, 1.27, 0.66,\n",
              "       1.12, 0.68, 1.03, 0.62, 1.22, 0.95, 1.08, 0.5 , 1.19, 0.98, 0.39,\n",
              "       0.65, 1.24, 1.5 , 0.27, 0.41, 1.13, 1.06, 0.69, 0.88, 0.4 , 1.14,\n",
              "       0.94, 1.29, 1.23, 0.67, 1.11, 1.1 , 1.18, 1.15, 1.25, 1.07, 1.28,\n",
              "       1.21, 1.09, 1.51, 1.52, 1.16, 0.37, 1.31, 1.26, 1.39, 0.99, 1.44,\n",
              "       1.35, 1.3 , 1.32, 1.41, 1.34, 1.58, 1.54, 1.36, 1.38, 1.33, 1.74,\n",
              "       1.64, 1.4 , 1.55, 1.95, 2.  , 1.37, 1.62, 1.57, 1.69, 2.06, 1.66,\n",
              "       1.49, 1.46, 2.15, 1.7 , 1.53, 1.85, 1.68, 1.56, 2.03, 1.73, 1.59,\n",
              "       1.42, 1.43, 1.47, 2.08, 1.48, 1.6 , 1.83, 1.45, 1.71, 2.02, 2.21,\n",
              "       2.01, 2.1 , 1.91, 1.65, 1.72, 1.61, 1.63, 1.75, 2.04, 2.12, 1.77,\n",
              "       2.11, 1.8 , 1.67, 1.84, 1.88, 2.16, 1.78, 1.76, 2.17, 1.79, 1.94,\n",
              "       1.9 , 1.96, 1.86, 2.05, 1.87, 2.09, 1.89, 1.82, 2.19, 2.14, 2.18,\n",
              "       2.2 , 2.07, 1.81, 1.99, 2.13, 1.93, 1.97, 1.98, 1.92, 0.44, 0.45,\n",
              "       0.47, 0.46, 0.48, 0.49])"
            ]
          },
          "metadata": {},
          "execution_count": 15
        }
      ]
    },
    {
      "cell_type": "code",
      "source": [
        "min_value = df['carat'].min()\n",
        "max_value = df['carat'].max()\n",
        "value_range = max_value - min_value\n",
        "\n",
        "print(f\"Minimum value in 'carat': {min_value}\")\n",
        "print(f\"Maximum value in 'carat': {max_value}\")\n",
        "print(f\"Range of values in 'carat': {value_range}\")"
      ],
      "metadata": {
        "colab": {
          "base_uri": "https://localhost:8080/"
        },
        "id": "zpq8QwriyFx1",
        "outputId": "60490643-34e5-440c-b6a6-bcab838d6ac0"
      },
      "execution_count": null,
      "outputs": [
        {
          "output_type": "stream",
          "name": "stdout",
          "text": [
            "Minimum value in 'carat': 0.2\n",
            "Maximum value in 'carat': 2.21\n",
            "Range of values in 'carat': 2.01\n"
          ]
        }
      ]
    },
    {
      "cell_type": "code",
      "source": [
        "df['table'].unique()"
      ],
      "metadata": {
        "colab": {
          "base_uri": "https://localhost:8080/"
        },
        "id": "PRfomCR2yKKm",
        "outputId": "2dcd2108-088d-43e8-d892-f9968dd4ff20"
      },
      "execution_count": null,
      "outputs": [
        {
          "output_type": "execute_result",
          "data": {
            "text/plain": [
              "array([55. , 61. , 58. , 57. , 56. , 54. , 62. , 59. , 63. , 60. , 55.3,\n",
              "       53. , 56.4, 60.5, 52. , 55.8, 54.4, 57.1, 53.6, 54.8, 54.2, 54.9,\n",
              "       56.7, 53.9, 57.8, 54.1, 55.1, 51. , 58.1, 56.9, 56.5, 53.7, 60.7,\n",
              "       56.2, 56.6, 56.1, 56.3, 57.2, 57.5, 60.9, 59.8, 62.3, 60.1, 55.9,\n",
              "       62.2, 54.5, 55.7, 53.4, 54.7, 58.8, 59.4, 62.5, 54.3, 60.6, 55.2,\n",
              "       58.6, 54.6, 62.6, 57.7, 56.8, 57.9, 60.3, 55.6, 59.5, 57.4, 62.4,\n",
              "       60.4, 53.3, 60.2, 60.8, 58.5, 57.6, 59.9, 63.5, 57.3, 61.4, 58.3,\n",
              "       55.4, 58.2, 53.5, 59.7, 55.5, 58.7, 53.8, 59.1, 53.2, 59.3, 61.1,\n",
              "       51.6, 59.2, 58.4, 53.1, 52.8, 61.3, 61.2, 61.9, 61.8, 59.6, 61.5,\n",
              "       58.9, 62.8, 52.4, 63.3, 61.7, 63.4, 62.1, 61.6])"
            ]
          },
          "metadata": {},
          "execution_count": 17
        }
      ]
    },
    {
      "cell_type": "code",
      "source": [
        "min_value = df['table'].min()\n",
        "max_value = df['table'].max()\n",
        "value_range = max_value - min_value\n",
        "\n",
        "print(f\"Minimum value in 'table': {min_value}\")\n",
        "print(f\"Maximum value in 'table': {max_value}\")\n",
        "print(f\"Range of values in 'table': {value_range}\")"
      ],
      "metadata": {
        "colab": {
          "base_uri": "https://localhost:8080/"
        },
        "id": "EUDFN3PzyKHJ",
        "outputId": "f0f05c00-1050-425a-f95a-ea75f1f31b59"
      },
      "execution_count": null,
      "outputs": [
        {
          "output_type": "stream",
          "name": "stdout",
          "text": [
            "Minimum value in 'table': 51.0\n",
            "Maximum value in 'table': 63.5\n",
            "Range of values in 'table': 12.5\n"
          ]
        }
      ]
    },
    {
      "cell_type": "code",
      "source": [
        "df['price'].unique()"
      ],
      "metadata": {
        "colab": {
          "base_uri": "https://localhost:8080/"
        },
        "id": "lxoWAZSCyMC5",
        "outputId": "2257aac2-9f8f-4678-b2a8-3ffbc2676574"
      },
      "execution_count": null,
      "outputs": [
        {
          "output_type": "execute_result",
          "data": {
            "text/plain": [
              "array([ 326,  334,  335, ..., 2753, 2755, 2756])"
            ]
          },
          "metadata": {},
          "execution_count": 19
        }
      ]
    },
    {
      "cell_type": "code",
      "source": [
        "min_value = df['price'].min()\n",
        "max_value = df['price'].max()\n",
        "value_range = max_value - min_value\n",
        "\n",
        "print(f\"Minimum value in 'price': {min_value}\")\n",
        "print(f\"Maximum value in 'price': {max_value}\")\n",
        "print(f\"Range of values in 'price': {value_range}\")"
      ],
      "metadata": {
        "colab": {
          "base_uri": "https://localhost:8080/"
        },
        "id": "GtZViwSsyL_f",
        "outputId": "718c74c7-e213-4f57-e2d0-03be2ac4dd49"
      },
      "execution_count": null,
      "outputs": [
        {
          "output_type": "stream",
          "name": "stdout",
          "text": [
            "Minimum value in 'price': 326\n",
            "Maximum value in 'price': 15458\n",
            "Range of values in 'price': 15132\n"
          ]
        }
      ]
    },
    {
      "cell_type": "code",
      "source": [
        "df['x'].unique()"
      ],
      "metadata": {
        "colab": {
          "base_uri": "https://localhost:8080/"
        },
        "id": "5clZ6IIgyL9F",
        "outputId": "dda16cd6-7149-4db0-e666-a6d35e9f2341"
      },
      "execution_count": null,
      "outputs": [
        {
          "output_type": "execute_result",
          "data": {
            "text/plain": [
              "array([3.95, 3.89, 4.2 , 4.34, 3.94, 4.07, 3.87, 4.  , 4.25, 3.93, 3.88,\n",
              "       4.35, 3.79, 4.38, 4.31, 4.23, 4.21, 4.26, 3.85, 4.39, 4.44, 3.97,\n",
              "       4.28, 3.96, 4.04, 4.01, 3.92, 4.06, 3.83, 4.29, 4.13, 4.49, 3.99,\n",
              "       4.19, 4.24, 4.36, 4.33, 4.02, 4.45, 3.91, 4.3 , 4.43, 4.54, 4.78,\n",
              "       4.15, 4.08, 4.03, 4.65, 4.22, 5.7 , 5.68, 5.81, 5.85, 5.71, 5.77,\n",
              "       5.97, 5.8 , 6.  , 5.94, 5.87, 5.9 , 6.14, 5.38, 5.96, 6.16, 5.73,\n",
              "       5.98, 5.72, 6.01, 5.64, 5.57, 5.63, 5.65, 6.09, 5.56, 6.11, 6.03,\n",
              "       5.89, 5.69, 5.62, 5.88, 5.52, 5.74, 5.53, 5.78, 5.83, 5.66, 5.82,\n",
              "       5.79, 5.92, 5.39, 5.33, 6.83, 5.41, 5.25, 5.24, 5.67, 5.61, 5.76,\n",
              "       5.6 , 5.19, 5.84, 6.39, 5.14, 5.11, 5.54, 6.07, 6.29, 6.31, 6.49,\n",
              "       5.28, 5.48, 5.55, 6.41, 6.02, 5.91, 6.17, 6.61, 5.34, 5.12, 6.19,\n",
              "       5.43, 5.99, 5.95, 6.37, 5.93, 6.46, 6.45, 5.22, 5.75, 6.21, 6.15,\n",
              "       6.73, 5.49, 4.37, 4.47, 4.41, 4.27, 4.85, 4.32, 4.48, 4.5 , 4.56,\n",
              "       4.94, 4.09, 5.15, 6.3 , 5.86, 5.23, 6.08, 6.26, 6.55, 6.04, 6.2 ,\n",
              "       6.43, 6.36, 6.34, 5.2 , 5.37, 6.06, 5.51, 6.05, 6.9 , 5.36, 5.16,\n",
              "       5.45, 5.47, 6.27, 6.12, 6.6 , 6.35, 7.12, 6.25, 6.1 , 6.75, 6.22,\n",
              "       6.78, 6.38, 5.44, 4.05, 4.57, 4.6 , 4.52, 4.42, 4.46, 6.93, 6.4 ,\n",
              "       6.24, 5.27, 5.21, 6.47, 6.13, 5.59, 6.44, 6.53, 6.5 , 6.32, 5.08,\n",
              "       5.09, 6.62, 5.18, 5.3 , 6.68, 6.51, 6.23, 5.42, 4.66, 4.4 , 6.72,\n",
              "       6.18, 5.58, 5.03, 6.85, 6.67, 6.28, 7.26, 4.18, 4.77, 6.52, 6.57,\n",
              "       6.42, 5.5 , 6.92, 5.46, 5.35, 5.17, 4.64, 6.81, 6.33, 5.4 , 6.82,\n",
              "       6.54, 6.48, 6.58, 6.79, 6.59, 6.64, 4.67, 6.65, 5.13, 6.77, 6.8 ,\n",
              "       4.58, 4.55, 4.16, 4.12, 4.51, 6.71, 6.95, 4.14, 4.53, 6.89, 6.86,\n",
              "       6.91, 6.76, 6.96, 4.99, 4.61, 4.69, 4.71, 6.56, 4.1 , 4.7 , 7.4 ,\n",
              "       5.29, 5.26, 5.31, 6.63, 5.32, 7.29, 7.18, 6.87, 6.74, 7.43, 6.7 ,\n",
              "       6.66, 7.37, 6.69, 7.  , 4.11, 4.63, 6.94, 7.22, 7.06, 7.05, 4.73,\n",
              "       4.75, 4.74, 7.02, 7.01, 7.16, 7.11, 6.88, 7.1 , 4.98, 6.84, 7.15,\n",
              "       6.98, 7.31, 7.38, 7.39, 7.33, 4.17, 4.59, 7.28, 7.08, 6.97, 6.99,\n",
              "       4.62, 4.83, 4.68, 7.07, 7.34, 7.21, 7.03, 7.17, 7.55, 4.79, 7.25,\n",
              "       7.19, 7.04, 7.62, 7.14, 3.98, 7.09, 4.8 , 7.44, 7.13, 7.32, 7.2 ,\n",
              "       7.48, 8.1 , 8.11, 7.23, 7.27, 7.42, 7.7 , 4.76, 4.72, 7.24, 7.79,\n",
              "       7.54, 7.63, 7.46, 4.84, 8.01, 7.36, 7.56, 4.87, 7.3 , 7.78, 7.8 ,\n",
              "       7.45, 7.52, 7.91, 7.53, 7.59, 8.03, 7.6 , 8.23, 7.41, 7.49, 7.68,\n",
              "       7.35, 7.84, 7.58, 8.19, 7.87, 7.47, 8.25, 7.61, 7.97, 8.31, 8.3 ,\n",
              "       8.05, 7.76, 7.5 , 4.88, 7.93, 7.89, 7.66, 7.75, 7.88, 7.99, 7.51,\n",
              "       7.57, 7.69, 7.71, 7.64, 7.83, 8.39, 7.77, 7.73, 7.72, 8.13, 4.82,\n",
              "       7.65, 8.16, 7.94, 7.67, 4.91, 4.81, 7.86, 7.9 , 7.74, 8.07, 8.  ,\n",
              "       7.96, 8.28, 8.4 , 8.43, 7.85, 8.04, 8.15, 7.98, 8.02, 8.08, 8.18,\n",
              "       7.82, 8.12, 8.17, 8.33, 8.34, 7.92, 8.57, 8.52, 7.95, 8.06, 8.27,\n",
              "       8.22, 7.81, 8.36, 8.09, 8.21, 8.14, 8.29, 8.2 , 8.37, 8.45, 8.42,\n",
              "       8.32, 8.24, 8.26, 8.49, 8.38, 8.46, 8.44, 8.6 , 8.35, 8.51, 8.41,\n",
              "       8.48, 8.54, 4.86, 4.89, 4.9 , 3.9 , 4.92, 3.86, 4.93, 4.96, 5.04,\n",
              "       5.  , 4.95, 5.01, 5.05, 3.81, 3.84, 3.73, 3.74, 3.76, 3.77, 4.97,\n",
              "       5.06, 5.02, 5.1 , 5.07, 3.82])"
            ]
          },
          "metadata": {},
          "execution_count": 21
        }
      ]
    },
    {
      "cell_type": "code",
      "source": [
        "df['x'].value_counts()"
      ],
      "metadata": {
        "colab": {
          "base_uri": "https://localhost:8080/",
          "height": 489
        },
        "id": "QUBc3y0ZydjM",
        "outputId": "c5cd524a-5d36-4bc8-a778-17c6adbd09c4"
      },
      "execution_count": null,
      "outputs": [
        {
          "output_type": "execute_result",
          "data": {
            "text/plain": [
              "x\n",
              "4.37    443\n",
              "4.34    434\n",
              "4.33    428\n",
              "4.38    425\n",
              "4.32    422\n",
              "       ... \n",
              "8.54      1\n",
              "3.76      1\n",
              "3.74      1\n",
              "3.77      1\n",
              "8.49      1\n",
              "Name: count, Length: 478, dtype: int64"
            ],
            "text/html": [
              "<div>\n",
              "<style scoped>\n",
              "    .dataframe tbody tr th:only-of-type {\n",
              "        vertical-align: middle;\n",
              "    }\n",
              "\n",
              "    .dataframe tbody tr th {\n",
              "        vertical-align: top;\n",
              "    }\n",
              "\n",
              "    .dataframe thead th {\n",
              "        text-align: right;\n",
              "    }\n",
              "</style>\n",
              "<table border=\"1\" class=\"dataframe\">\n",
              "  <thead>\n",
              "    <tr style=\"text-align: right;\">\n",
              "      <th></th>\n",
              "      <th>count</th>\n",
              "    </tr>\n",
              "    <tr>\n",
              "      <th>x</th>\n",
              "      <th></th>\n",
              "    </tr>\n",
              "  </thead>\n",
              "  <tbody>\n",
              "    <tr>\n",
              "      <th>4.37</th>\n",
              "      <td>443</td>\n",
              "    </tr>\n",
              "    <tr>\n",
              "      <th>4.34</th>\n",
              "      <td>434</td>\n",
              "    </tr>\n",
              "    <tr>\n",
              "      <th>4.33</th>\n",
              "      <td>428</td>\n",
              "    </tr>\n",
              "    <tr>\n",
              "      <th>4.38</th>\n",
              "      <td>425</td>\n",
              "    </tr>\n",
              "    <tr>\n",
              "      <th>4.32</th>\n",
              "      <td>422</td>\n",
              "    </tr>\n",
              "    <tr>\n",
              "      <th>...</th>\n",
              "      <td>...</td>\n",
              "    </tr>\n",
              "    <tr>\n",
              "      <th>8.54</th>\n",
              "      <td>1</td>\n",
              "    </tr>\n",
              "    <tr>\n",
              "      <th>3.76</th>\n",
              "      <td>1</td>\n",
              "    </tr>\n",
              "    <tr>\n",
              "      <th>3.74</th>\n",
              "      <td>1</td>\n",
              "    </tr>\n",
              "    <tr>\n",
              "      <th>3.77</th>\n",
              "      <td>1</td>\n",
              "    </tr>\n",
              "    <tr>\n",
              "      <th>8.49</th>\n",
              "      <td>1</td>\n",
              "    </tr>\n",
              "  </tbody>\n",
              "</table>\n",
              "<p>478 rows × 1 columns</p>\n",
              "</div><br><label><b>dtype:</b> int64</label>"
            ]
          },
          "metadata": {},
          "execution_count": 22
        }
      ]
    },
    {
      "cell_type": "code",
      "source": [
        "min_value = df['x'].min()\n",
        "max_value = df['x'].max()\n",
        "value_range = max_value - min_value\n",
        "\n",
        "print(f\"Minimum value in 'x': {min_value}\")\n",
        "print(f\"Maximum value in 'x': {max_value}\")\n",
        "print(f\"Range of values in 'x': {value_range}\")"
      ],
      "metadata": {
        "colab": {
          "base_uri": "https://localhost:8080/"
        },
        "id": "ZywMPkF-yL6u",
        "outputId": "e14d3ca9-bda0-477b-fefd-4d78d1d31ab1"
      },
      "execution_count": null,
      "outputs": [
        {
          "output_type": "stream",
          "name": "stdout",
          "text": [
            "Minimum value in 'x': 3.73\n",
            "Maximum value in 'x': 8.6\n",
            "Range of values in 'x': 4.869999999999999\n"
          ]
        }
      ]
    },
    {
      "cell_type": "code",
      "source": [
        "df['y'].unique()"
      ],
      "metadata": {
        "colab": {
          "base_uri": "https://localhost:8080/"
        },
        "id": "4IAdzGyhyRie",
        "outputId": "582b6acc-d262-4c3a-dce5-6e309a263d2c"
      },
      "execution_count": null,
      "outputs": [
        {
          "output_type": "execute_result",
          "data": {
            "text/plain": [
              "array([3.98, 3.84, 4.23, 4.35, 3.96, 4.11, 3.78, 4.05, 4.28, 3.9 , 4.37,\n",
              "       3.75, 4.42, 4.34, 4.29, 4.26, 4.27, 4.3 , 3.92, 4.43, 4.47, 4.01,\n",
              "       3.94, 3.97, 3.99, 4.03, 4.06, 4.08, 3.85, 4.31, 4.16, 4.51, 4.5 ,\n",
              "       4.55, 4.02, 4.24, 4.38, 3.95, 4.48, 3.89, 3.88, 4.33, 4.32, 4.59,\n",
              "       4.84, 4.22, 4.  , 4.25, 4.13, 4.09, 4.04, 4.12, 4.67, 5.72, 5.67,\n",
              "       5.73, 5.85, 5.9 , 5.76, 5.78, 5.93, 5.75, 5.96, 5.79, 5.87, 5.8 ,\n",
              "       5.81, 6.11, 5.43, 6.  , 5.84, 6.12, 5.82, 5.74, 5.94, 6.07, 5.69,\n",
              "       5.83, 5.61, 5.53, 5.58, 5.59, 5.97, 6.09, 5.99, 5.86, 5.68, 5.65,\n",
              "       5.55, 5.77, 5.91, 5.56, 5.89, 5.92, 6.03, 5.44, 5.37, 5.88, 6.9 ,\n",
              "       5.62, 5.27, 5.26, 5.7 , 5.64, 5.63, 5.71, 5.51, 5.22, 6.36, 5.54,\n",
              "       5.66, 5.18, 5.15, 6.1 , 6.21, 6.22, 6.45, 6.01, 5.3 , 5.41, 5.52,\n",
              "       6.27, 6.05, 6.06, 6.13, 6.55, 5.35, 5.16, 6.25, 6.02, 5.46, 6.23,\n",
              "       6.08, 5.95, 5.45, 6.41, 6.34, 5.25, 6.15, 6.19, 6.66, 4.36, 4.2 ,\n",
              "       4.79, 4.57, 4.52, 4.53, 4.58, 5.  , 5.11, 6.29, 6.04, 6.5 , 6.16,\n",
              "       5.6 , 6.39, 5.21, 5.4 , 5.98, 6.83, 6.37, 6.31, 5.38, 6.43, 5.29,\n",
              "       5.19, 6.18, 5.34, 5.48, 5.23, 6.14, 5.49, 5.57, 6.2 , 6.46, 7.05,\n",
              "       6.26, 6.67, 6.75, 4.66, 4.46, 4.56, 4.41, 4.4 , 4.39, 5.2 , 6.88,\n",
              "       5.31, 6.3 , 6.48, 5.47, 5.13, 6.49, 6.47, 5.12, 5.24, 6.35, 6.61,\n",
              "       4.7 , 6.24, 6.28, 5.08, 6.44, 6.79, 6.57, 6.92, 6.6 , 5.28, 5.42,\n",
              "       5.5 , 6.32, 7.09, 4.45, 4.62, 4.8 , 6.42, 6.85, 6.54, 6.38, 6.69,\n",
              "       6.59, 6.33, 4.69, 4.44, 4.49, 6.71, 6.4 , 6.51, 6.17, 5.39, 6.77,\n",
              "       6.52, 6.56, 6.62, 6.87, 6.58, 5.17, 4.65, 4.19, 4.07, 4.61, 6.64,\n",
              "       6.7 , 6.91, 6.8 , 6.53, 4.15, 4.71, 4.21, 4.68, 6.84, 6.81, 6.86,\n",
              "       4.96, 5.04, 5.09, 4.64, 4.74, 4.73, 4.6 , 6.74, 6.73, 4.75, 7.28,\n",
              "       5.32, 6.63, 7.17, 7.13, 4.1 , 4.63, 7.35, 6.68, 6.82, 6.65, 7.26,\n",
              "       6.78, 4.17, 4.9 , 6.89, 7.01, 7.1 , 6.72, 7.  , 5.36, 4.76, 4.78,\n",
              "       6.96, 7.15, 7.19, 6.93, 4.54, 7.34, 6.76, 7.18, 6.95, 4.14, 7.12,\n",
              "       7.04, 7.22, 7.2 , 6.94, 7.21, 4.18, 7.32, 7.06, 4.72, 7.03, 7.14,\n",
              "       6.97, 7.29, 7.51, 4.81, 6.98, 7.23, 7.25, 7.02, 7.59, 7.11, 4.82,\n",
              "       6.99, 7.07, 7.08, 7.4 , 7.41, 8.05, 8.06, 4.83, 7.44, 7.36, 7.79,\n",
              "       8.07, 7.7 , 7.45, 7.56, 4.88, 7.24, 7.16, 7.42, 7.33, 7.39, 7.27,\n",
              "       7.95, 4.87, 7.31, 4.77, 4.89, 7.37, 7.49, 7.38, 7.74, 7.75, 7.48,\n",
              "       7.54, 7.52, 7.5 , 7.43, 7.85, 7.6 , 7.3 , 7.99, 8.18, 7.8 , 7.55,\n",
              "       8.02, 8.2 , 7.65, 7.63, 7.58, 8.27, 8.19, 8.01, 7.66, 7.46, 4.94,\n",
              "       7.91, 7.86, 7.61, 7.57, 7.73, 7.47, 7.82, 7.53, 7.71, 7.92, 7.64,\n",
              "       7.98, 7.78, 8.12, 8.22, 7.62, 8.28, 7.72, 7.67, 4.85, 7.87, 7.94,\n",
              "       8.11, 8.3 , 4.98, 7.81, 7.83, 7.68, 8.25, 7.84, 4.86, 8.26, 7.69,\n",
              "       8.32, 8.35, 7.89, 8.04, 7.76, 8.21, 7.96, 8.03, 7.97, 8.17, 8.13,\n",
              "       7.9 , 8.33, 8.09, 8.08, 7.88, 8.31, 7.77, 8.53, 8.5 , 8.14, 8.15,\n",
              "       7.93, 8.16, 8.24, 8.  , 8.47, 8.1 , 8.23, 3.86, 8.39, 8.36, 4.97,\n",
              "       8.45, 8.37, 8.46, 8.29, 8.4 , 8.38, 8.41, 8.34, 8.43, 8.48, 8.49,\n",
              "       4.91, 4.93, 4.92, 3.93, 4.95, 5.01, 4.99, 5.05, 3.77, 3.8 , 3.71,\n",
              "       3.73, 3.68, 3.72, 5.07, 5.02, 5.03, 5.06, 3.87, 3.91, 5.14, 5.1 ,\n",
              "       5.33, 3.83, 3.81, 3.82])"
            ]
          },
          "metadata": {},
          "execution_count": 24
        }
      ]
    },
    {
      "cell_type": "code",
      "source": [
        "df['y'].value_counts()"
      ],
      "metadata": {
        "colab": {
          "base_uri": "https://localhost:8080/",
          "height": 489
        },
        "id": "xJxzp_mRyRfC",
        "outputId": "8c630912-4d07-48a1-9862-437a619095fc"
      },
      "execution_count": null,
      "outputs": [
        {
          "output_type": "execute_result",
          "data": {
            "text/plain": [
              "y\n",
              "4.34    436\n",
              "4.37    430\n",
              "4.35    423\n",
              "4.33    419\n",
              "4.32    411\n",
              "       ... \n",
              "8.48      1\n",
              "3.87      1\n",
              "3.83      1\n",
              "3.81      1\n",
              "3.82      1\n",
              "Name: count, Length: 477, dtype: int64"
            ],
            "text/html": [
              "<div>\n",
              "<style scoped>\n",
              "    .dataframe tbody tr th:only-of-type {\n",
              "        vertical-align: middle;\n",
              "    }\n",
              "\n",
              "    .dataframe tbody tr th {\n",
              "        vertical-align: top;\n",
              "    }\n",
              "\n",
              "    .dataframe thead th {\n",
              "        text-align: right;\n",
              "    }\n",
              "</style>\n",
              "<table border=\"1\" class=\"dataframe\">\n",
              "  <thead>\n",
              "    <tr style=\"text-align: right;\">\n",
              "      <th></th>\n",
              "      <th>count</th>\n",
              "    </tr>\n",
              "    <tr>\n",
              "      <th>y</th>\n",
              "      <th></th>\n",
              "    </tr>\n",
              "  </thead>\n",
              "  <tbody>\n",
              "    <tr>\n",
              "      <th>4.34</th>\n",
              "      <td>436</td>\n",
              "    </tr>\n",
              "    <tr>\n",
              "      <th>4.37</th>\n",
              "      <td>430</td>\n",
              "    </tr>\n",
              "    <tr>\n",
              "      <th>4.35</th>\n",
              "      <td>423</td>\n",
              "    </tr>\n",
              "    <tr>\n",
              "      <th>4.33</th>\n",
              "      <td>419</td>\n",
              "    </tr>\n",
              "    <tr>\n",
              "      <th>4.32</th>\n",
              "      <td>411</td>\n",
              "    </tr>\n",
              "    <tr>\n",
              "      <th>...</th>\n",
              "      <td>...</td>\n",
              "    </tr>\n",
              "    <tr>\n",
              "      <th>8.48</th>\n",
              "      <td>1</td>\n",
              "    </tr>\n",
              "    <tr>\n",
              "      <th>3.87</th>\n",
              "      <td>1</td>\n",
              "    </tr>\n",
              "    <tr>\n",
              "      <th>3.83</th>\n",
              "      <td>1</td>\n",
              "    </tr>\n",
              "    <tr>\n",
              "      <th>3.81</th>\n",
              "      <td>1</td>\n",
              "    </tr>\n",
              "    <tr>\n",
              "      <th>3.82</th>\n",
              "      <td>1</td>\n",
              "    </tr>\n",
              "  </tbody>\n",
              "</table>\n",
              "<p>477 rows × 1 columns</p>\n",
              "</div><br><label><b>dtype:</b> int64</label>"
            ]
          },
          "metadata": {},
          "execution_count": 25
        }
      ]
    },
    {
      "cell_type": "code",
      "source": [
        "min_value = df['y'].min()\n",
        "max_value = df['y'].max()\n",
        "value_range = max_value - min_value\n",
        "\n",
        "print(f\"Minimum value in 'y': {min_value}\")\n",
        "print(f\"Maximum value in 'y': {max_value}\")\n",
        "print(f\"Range of values in 'y': {value_range}\")"
      ],
      "metadata": {
        "colab": {
          "base_uri": "https://localhost:8080/"
        },
        "id": "K56_m5IxyRcx",
        "outputId": "dd7768e8-f964-48c0-cec5-5eccc3e4d24e"
      },
      "execution_count": null,
      "outputs": [
        {
          "output_type": "stream",
          "name": "stdout",
          "text": [
            "Minimum value in 'y': 3.68\n",
            "Maximum value in 'y': 8.53\n",
            "Range of values in 'y': 4.85\n"
          ]
        }
      ]
    },
    {
      "cell_type": "code",
      "source": [
        "df['z'].unique()"
      ],
      "metadata": {
        "colab": {
          "base_uri": "https://localhost:8080/"
        },
        "id": "eli-Am1nyVl8",
        "outputId": "fd52542f-8594-44c2-b3f0-1efd9e018e92"
      },
      "execution_count": null,
      "outputs": [
        {
          "output_type": "execute_result",
          "data": {
            "text/plain": [
              "array([2.43, 2.31, 2.63, 2.75, 2.48, 2.47, 2.53, 2.49, 2.39, 2.73, 2.46,\n",
              "       2.33, 2.71, 2.27, 2.68, 2.7 , 2.66, 2.41, 2.62, 2.59, 2.67, 2.4 ,\n",
              "       2.42, 2.44, 2.37, 2.52, 2.78, 2.76, 2.61, 2.65, 2.79, 2.54, 2.64,\n",
              "       2.45, 2.72, 2.69, 2.96, 2.58, 2.51, 2.56, 2.55, 2.87, 3.57, 3.5 ,\n",
              "       3.56, 3.72, 3.38, 3.4 , 3.66, 3.65, 3.58, 3.59, 3.63, 3.69, 3.61,\n",
              "       3.6 , 3.35, 3.67, 3.62, 3.87, 3.68, 3.49, 3.47, 3.46, 3.7 , 3.32,\n",
              "       3.93, 3.95, 3.64, 3.53, 3.37, 3.43, 3.51, 3.52, 3.54, 3.48, 3.55,\n",
              "       3.33, 3.3 , 4.13, 3.79, 3.24, 3.23, 3.19, 3.94, 3.21, 3.75, 3.18,\n",
              "       3.41, 4.03, 4.09, 3.22, 4.18, 3.76, 3.83, 3.31, 3.17, 3.74, 3.8 ,\n",
              "       3.39, 3.88, 4.  , 3.98, 3.85, 3.78, 3.84, 4.33, 4.01, 3.45, 2.74,\n",
              "       2.95, 2.8 , 2.77, 2.9 , 2.82, 3.77, 3.9 , 3.73, 4.08, 3.44, 3.34,\n",
              "       3.86, 3.89, 3.96, 3.42, 3.71, 3.91, 3.2 , 3.1 , 3.97, 4.02, 4.2 ,\n",
              "       4.11, 3.99, 4.23, 3.27, 3.92, 2.83, 2.81, 3.82, 3.81, 4.21, 4.29,\n",
              "       3.26, 2.88, 2.5 , 4.14, 4.26, 4.12, 3.25, 4.07, 4.7 , 4.19, 3.13,\n",
              "       4.04, 4.05, 4.27, 4.06, 2.97, 3.36, 4.1 , 4.42, 3.29, 4.25, 2.99,\n",
              "       3.16, 2.57, 2.84, 4.22, 4.15, 2.6 , 3.15, 4.32, 4.16, 4.3 , 2.85,\n",
              "       3.01, 3.28, 4.63, 4.65, 3.12, 4.52, 4.47, 4.17, 2.89, 4.24, 4.57,\n",
              "       4.36, 2.94, 4.34, 4.66, 4.54, 4.56, 3.14, 4.62, 4.37, 4.46, 4.31,\n",
              "       2.91, 4.5 , 4.39, 4.28, 4.4 , 4.55, 2.86, 2.35, 2.93, 4.41, 4.51,\n",
              "       4.45, 4.72, 4.48, 2.98, 2.92, 4.35, 4.53, 4.44, 4.6 , 4.8 , 3.  ,\n",
              "       4.38, 4.76, 4.49, 4.58, 4.87, 4.97, 4.59, 4.61, 4.64, 4.95, 4.43,\n",
              "       2.36, 5.23, 4.74, 5.1 , 4.92, 4.67, 4.78, 5.07, 4.93, 4.71, 5.15,\n",
              "       4.73, 5.06, 4.85, 4.75, 4.69, 5.18, 4.68, 4.94, 4.77, 5.02, 5.16,\n",
              "       4.79, 5.19, 4.99, 5.08, 4.81, 5.09, 5.01, 5.14, 5.  , 4.91, 5.12,\n",
              "       4.88, 4.89, 4.84, 4.82, 4.83, 1.53, 4.9 , 5.05, 5.11, 5.04, 4.96,\n",
              "       5.03, 4.86, 3.04, 5.21, 5.3 , 5.13, 4.98, 5.2 , 3.02, 5.22, 5.17,\n",
              "       3.03, 3.06, 3.05, 3.07, 3.09, 3.11, 3.08, 2.26, 2.24, 2.32, 2.28,\n",
              "       2.3 , 2.38, 2.34, 2.29, 2.06, 2.25])"
            ]
          },
          "metadata": {},
          "execution_count": 27
        }
      ]
    },
    {
      "cell_type": "code",
      "source": [
        "df['z'].value_counts()"
      ],
      "metadata": {
        "colab": {
          "base_uri": "https://localhost:8080/",
          "height": 489
        },
        "id": "lA7XAPvTyVii",
        "outputId": "6ba0f8d5-688d-4224-9bf6-ffc8a9d8e349"
      },
      "execution_count": null,
      "outputs": [
        {
          "output_type": "execute_result",
          "data": {
            "text/plain": [
              "z\n",
              "2.70    760\n",
              "2.69    744\n",
              "2.71    733\n",
              "2.68    730\n",
              "2.72    691\n",
              "       ... \n",
              "2.28      1\n",
              "2.34      1\n",
              "2.29      1\n",
              "2.06      1\n",
              "2.25      1\n",
              "Name: count, Length: 303, dtype: int64"
            ],
            "text/html": [
              "<div>\n",
              "<style scoped>\n",
              "    .dataframe tbody tr th:only-of-type {\n",
              "        vertical-align: middle;\n",
              "    }\n",
              "\n",
              "    .dataframe tbody tr th {\n",
              "        vertical-align: top;\n",
              "    }\n",
              "\n",
              "    .dataframe thead th {\n",
              "        text-align: right;\n",
              "    }\n",
              "</style>\n",
              "<table border=\"1\" class=\"dataframe\">\n",
              "  <thead>\n",
              "    <tr style=\"text-align: right;\">\n",
              "      <th></th>\n",
              "      <th>count</th>\n",
              "    </tr>\n",
              "    <tr>\n",
              "      <th>z</th>\n",
              "      <th></th>\n",
              "    </tr>\n",
              "  </thead>\n",
              "  <tbody>\n",
              "    <tr>\n",
              "      <th>2.70</th>\n",
              "      <td>760</td>\n",
              "    </tr>\n",
              "    <tr>\n",
              "      <th>2.69</th>\n",
              "      <td>744</td>\n",
              "    </tr>\n",
              "    <tr>\n",
              "      <th>2.71</th>\n",
              "      <td>733</td>\n",
              "    </tr>\n",
              "    <tr>\n",
              "      <th>2.68</th>\n",
              "      <td>730</td>\n",
              "    </tr>\n",
              "    <tr>\n",
              "      <th>2.72</th>\n",
              "      <td>691</td>\n",
              "    </tr>\n",
              "    <tr>\n",
              "      <th>...</th>\n",
              "      <td>...</td>\n",
              "    </tr>\n",
              "    <tr>\n",
              "      <th>2.28</th>\n",
              "      <td>1</td>\n",
              "    </tr>\n",
              "    <tr>\n",
              "      <th>2.34</th>\n",
              "      <td>1</td>\n",
              "    </tr>\n",
              "    <tr>\n",
              "      <th>2.29</th>\n",
              "      <td>1</td>\n",
              "    </tr>\n",
              "    <tr>\n",
              "      <th>2.06</th>\n",
              "      <td>1</td>\n",
              "    </tr>\n",
              "    <tr>\n",
              "      <th>2.25</th>\n",
              "      <td>1</td>\n",
              "    </tr>\n",
              "  </tbody>\n",
              "</table>\n",
              "<p>303 rows × 1 columns</p>\n",
              "</div><br><label><b>dtype:</b> int64</label>"
            ]
          },
          "metadata": {},
          "execution_count": 28
        }
      ]
    },
    {
      "cell_type": "code",
      "source": [
        "min_value = df['z'].min()\n",
        "max_value = df['z'].max()\n",
        "value_range = max_value - min_value\n",
        "\n",
        "print(f\"Minimum value in 'z': {min_value}\")\n",
        "print(f\"Maximum value in 'z': {max_value}\")\n",
        "print(f\"Range of values in 'z': {value_range}\")"
      ],
      "metadata": {
        "colab": {
          "base_uri": "https://localhost:8080/"
        },
        "id": "yYL7n1VTyVf7",
        "outputId": "235125d4-dcea-4137-f1cd-d4acab8881bc"
      },
      "execution_count": null,
      "outputs": [
        {
          "output_type": "stream",
          "name": "stdout",
          "text": [
            "Minimum value in 'z': 1.53\n",
            "Maximum value in 'z': 5.3\n",
            "Range of values in 'z': 3.7699999999999996\n"
          ]
        }
      ]
    },
    {
      "cell_type": "code",
      "source": [
        "df = pd.get_dummies(df, columns=['clarity', 'color', 'cut'])\n",
        "y = df[[col for col in df.columns if col.startswith('cut_')]]\n",
        "x = df.drop(columns=[col for col in df.columns if col.startswith('cut_')])"
      ],
      "metadata": {
        "id": "tSHJQz_sk8by"
      },
      "execution_count": null,
      "outputs": []
    },
    {
      "cell_type": "code",
      "source": [
        "y"
      ],
      "metadata": {
        "colab": {
          "base_uri": "https://localhost:8080/",
          "height": 423
        },
        "id": "SkDMzU7lnFhz",
        "outputId": "d39e297d-d597-4b0b-b64e-7f5e5262ff53"
      },
      "execution_count": null,
      "outputs": [
        {
          "output_type": "execute_result",
          "data": {
            "text/plain": [
              "       cut_Ideal  cut_Premium  cut_Very Good  cut_Good  cut_Fair\n",
              "0           True        False          False     False     False\n",
              "1          False         True          False     False     False\n",
              "3          False         True          False     False     False\n",
              "4          False        False          False      True     False\n",
              "5          False        False           True     False     False\n",
              "...          ...          ...            ...       ...       ...\n",
              "53935       True        False          False     False     False\n",
              "53936      False        False          False      True     False\n",
              "53937      False        False           True     False     False\n",
              "53938      False         True          False     False     False\n",
              "53939       True        False          False     False     False\n",
              "\n",
              "[51051 rows x 5 columns]"
            ],
            "text/html": [
              "\n",
              "  <div id=\"df-8b339187-8417-4e5c-b0a5-4da8024ed281\" class=\"colab-df-container\">\n",
              "    <div>\n",
              "<style scoped>\n",
              "    .dataframe tbody tr th:only-of-type {\n",
              "        vertical-align: middle;\n",
              "    }\n",
              "\n",
              "    .dataframe tbody tr th {\n",
              "        vertical-align: top;\n",
              "    }\n",
              "\n",
              "    .dataframe thead th {\n",
              "        text-align: right;\n",
              "    }\n",
              "</style>\n",
              "<table border=\"1\" class=\"dataframe\">\n",
              "  <thead>\n",
              "    <tr style=\"text-align: right;\">\n",
              "      <th></th>\n",
              "      <th>cut_Ideal</th>\n",
              "      <th>cut_Premium</th>\n",
              "      <th>cut_Very Good</th>\n",
              "      <th>cut_Good</th>\n",
              "      <th>cut_Fair</th>\n",
              "    </tr>\n",
              "  </thead>\n",
              "  <tbody>\n",
              "    <tr>\n",
              "      <th>0</th>\n",
              "      <td>True</td>\n",
              "      <td>False</td>\n",
              "      <td>False</td>\n",
              "      <td>False</td>\n",
              "      <td>False</td>\n",
              "    </tr>\n",
              "    <tr>\n",
              "      <th>1</th>\n",
              "      <td>False</td>\n",
              "      <td>True</td>\n",
              "      <td>False</td>\n",
              "      <td>False</td>\n",
              "      <td>False</td>\n",
              "    </tr>\n",
              "    <tr>\n",
              "      <th>3</th>\n",
              "      <td>False</td>\n",
              "      <td>True</td>\n",
              "      <td>False</td>\n",
              "      <td>False</td>\n",
              "      <td>False</td>\n",
              "    </tr>\n",
              "    <tr>\n",
              "      <th>4</th>\n",
              "      <td>False</td>\n",
              "      <td>False</td>\n",
              "      <td>False</td>\n",
              "      <td>True</td>\n",
              "      <td>False</td>\n",
              "    </tr>\n",
              "    <tr>\n",
              "      <th>5</th>\n",
              "      <td>False</td>\n",
              "      <td>False</td>\n",
              "      <td>True</td>\n",
              "      <td>False</td>\n",
              "      <td>False</td>\n",
              "    </tr>\n",
              "    <tr>\n",
              "      <th>...</th>\n",
              "      <td>...</td>\n",
              "      <td>...</td>\n",
              "      <td>...</td>\n",
              "      <td>...</td>\n",
              "      <td>...</td>\n",
              "    </tr>\n",
              "    <tr>\n",
              "      <th>53935</th>\n",
              "      <td>True</td>\n",
              "      <td>False</td>\n",
              "      <td>False</td>\n",
              "      <td>False</td>\n",
              "      <td>False</td>\n",
              "    </tr>\n",
              "    <tr>\n",
              "      <th>53936</th>\n",
              "      <td>False</td>\n",
              "      <td>False</td>\n",
              "      <td>False</td>\n",
              "      <td>True</td>\n",
              "      <td>False</td>\n",
              "    </tr>\n",
              "    <tr>\n",
              "      <th>53937</th>\n",
              "      <td>False</td>\n",
              "      <td>False</td>\n",
              "      <td>True</td>\n",
              "      <td>False</td>\n",
              "      <td>False</td>\n",
              "    </tr>\n",
              "    <tr>\n",
              "      <th>53938</th>\n",
              "      <td>False</td>\n",
              "      <td>True</td>\n",
              "      <td>False</td>\n",
              "      <td>False</td>\n",
              "      <td>False</td>\n",
              "    </tr>\n",
              "    <tr>\n",
              "      <th>53939</th>\n",
              "      <td>True</td>\n",
              "      <td>False</td>\n",
              "      <td>False</td>\n",
              "      <td>False</td>\n",
              "      <td>False</td>\n",
              "    </tr>\n",
              "  </tbody>\n",
              "</table>\n",
              "<p>51051 rows × 5 columns</p>\n",
              "</div>\n",
              "    <div class=\"colab-df-buttons\">\n",
              "\n",
              "  <div class=\"colab-df-container\">\n",
              "    <button class=\"colab-df-convert\" onclick=\"convertToInteractive('df-8b339187-8417-4e5c-b0a5-4da8024ed281')\"\n",
              "            title=\"Convert this dataframe to an interactive table.\"\n",
              "            style=\"display:none;\">\n",
              "\n",
              "  <svg xmlns=\"http://www.w3.org/2000/svg\" height=\"24px\" viewBox=\"0 -960 960 960\">\n",
              "    <path d=\"M120-120v-720h720v720H120Zm60-500h600v-160H180v160Zm220 220h160v-160H400v160Zm0 220h160v-160H400v160ZM180-400h160v-160H180v160Zm440 0h160v-160H620v160ZM180-180h160v-160H180v160Zm440 0h160v-160H620v160Z\"/>\n",
              "  </svg>\n",
              "    </button>\n",
              "\n",
              "  <style>\n",
              "    .colab-df-container {\n",
              "      display:flex;\n",
              "      gap: 12px;\n",
              "    }\n",
              "\n",
              "    .colab-df-convert {\n",
              "      background-color: #E8F0FE;\n",
              "      border: none;\n",
              "      border-radius: 50%;\n",
              "      cursor: pointer;\n",
              "      display: none;\n",
              "      fill: #1967D2;\n",
              "      height: 32px;\n",
              "      padding: 0 0 0 0;\n",
              "      width: 32px;\n",
              "    }\n",
              "\n",
              "    .colab-df-convert:hover {\n",
              "      background-color: #E2EBFA;\n",
              "      box-shadow: 0px 1px 2px rgba(60, 64, 67, 0.3), 0px 1px 3px 1px rgba(60, 64, 67, 0.15);\n",
              "      fill: #174EA6;\n",
              "    }\n",
              "\n",
              "    .colab-df-buttons div {\n",
              "      margin-bottom: 4px;\n",
              "    }\n",
              "\n",
              "    [theme=dark] .colab-df-convert {\n",
              "      background-color: #3B4455;\n",
              "      fill: #D2E3FC;\n",
              "    }\n",
              "\n",
              "    [theme=dark] .colab-df-convert:hover {\n",
              "      background-color: #434B5C;\n",
              "      box-shadow: 0px 1px 3px 1px rgba(0, 0, 0, 0.15);\n",
              "      filter: drop-shadow(0px 1px 2px rgba(0, 0, 0, 0.3));\n",
              "      fill: #FFFFFF;\n",
              "    }\n",
              "  </style>\n",
              "\n",
              "    <script>\n",
              "      const buttonEl =\n",
              "        document.querySelector('#df-8b339187-8417-4e5c-b0a5-4da8024ed281 button.colab-df-convert');\n",
              "      buttonEl.style.display =\n",
              "        google.colab.kernel.accessAllowed ? 'block' : 'none';\n",
              "\n",
              "      async function convertToInteractive(key) {\n",
              "        const element = document.querySelector('#df-8b339187-8417-4e5c-b0a5-4da8024ed281');\n",
              "        const dataTable =\n",
              "          await google.colab.kernel.invokeFunction('convertToInteractive',\n",
              "                                                    [key], {});\n",
              "        if (!dataTable) return;\n",
              "\n",
              "        const docLinkHtml = 'Like what you see? Visit the ' +\n",
              "          '<a target=\"_blank\" href=https://colab.research.google.com/notebooks/data_table.ipynb>data table notebook</a>'\n",
              "          + ' to learn more about interactive tables.';\n",
              "        element.innerHTML = '';\n",
              "        dataTable['output_type'] = 'display_data';\n",
              "        await google.colab.output.renderOutput(dataTable, element);\n",
              "        const docLink = document.createElement('div');\n",
              "        docLink.innerHTML = docLinkHtml;\n",
              "        element.appendChild(docLink);\n",
              "      }\n",
              "    </script>\n",
              "  </div>\n",
              "\n",
              "\n",
              "    <div id=\"df-5d87997d-2869-420c-88d1-a501c0bd43e9\">\n",
              "      <button class=\"colab-df-quickchart\" onclick=\"quickchart('df-5d87997d-2869-420c-88d1-a501c0bd43e9')\"\n",
              "                title=\"Suggest charts\"\n",
              "                style=\"display:none;\">\n",
              "\n",
              "<svg xmlns=\"http://www.w3.org/2000/svg\" height=\"24px\"viewBox=\"0 0 24 24\"\n",
              "     width=\"24px\">\n",
              "    <g>\n",
              "        <path d=\"M19 3H5c-1.1 0-2 .9-2 2v14c0 1.1.9 2 2 2h14c1.1 0 2-.9 2-2V5c0-1.1-.9-2-2-2zM9 17H7v-7h2v7zm4 0h-2V7h2v10zm4 0h-2v-4h2v4z\"/>\n",
              "    </g>\n",
              "</svg>\n",
              "      </button>\n",
              "\n",
              "<style>\n",
              "  .colab-df-quickchart {\n",
              "      --bg-color: #E8F0FE;\n",
              "      --fill-color: #1967D2;\n",
              "      --hover-bg-color: #E2EBFA;\n",
              "      --hover-fill-color: #174EA6;\n",
              "      --disabled-fill-color: #AAA;\n",
              "      --disabled-bg-color: #DDD;\n",
              "  }\n",
              "\n",
              "  [theme=dark] .colab-df-quickchart {\n",
              "      --bg-color: #3B4455;\n",
              "      --fill-color: #D2E3FC;\n",
              "      --hover-bg-color: #434B5C;\n",
              "      --hover-fill-color: #FFFFFF;\n",
              "      --disabled-bg-color: #3B4455;\n",
              "      --disabled-fill-color: #666;\n",
              "  }\n",
              "\n",
              "  .colab-df-quickchart {\n",
              "    background-color: var(--bg-color);\n",
              "    border: none;\n",
              "    border-radius: 50%;\n",
              "    cursor: pointer;\n",
              "    display: none;\n",
              "    fill: var(--fill-color);\n",
              "    height: 32px;\n",
              "    padding: 0;\n",
              "    width: 32px;\n",
              "  }\n",
              "\n",
              "  .colab-df-quickchart:hover {\n",
              "    background-color: var(--hover-bg-color);\n",
              "    box-shadow: 0 1px 2px rgba(60, 64, 67, 0.3), 0 1px 3px 1px rgba(60, 64, 67, 0.15);\n",
              "    fill: var(--button-hover-fill-color);\n",
              "  }\n",
              "\n",
              "  .colab-df-quickchart-complete:disabled,\n",
              "  .colab-df-quickchart-complete:disabled:hover {\n",
              "    background-color: var(--disabled-bg-color);\n",
              "    fill: var(--disabled-fill-color);\n",
              "    box-shadow: none;\n",
              "  }\n",
              "\n",
              "  .colab-df-spinner {\n",
              "    border: 2px solid var(--fill-color);\n",
              "    border-color: transparent;\n",
              "    border-bottom-color: var(--fill-color);\n",
              "    animation:\n",
              "      spin 1s steps(1) infinite;\n",
              "  }\n",
              "\n",
              "  @keyframes spin {\n",
              "    0% {\n",
              "      border-color: transparent;\n",
              "      border-bottom-color: var(--fill-color);\n",
              "      border-left-color: var(--fill-color);\n",
              "    }\n",
              "    20% {\n",
              "      border-color: transparent;\n",
              "      border-left-color: var(--fill-color);\n",
              "      border-top-color: var(--fill-color);\n",
              "    }\n",
              "    30% {\n",
              "      border-color: transparent;\n",
              "      border-left-color: var(--fill-color);\n",
              "      border-top-color: var(--fill-color);\n",
              "      border-right-color: var(--fill-color);\n",
              "    }\n",
              "    40% {\n",
              "      border-color: transparent;\n",
              "      border-right-color: var(--fill-color);\n",
              "      border-top-color: var(--fill-color);\n",
              "    }\n",
              "    60% {\n",
              "      border-color: transparent;\n",
              "      border-right-color: var(--fill-color);\n",
              "    }\n",
              "    80% {\n",
              "      border-color: transparent;\n",
              "      border-right-color: var(--fill-color);\n",
              "      border-bottom-color: var(--fill-color);\n",
              "    }\n",
              "    90% {\n",
              "      border-color: transparent;\n",
              "      border-bottom-color: var(--fill-color);\n",
              "    }\n",
              "  }\n",
              "</style>\n",
              "\n",
              "      <script>\n",
              "        async function quickchart(key) {\n",
              "          const quickchartButtonEl =\n",
              "            document.querySelector('#' + key + ' button');\n",
              "          quickchartButtonEl.disabled = true;  // To prevent multiple clicks.\n",
              "          quickchartButtonEl.classList.add('colab-df-spinner');\n",
              "          try {\n",
              "            const charts = await google.colab.kernel.invokeFunction(\n",
              "                'suggestCharts', [key], {});\n",
              "          } catch (error) {\n",
              "            console.error('Error during call to suggestCharts:', error);\n",
              "          }\n",
              "          quickchartButtonEl.classList.remove('colab-df-spinner');\n",
              "          quickchartButtonEl.classList.add('colab-df-quickchart-complete');\n",
              "        }\n",
              "        (() => {\n",
              "          let quickchartButtonEl =\n",
              "            document.querySelector('#df-5d87997d-2869-420c-88d1-a501c0bd43e9 button');\n",
              "          quickchartButtonEl.style.display =\n",
              "            google.colab.kernel.accessAllowed ? 'block' : 'none';\n",
              "        })();\n",
              "      </script>\n",
              "    </div>\n",
              "\n",
              "  <div id=\"id_a293d4a3-ee8d-4f49-a0d2-b43575b07115\">\n",
              "    <style>\n",
              "      .colab-df-generate {\n",
              "        background-color: #E8F0FE;\n",
              "        border: none;\n",
              "        border-radius: 50%;\n",
              "        cursor: pointer;\n",
              "        display: none;\n",
              "        fill: #1967D2;\n",
              "        height: 32px;\n",
              "        padding: 0 0 0 0;\n",
              "        width: 32px;\n",
              "      }\n",
              "\n",
              "      .colab-df-generate:hover {\n",
              "        background-color: #E2EBFA;\n",
              "        box-shadow: 0px 1px 2px rgba(60, 64, 67, 0.3), 0px 1px 3px 1px rgba(60, 64, 67, 0.15);\n",
              "        fill: #174EA6;\n",
              "      }\n",
              "\n",
              "      [theme=dark] .colab-df-generate {\n",
              "        background-color: #3B4455;\n",
              "        fill: #D2E3FC;\n",
              "      }\n",
              "\n",
              "      [theme=dark] .colab-df-generate:hover {\n",
              "        background-color: #434B5C;\n",
              "        box-shadow: 0px 1px 3px 1px rgba(0, 0, 0, 0.15);\n",
              "        filter: drop-shadow(0px 1px 2px rgba(0, 0, 0, 0.3));\n",
              "        fill: #FFFFFF;\n",
              "      }\n",
              "    </style>\n",
              "    <button class=\"colab-df-generate\" onclick=\"generateWithVariable('y')\"\n",
              "            title=\"Generate code using this dataframe.\"\n",
              "            style=\"display:none;\">\n",
              "\n",
              "  <svg xmlns=\"http://www.w3.org/2000/svg\" height=\"24px\"viewBox=\"0 0 24 24\"\n",
              "       width=\"24px\">\n",
              "    <path d=\"M7,19H8.4L18.45,9,17,7.55,7,17.6ZM5,21V16.75L18.45,3.32a2,2,0,0,1,2.83,0l1.4,1.43a1.91,1.91,0,0,1,.58,1.4,1.91,1.91,0,0,1-.58,1.4L9.25,21ZM18.45,9,17,7.55Zm-12,3A5.31,5.31,0,0,0,4.9,8.1,5.31,5.31,0,0,0,1,6.5,5.31,5.31,0,0,0,4.9,4.9,5.31,5.31,0,0,0,6.5,1,5.31,5.31,0,0,0,8.1,4.9,5.31,5.31,0,0,0,12,6.5,5.46,5.46,0,0,0,6.5,12Z\"/>\n",
              "  </svg>\n",
              "    </button>\n",
              "    <script>\n",
              "      (() => {\n",
              "      const buttonEl =\n",
              "        document.querySelector('#id_a293d4a3-ee8d-4f49-a0d2-b43575b07115 button.colab-df-generate');\n",
              "      buttonEl.style.display =\n",
              "        google.colab.kernel.accessAllowed ? 'block' : 'none';\n",
              "\n",
              "      buttonEl.onclick = () => {\n",
              "        google.colab.notebook.generateWithVariable('y');\n",
              "      }\n",
              "      })();\n",
              "    </script>\n",
              "  </div>\n",
              "\n",
              "    </div>\n",
              "  </div>\n"
            ],
            "application/vnd.google.colaboratory.intrinsic+json": {
              "type": "dataframe",
              "variable_name": "y",
              "summary": "{\n  \"name\": \"y\",\n  \"rows\": 51051,\n  \"fields\": [\n    {\n      \"column\": \"cut_Ideal\",\n      \"properties\": {\n        \"dtype\": \"boolean\",\n        \"num_unique_values\": 2,\n        \"samples\": [\n          false,\n          true\n        ],\n        \"semantic_type\": \"\",\n        \"description\": \"\"\n      }\n    },\n    {\n      \"column\": \"cut_Premium\",\n      \"properties\": {\n        \"dtype\": \"boolean\",\n        \"num_unique_values\": 2,\n        \"samples\": [\n          true,\n          false\n        ],\n        \"semantic_type\": \"\",\n        \"description\": \"\"\n      }\n    },\n    {\n      \"column\": \"cut_Very Good\",\n      \"properties\": {\n        \"dtype\": \"boolean\",\n        \"num_unique_values\": 2,\n        \"samples\": [\n          true,\n          false\n        ],\n        \"semantic_type\": \"\",\n        \"description\": \"\"\n      }\n    },\n    {\n      \"column\": \"cut_Good\",\n      \"properties\": {\n        \"dtype\": \"boolean\",\n        \"num_unique_values\": 2,\n        \"samples\": [\n          true,\n          false\n        ],\n        \"semantic_type\": \"\",\n        \"description\": \"\"\n      }\n    },\n    {\n      \"column\": \"cut_Fair\",\n      \"properties\": {\n        \"dtype\": \"boolean\",\n        \"num_unique_values\": 2,\n        \"samples\": [\n          true,\n          false\n        ],\n        \"semantic_type\": \"\",\n        \"description\": \"\"\n      }\n    }\n  ]\n}"
            }
          },
          "metadata": {},
          "execution_count": 31
        }
      ]
    },
    {
      "cell_type": "code",
      "source": [
        "scaler = StandardScaler()\n",
        "x_scaled = scaler.fit_transform(x)"
      ],
      "metadata": {
        "id": "137cU0nCU1xN"
      },
      "execution_count": null,
      "outputs": []
    },
    {
      "cell_type": "code",
      "source": [
        "x_train,x_test,y_train,y_test=train_test_split(x_scaled,y,test_size=0.2,random_state=42)"
      ],
      "metadata": {
        "id": "xTN4hH4uplfp"
      },
      "execution_count": null,
      "outputs": []
    },
    {
      "cell_type": "code",
      "source": [
        "x_train.shape"
      ],
      "metadata": {
        "colab": {
          "base_uri": "https://localhost:8080/"
        },
        "id": "rJzeUrUrxBMX",
        "outputId": "134d2b04-4092-41bc-c659-07c8ca7c5f17"
      },
      "execution_count": null,
      "outputs": [
        {
          "output_type": "execute_result",
          "data": {
            "text/plain": [
              "(40840, 22)"
            ]
          },
          "metadata": {},
          "execution_count": 34
        }
      ]
    },
    {
      "cell_type": "code",
      "source": [
        "y_train.shape"
      ],
      "metadata": {
        "colab": {
          "base_uri": "https://localhost:8080/"
        },
        "id": "dKO01UZ2xEnX",
        "outputId": "560f51d1-bf81-4ad9-8076-8df709fbb6b5"
      },
      "execution_count": null,
      "outputs": [
        {
          "output_type": "execute_result",
          "data": {
            "text/plain": [
              "(40840, 5)"
            ]
          },
          "metadata": {},
          "execution_count": 35
        }
      ]
    },
    {
      "cell_type": "code",
      "source": [
        "x_test.shape"
      ],
      "metadata": {
        "colab": {
          "base_uri": "https://localhost:8080/"
        },
        "id": "esvSqhTcxGGP",
        "outputId": "cd9e5631-42f7-4799-bbd7-c45dad5510a1"
      },
      "execution_count": null,
      "outputs": [
        {
          "output_type": "execute_result",
          "data": {
            "text/plain": [
              "(10211, 22)"
            ]
          },
          "metadata": {},
          "execution_count": 36
        }
      ]
    },
    {
      "cell_type": "code",
      "source": [
        "x_train.shape"
      ],
      "metadata": {
        "colab": {
          "base_uri": "https://localhost:8080/"
        },
        "id": "eHb0GLiLxH3V",
        "outputId": "4017b493-b805-4cfc-d967-c86d2ff9c682"
      },
      "execution_count": null,
      "outputs": [
        {
          "output_type": "execute_result",
          "data": {
            "text/plain": [
              "(40840, 22)"
            ]
          },
          "metadata": {},
          "execution_count": 37
        }
      ]
    },
    {
      "cell_type": "code",
      "source": [
        "model = Sequential([\n",
        "    Dense(128, activation='relu', input_shape=(x_train.shape[1],)),\n",
        "    Dropout(0.3),\n",
        "    Dense(64, activation='relu'),\n",
        "    Dropout(0.3),\n",
        "    Dense(5, activation='softmax')\n",
        "])"
      ],
      "metadata": {
        "colab": {
          "base_uri": "https://localhost:8080/"
        },
        "id": "kADpMsVEbk7y",
        "outputId": "ddd23c4e-9ef5-4c59-d27d-5a11c9b9d96e"
      },
      "execution_count": null,
      "outputs": [
        {
          "output_type": "stream",
          "name": "stderr",
          "text": [
            "/usr/local/lib/python3.11/dist-packages/keras/src/layers/core/dense.py:87: UserWarning: Do not pass an `input_shape`/`input_dim` argument to a layer. When using Sequential models, prefer using an `Input(shape)` object as the first layer in the model instead.\n",
            "  super().__init__(activity_regularizer=activity_regularizer, **kwargs)\n"
          ]
        }
      ]
    },
    {
      "cell_type": "code",
      "source": [
        "from keras.optimizers.schedules import ExponentialDecay\n",
        "lr_s=ExponentialDecay(\n",
        "    initial_learning_rate=0.01,\n",
        "    decay_steps=100,\n",
        "    decay_rate=0.4\n",
        ")"
      ],
      "metadata": {
        "id": "Ms6Am2ok8Aeq"
      },
      "execution_count": null,
      "outputs": []
    },
    {
      "cell_type": "code",
      "source": [
        "from keras.optimizers import Adam\n",
        "adam_ls=Adam(learning_rate=lr_s)"
      ],
      "metadata": {
        "id": "WWDMtzAM8TOO"
      },
      "execution_count": null,
      "outputs": []
    },
    {
      "cell_type": "code",
      "source": [
        "model.compile(optimizer='adam', loss='categorical_crossentropy', metrics=['accuracy'])"
      ],
      "metadata": {
        "id": "QbiKTXko8fMZ"
      },
      "execution_count": null,
      "outputs": []
    },
    {
      "cell_type": "code",
      "source": [
        "early_stopping=EarlyStopping(\n",
        "    monitor='val_loss',\n",
        "    patience=5,\n",
        "    restore_best_weights=True,\n",
        "    verbose=1\n",
        ")\n",
        "checkpoint=ModelCheckpoint(\n",
        "    'best_model.keras',\n",
        "    monitor='val_loss',\n",
        "    save_best_only=True,verbose=1\n",
        ")"
      ],
      "metadata": {
        "id": "osw7dzmZVDt8"
      },
      "execution_count": null,
      "outputs": []
    },
    {
      "cell_type": "code",
      "source": [
        "history = model.fit(\n",
        "    x_train, y_train,\n",
        "    epochs=50,\n",
        "    batch_size=64,\n",
        "    validation_split=0.2,\n",
        "    verbose=2,\n",
        "    callbacks=[early_stopping, checkpoint]\n",
        ")"
      ],
      "metadata": {
        "colab": {
          "base_uri": "https://localhost:8080/"
        },
        "id": "I1bQN31L8nzf",
        "outputId": "47d14628-a078-46d5-e39c-c5b4c88b7199"
      },
      "execution_count": null,
      "outputs": [
        {
          "output_type": "stream",
          "name": "stdout",
          "text": [
            "Epoch 1/50\n",
            "\n",
            "Epoch 1: val_loss improved from inf to 0.87474, saving model to best_model.keras\n",
            "511/511 - 4s - 8ms/step - accuracy: 0.5721 - loss: 1.0735 - val_accuracy: 0.6741 - val_loss: 0.8747\n",
            "Epoch 2/50\n",
            "\n",
            "Epoch 2: val_loss improved from 0.87474 to 0.79751, saving model to best_model.keras\n",
            "511/511 - 2s - 3ms/step - accuracy: 0.6567 - loss: 0.8809 - val_accuracy: 0.7015 - val_loss: 0.7975\n",
            "Epoch 3/50\n",
            "\n",
            "Epoch 3: val_loss improved from 0.79751 to 0.77159, saving model to best_model.keras\n",
            "511/511 - 1s - 3ms/step - accuracy: 0.6752 - loss: 0.8324 - val_accuracy: 0.7046 - val_loss: 0.7716\n",
            "Epoch 4/50\n",
            "\n",
            "Epoch 4: val_loss improved from 0.77159 to 0.75952, saving model to best_model.keras\n",
            "511/511 - 3s - 5ms/step - accuracy: 0.6862 - loss: 0.8111 - val_accuracy: 0.7091 - val_loss: 0.7595\n",
            "Epoch 5/50\n",
            "\n",
            "Epoch 5: val_loss improved from 0.75952 to 0.75185, saving model to best_model.keras\n",
            "511/511 - 3s - 5ms/step - accuracy: 0.6926 - loss: 0.7945 - val_accuracy: 0.7145 - val_loss: 0.7518\n",
            "Epoch 6/50\n",
            "\n",
            "Epoch 6: val_loss improved from 0.75185 to 0.74560, saving model to best_model.keras\n",
            "511/511 - 2s - 5ms/step - accuracy: 0.6933 - loss: 0.7869 - val_accuracy: 0.7155 - val_loss: 0.7456\n",
            "Epoch 7/50\n",
            "\n",
            "Epoch 7: val_loss improved from 0.74560 to 0.74329, saving model to best_model.keras\n",
            "511/511 - 2s - 3ms/step - accuracy: 0.6978 - loss: 0.7787 - val_accuracy: 0.7145 - val_loss: 0.7433\n",
            "Epoch 8/50\n",
            "\n",
            "Epoch 8: val_loss improved from 0.74329 to 0.73218, saving model to best_model.keras\n",
            "511/511 - 3s - 6ms/step - accuracy: 0.7011 - loss: 0.7713 - val_accuracy: 0.7185 - val_loss: 0.7322\n",
            "Epoch 9/50\n",
            "\n",
            "Epoch 9: val_loss improved from 0.73218 to 0.73160, saving model to best_model.keras\n",
            "511/511 - 2s - 4ms/step - accuracy: 0.7030 - loss: 0.7634 - val_accuracy: 0.7151 - val_loss: 0.7316\n",
            "Epoch 10/50\n",
            "\n",
            "Epoch 10: val_loss improved from 0.73160 to 0.72400, saving model to best_model.keras\n",
            "511/511 - 3s - 5ms/step - accuracy: 0.7032 - loss: 0.7587 - val_accuracy: 0.7191 - val_loss: 0.7240\n",
            "Epoch 11/50\n",
            "\n",
            "Epoch 11: val_loss improved from 0.72400 to 0.71627, saving model to best_model.keras\n",
            "511/511 - 4s - 7ms/step - accuracy: 0.7063 - loss: 0.7557 - val_accuracy: 0.7194 - val_loss: 0.7163\n",
            "Epoch 12/50\n",
            "\n",
            "Epoch 12: val_loss improved from 0.71627 to 0.71031, saving model to best_model.keras\n",
            "511/511 - 2s - 3ms/step - accuracy: 0.7078 - loss: 0.7447 - val_accuracy: 0.7238 - val_loss: 0.7103\n",
            "Epoch 13/50\n",
            "\n",
            "Epoch 13: val_loss improved from 0.71031 to 0.69784, saving model to best_model.keras\n",
            "511/511 - 3s - 5ms/step - accuracy: 0.7118 - loss: 0.7383 - val_accuracy: 0.7262 - val_loss: 0.6978\n",
            "Epoch 14/50\n",
            "\n",
            "Epoch 14: val_loss improved from 0.69784 to 0.67736, saving model to best_model.keras\n",
            "511/511 - 1s - 3ms/step - accuracy: 0.7178 - loss: 0.7235 - val_accuracy: 0.7335 - val_loss: 0.6774\n",
            "Epoch 15/50\n",
            "\n",
            "Epoch 15: val_loss improved from 0.67736 to 0.66054, saving model to best_model.keras\n",
            "511/511 - 3s - 5ms/step - accuracy: 0.7232 - loss: 0.7096 - val_accuracy: 0.7411 - val_loss: 0.6605\n",
            "Epoch 16/50\n",
            "\n",
            "Epoch 16: val_loss improved from 0.66054 to 0.64182, saving model to best_model.keras\n",
            "511/511 - 2s - 3ms/step - accuracy: 0.7296 - loss: 0.6909 - val_accuracy: 0.7487 - val_loss: 0.6418\n",
            "Epoch 17/50\n",
            "\n",
            "Epoch 17: val_loss improved from 0.64182 to 0.62601, saving model to best_model.keras\n",
            "511/511 - 2s - 5ms/step - accuracy: 0.7375 - loss: 0.6756 - val_accuracy: 0.7600 - val_loss: 0.6260\n",
            "Epoch 18/50\n",
            "\n",
            "Epoch 18: val_loss improved from 0.62601 to 0.61728, saving model to best_model.keras\n",
            "511/511 - 2s - 3ms/step - accuracy: 0.7428 - loss: 0.6614 - val_accuracy: 0.7621 - val_loss: 0.6173\n",
            "Epoch 19/50\n",
            "\n",
            "Epoch 19: val_loss improved from 0.61728 to 0.60180, saving model to best_model.keras\n",
            "511/511 - 2s - 3ms/step - accuracy: 0.7461 - loss: 0.6491 - val_accuracy: 0.7685 - val_loss: 0.6018\n",
            "Epoch 20/50\n",
            "\n",
            "Epoch 20: val_loss improved from 0.60180 to 0.60158, saving model to best_model.keras\n",
            "511/511 - 2s - 3ms/step - accuracy: 0.7484 - loss: 0.6453 - val_accuracy: 0.7643 - val_loss: 0.6016\n",
            "Epoch 21/50\n",
            "\n",
            "Epoch 21: val_loss did not improve from 0.60158\n",
            "511/511 - 3s - 5ms/step - accuracy: 0.7492 - loss: 0.6383 - val_accuracy: 0.7675 - val_loss: 0.6021\n",
            "Epoch 22/50\n",
            "\n",
            "Epoch 22: val_loss improved from 0.60158 to 0.59672, saving model to best_model.keras\n",
            "511/511 - 2s - 3ms/step - accuracy: 0.7524 - loss: 0.6351 - val_accuracy: 0.7678 - val_loss: 0.5967\n",
            "Epoch 23/50\n",
            "\n",
            "Epoch 23: val_loss improved from 0.59672 to 0.58525, saving model to best_model.keras\n",
            "511/511 - 3s - 6ms/step - accuracy: 0.7536 - loss: 0.6272 - val_accuracy: 0.7684 - val_loss: 0.5852\n",
            "Epoch 24/50\n",
            "\n",
            "Epoch 24: val_loss did not improve from 0.58525\n",
            "511/511 - 2s - 4ms/step - accuracy: 0.7549 - loss: 0.6254 - val_accuracy: 0.7652 - val_loss: 0.5978\n",
            "Epoch 25/50\n",
            "\n",
            "Epoch 25: val_loss did not improve from 0.58525\n",
            "511/511 - 2s - 4ms/step - accuracy: 0.7571 - loss: 0.6231 - val_accuracy: 0.7674 - val_loss: 0.5854\n",
            "Epoch 26/50\n",
            "\n",
            "Epoch 26: val_loss improved from 0.58525 to 0.58246, saving model to best_model.keras\n",
            "511/511 - 3s - 5ms/step - accuracy: 0.7555 - loss: 0.6234 - val_accuracy: 0.7707 - val_loss: 0.5825\n",
            "Epoch 27/50\n",
            "\n",
            "Epoch 27: val_loss did not improve from 0.58246\n",
            "511/511 - 2s - 3ms/step - accuracy: 0.7576 - loss: 0.6182 - val_accuracy: 0.7717 - val_loss: 0.5849\n",
            "Epoch 28/50\n",
            "\n",
            "Epoch 28: val_loss improved from 0.58246 to 0.57679, saving model to best_model.keras\n",
            "511/511 - 3s - 6ms/step - accuracy: 0.7586 - loss: 0.6155 - val_accuracy: 0.7731 - val_loss: 0.5768\n",
            "Epoch 29/50\n",
            "\n",
            "Epoch 29: val_loss did not improve from 0.57679\n",
            "511/511 - 3s - 5ms/step - accuracy: 0.7595 - loss: 0.6119 - val_accuracy: 0.7741 - val_loss: 0.5798\n",
            "Epoch 30/50\n",
            "\n",
            "Epoch 30: val_loss improved from 0.57679 to 0.57647, saving model to best_model.keras\n",
            "511/511 - 2s - 4ms/step - accuracy: 0.7576 - loss: 0.6115 - val_accuracy: 0.7733 - val_loss: 0.5765\n",
            "Epoch 31/50\n",
            "\n",
            "Epoch 31: val_loss improved from 0.57647 to 0.57261, saving model to best_model.keras\n",
            "511/511 - 3s - 5ms/step - accuracy: 0.7593 - loss: 0.6116 - val_accuracy: 0.7795 - val_loss: 0.5726\n",
            "Epoch 32/50\n",
            "\n",
            "Epoch 32: val_loss did not improve from 0.57261\n",
            "511/511 - 2s - 5ms/step - accuracy: 0.7592 - loss: 0.6110 - val_accuracy: 0.7746 - val_loss: 0.5776\n",
            "Epoch 33/50\n",
            "\n",
            "Epoch 33: val_loss did not improve from 0.57261\n",
            "511/511 - 3s - 6ms/step - accuracy: 0.7613 - loss: 0.6084 - val_accuracy: 0.7806 - val_loss: 0.5730\n",
            "Epoch 34/50\n",
            "\n",
            "Epoch 34: val_loss improved from 0.57261 to 0.57168, saving model to best_model.keras\n",
            "511/511 - 3s - 5ms/step - accuracy: 0.7624 - loss: 0.6063 - val_accuracy: 0.7767 - val_loss: 0.5717\n",
            "Epoch 35/50\n",
            "\n",
            "Epoch 35: val_loss improved from 0.57168 to 0.56698, saving model to best_model.keras\n",
            "511/511 - 3s - 6ms/step - accuracy: 0.7618 - loss: 0.6046 - val_accuracy: 0.7796 - val_loss: 0.5670\n",
            "Epoch 36/50\n",
            "\n",
            "Epoch 36: val_loss improved from 0.56698 to 0.56590, saving model to best_model.keras\n",
            "511/511 - 2s - 4ms/step - accuracy: 0.7627 - loss: 0.6047 - val_accuracy: 0.7804 - val_loss: 0.5659\n",
            "Epoch 37/50\n",
            "\n",
            "Epoch 37: val_loss did not improve from 0.56590\n",
            "511/511 - 2s - 3ms/step - accuracy: 0.7636 - loss: 0.6034 - val_accuracy: 0.7783 - val_loss: 0.5711\n",
            "Epoch 38/50\n",
            "\n",
            "Epoch 38: val_loss did not improve from 0.56590\n",
            "511/511 - 2s - 3ms/step - accuracy: 0.7640 - loss: 0.5998 - val_accuracy: 0.7777 - val_loss: 0.5698\n",
            "Epoch 39/50\n",
            "\n",
            "Epoch 39: val_loss did not improve from 0.56590\n",
            "511/511 - 4s - 7ms/step - accuracy: 0.7633 - loss: 0.6017 - val_accuracy: 0.7751 - val_loss: 0.5685\n",
            "Epoch 40/50\n",
            "\n",
            "Epoch 40: val_loss improved from 0.56590 to 0.56320, saving model to best_model.keras\n",
            "511/511 - 2s - 3ms/step - accuracy: 0.7637 - loss: 0.5971 - val_accuracy: 0.7823 - val_loss: 0.5632\n",
            "Epoch 41/50\n",
            "\n",
            "Epoch 41: val_loss did not improve from 0.56320\n",
            "511/511 - 2s - 3ms/step - accuracy: 0.7629 - loss: 0.5981 - val_accuracy: 0.7767 - val_loss: 0.5636\n",
            "Epoch 42/50\n",
            "\n",
            "Epoch 42: val_loss did not improve from 0.56320\n",
            "511/511 - 3s - 6ms/step - accuracy: 0.7636 - loss: 0.5974 - val_accuracy: 0.7778 - val_loss: 0.5659\n",
            "Epoch 43/50\n",
            "\n",
            "Epoch 43: val_loss improved from 0.56320 to 0.55608, saving model to best_model.keras\n",
            "511/511 - 2s - 5ms/step - accuracy: 0.7648 - loss: 0.5927 - val_accuracy: 0.7806 - val_loss: 0.5561\n",
            "Epoch 44/50\n",
            "\n",
            "Epoch 44: val_loss did not improve from 0.55608\n",
            "511/511 - 2s - 4ms/step - accuracy: 0.7662 - loss: 0.5953 - val_accuracy: 0.7826 - val_loss: 0.5635\n",
            "Epoch 45/50\n",
            "\n",
            "Epoch 45: val_loss did not improve from 0.55608\n",
            "511/511 - 3s - 5ms/step - accuracy: 0.7675 - loss: 0.5933 - val_accuracy: 0.7823 - val_loss: 0.5564\n",
            "Epoch 46/50\n",
            "\n",
            "Epoch 46: val_loss did not improve from 0.55608\n",
            "511/511 - 2s - 3ms/step - accuracy: 0.7663 - loss: 0.5924 - val_accuracy: 0.7799 - val_loss: 0.5599\n",
            "Epoch 47/50\n",
            "\n",
            "Epoch 47: val_loss did not improve from 0.55608\n",
            "511/511 - 3s - 5ms/step - accuracy: 0.7668 - loss: 0.5922 - val_accuracy: 0.7766 - val_loss: 0.5608\n",
            "Epoch 48/50\n",
            "\n",
            "Epoch 48: val_loss did not improve from 0.55608\n",
            "511/511 - 2s - 3ms/step - accuracy: 0.7685 - loss: 0.5921 - val_accuracy: 0.7812 - val_loss: 0.5564\n",
            "Epoch 48: early stopping\n",
            "Restoring model weights from the end of the best epoch: 43.\n"
          ]
        }
      ]
    },
    {
      "cell_type": "code",
      "source": [
        "loss, accuracy = model.evaluate(x_test, y_test)\n",
        "print(f\"Test Loss: {loss:.4f}\")\n",
        "print(f\"Test Accuracy: {accuracy:.4f}\")"
      ],
      "metadata": {
        "colab": {
          "base_uri": "https://localhost:8080/"
        },
        "id": "YEhQBWWz95jf",
        "outputId": "323897a0-22f6-47d5-e8bb-90a296e556f1"
      },
      "execution_count": null,
      "outputs": [
        {
          "output_type": "stream",
          "name": "stdout",
          "text": [
            "\u001b[1m320/320\u001b[0m \u001b[32m━━━━━━━━━━━━━━━━━━━━\u001b[0m\u001b[37m\u001b[0m \u001b[1m1s\u001b[0m 2ms/step - accuracy: 0.7855 - loss: 0.5486\n",
            "Test Loss: 0.5528\n",
            "Test Accuracy: 0.7844\n"
          ]
        }
      ]
    },
    {
      "cell_type": "code",
      "source": [
        "model.summary()"
      ],
      "metadata": {
        "colab": {
          "base_uri": "https://localhost:8080/",
          "height": 305
        },
        "id": "WeMtNtWbWpFI",
        "outputId": "445571fc-9f05-44e9-db05-b397d673cc8d"
      },
      "execution_count": null,
      "outputs": [
        {
          "output_type": "display_data",
          "data": {
            "text/plain": [
              "\u001b[1mModel: \"sequential\"\u001b[0m\n"
            ],
            "text/html": [
              "<pre style=\"white-space:pre;overflow-x:auto;line-height:normal;font-family:Menlo,'DejaVu Sans Mono',consolas,'Courier New',monospace\"><span style=\"font-weight: bold\">Model: \"sequential\"</span>\n",
              "</pre>\n"
            ]
          },
          "metadata": {}
        },
        {
          "output_type": "display_data",
          "data": {
            "text/plain": [
              "┏━━━━━━━━━━━━━━━━━━━━━━━━━━━━━━━━━┳━━━━━━━━━━━━━━━━━━━━━━━━┳━━━━━━━━━━━━━━━┓\n",
              "┃\u001b[1m \u001b[0m\u001b[1mLayer (type)                   \u001b[0m\u001b[1m \u001b[0m┃\u001b[1m \u001b[0m\u001b[1mOutput Shape          \u001b[0m\u001b[1m \u001b[0m┃\u001b[1m \u001b[0m\u001b[1m      Param #\u001b[0m\u001b[1m \u001b[0m┃\n",
              "┡━━━━━━━━━━━━━━━━━━━━━━━━━━━━━━━━━╇━━━━━━━━━━━━━━━━━━━━━━━━╇━━━━━━━━━━━━━━━┩\n",
              "│ dense (\u001b[38;5;33mDense\u001b[0m)                   │ (\u001b[38;5;45mNone\u001b[0m, \u001b[38;5;34m128\u001b[0m)            │         \u001b[38;5;34m2,944\u001b[0m │\n",
              "├─────────────────────────────────┼────────────────────────┼───────────────┤\n",
              "│ dropout (\u001b[38;5;33mDropout\u001b[0m)               │ (\u001b[38;5;45mNone\u001b[0m, \u001b[38;5;34m128\u001b[0m)            │             \u001b[38;5;34m0\u001b[0m │\n",
              "├─────────────────────────────────┼────────────────────────┼───────────────┤\n",
              "│ dense_1 (\u001b[38;5;33mDense\u001b[0m)                 │ (\u001b[38;5;45mNone\u001b[0m, \u001b[38;5;34m64\u001b[0m)             │         \u001b[38;5;34m8,256\u001b[0m │\n",
              "├─────────────────────────────────┼────────────────────────┼───────────────┤\n",
              "│ dropout_1 (\u001b[38;5;33mDropout\u001b[0m)             │ (\u001b[38;5;45mNone\u001b[0m, \u001b[38;5;34m64\u001b[0m)             │             \u001b[38;5;34m0\u001b[0m │\n",
              "├─────────────────────────────────┼────────────────────────┼───────────────┤\n",
              "│ dense_2 (\u001b[38;5;33mDense\u001b[0m)                 │ (\u001b[38;5;45mNone\u001b[0m, \u001b[38;5;34m5\u001b[0m)              │           \u001b[38;5;34m325\u001b[0m │\n",
              "└─────────────────────────────────┴────────────────────────┴───────────────┘\n"
            ],
            "text/html": [
              "<pre style=\"white-space:pre;overflow-x:auto;line-height:normal;font-family:Menlo,'DejaVu Sans Mono',consolas,'Courier New',monospace\">┏━━━━━━━━━━━━━━━━━━━━━━━━━━━━━━━━━┳━━━━━━━━━━━━━━━━━━━━━━━━┳━━━━━━━━━━━━━━━┓\n",
              "┃<span style=\"font-weight: bold\"> Layer (type)                    </span>┃<span style=\"font-weight: bold\"> Output Shape           </span>┃<span style=\"font-weight: bold\">       Param # </span>┃\n",
              "┡━━━━━━━━━━━━━━━━━━━━━━━━━━━━━━━━━╇━━━━━━━━━━━━━━━━━━━━━━━━╇━━━━━━━━━━━━━━━┩\n",
              "│ dense (<span style=\"color: #0087ff; text-decoration-color: #0087ff\">Dense</span>)                   │ (<span style=\"color: #00d7ff; text-decoration-color: #00d7ff\">None</span>, <span style=\"color: #00af00; text-decoration-color: #00af00\">128</span>)            │         <span style=\"color: #00af00; text-decoration-color: #00af00\">2,944</span> │\n",
              "├─────────────────────────────────┼────────────────────────┼───────────────┤\n",
              "│ dropout (<span style=\"color: #0087ff; text-decoration-color: #0087ff\">Dropout</span>)               │ (<span style=\"color: #00d7ff; text-decoration-color: #00d7ff\">None</span>, <span style=\"color: #00af00; text-decoration-color: #00af00\">128</span>)            │             <span style=\"color: #00af00; text-decoration-color: #00af00\">0</span> │\n",
              "├─────────────────────────────────┼────────────────────────┼───────────────┤\n",
              "│ dense_1 (<span style=\"color: #0087ff; text-decoration-color: #0087ff\">Dense</span>)                 │ (<span style=\"color: #00d7ff; text-decoration-color: #00d7ff\">None</span>, <span style=\"color: #00af00; text-decoration-color: #00af00\">64</span>)             │         <span style=\"color: #00af00; text-decoration-color: #00af00\">8,256</span> │\n",
              "├─────────────────────────────────┼────────────────────────┼───────────────┤\n",
              "│ dropout_1 (<span style=\"color: #0087ff; text-decoration-color: #0087ff\">Dropout</span>)             │ (<span style=\"color: #00d7ff; text-decoration-color: #00d7ff\">None</span>, <span style=\"color: #00af00; text-decoration-color: #00af00\">64</span>)             │             <span style=\"color: #00af00; text-decoration-color: #00af00\">0</span> │\n",
              "├─────────────────────────────────┼────────────────────────┼───────────────┤\n",
              "│ dense_2 (<span style=\"color: #0087ff; text-decoration-color: #0087ff\">Dense</span>)                 │ (<span style=\"color: #00d7ff; text-decoration-color: #00d7ff\">None</span>, <span style=\"color: #00af00; text-decoration-color: #00af00\">5</span>)              │           <span style=\"color: #00af00; text-decoration-color: #00af00\">325</span> │\n",
              "└─────────────────────────────────┴────────────────────────┴───────────────┘\n",
              "</pre>\n"
            ]
          },
          "metadata": {}
        },
        {
          "output_type": "display_data",
          "data": {
            "text/plain": [
              "\u001b[1m Total params: \u001b[0m\u001b[38;5;34m34,577\u001b[0m (135.07 KB)\n"
            ],
            "text/html": [
              "<pre style=\"white-space:pre;overflow-x:auto;line-height:normal;font-family:Menlo,'DejaVu Sans Mono',consolas,'Courier New',monospace\"><span style=\"font-weight: bold\"> Total params: </span><span style=\"color: #00af00; text-decoration-color: #00af00\">34,577</span> (135.07 KB)\n",
              "</pre>\n"
            ]
          },
          "metadata": {}
        },
        {
          "output_type": "display_data",
          "data": {
            "text/plain": [
              "\u001b[1m Trainable params: \u001b[0m\u001b[38;5;34m11,525\u001b[0m (45.02 KB)\n"
            ],
            "text/html": [
              "<pre style=\"white-space:pre;overflow-x:auto;line-height:normal;font-family:Menlo,'DejaVu Sans Mono',consolas,'Courier New',monospace\"><span style=\"font-weight: bold\"> Trainable params: </span><span style=\"color: #00af00; text-decoration-color: #00af00\">11,525</span> (45.02 KB)\n",
              "</pre>\n"
            ]
          },
          "metadata": {}
        },
        {
          "output_type": "display_data",
          "data": {
            "text/plain": [
              "\u001b[1m Non-trainable params: \u001b[0m\u001b[38;5;34m0\u001b[0m (0.00 B)\n"
            ],
            "text/html": [
              "<pre style=\"white-space:pre;overflow-x:auto;line-height:normal;font-family:Menlo,'DejaVu Sans Mono',consolas,'Courier New',monospace\"><span style=\"font-weight: bold\"> Non-trainable params: </span><span style=\"color: #00af00; text-decoration-color: #00af00\">0</span> (0.00 B)\n",
              "</pre>\n"
            ]
          },
          "metadata": {}
        },
        {
          "output_type": "display_data",
          "data": {
            "text/plain": [
              "\u001b[1m Optimizer params: \u001b[0m\u001b[38;5;34m23,052\u001b[0m (90.05 KB)\n"
            ],
            "text/html": [
              "<pre style=\"white-space:pre;overflow-x:auto;line-height:normal;font-family:Menlo,'DejaVu Sans Mono',consolas,'Courier New',monospace\"><span style=\"font-weight: bold\"> Optimizer params: </span><span style=\"color: #00af00; text-decoration-color: #00af00\">23,052</span> (90.05 KB)\n",
              "</pre>\n"
            ]
          },
          "metadata": {}
        }
      ]
    },
    {
      "cell_type": "code",
      "source": [
        "x_test.shape"
      ],
      "metadata": {
        "colab": {
          "base_uri": "https://localhost:8080/"
        },
        "id": "ZvM9PUu1XX9T",
        "outputId": "a4637584-643d-40de-e9f7-0b7718249fe3"
      },
      "execution_count": null,
      "outputs": [
        {
          "output_type": "execute_result",
          "data": {
            "text/plain": [
              "(10211, 22)"
            ]
          },
          "metadata": {},
          "execution_count": 46
        }
      ]
    },
    {
      "cell_type": "code",
      "source": [
        "preds=model.predict(x_test)\n",
        "preds"
      ],
      "metadata": {
        "colab": {
          "base_uri": "https://localhost:8080/"
        },
        "id": "AP2fnv4qXXz-",
        "outputId": "09c0360a-d81b-4c1c-b39d-123f26dee26f"
      },
      "execution_count": null,
      "outputs": [
        {
          "output_type": "stream",
          "name": "stdout",
          "text": [
            "\u001b[1m320/320\u001b[0m \u001b[32m━━━━━━━━━━━━━━━━━━━━\u001b[0m\u001b[37m\u001b[0m \u001b[1m1s\u001b[0m 2ms/step\n"
          ]
        },
        {
          "output_type": "execute_result",
          "data": {
            "text/plain": [
              "array([[4.3271247e-01, 7.5003705e-03, 5.4371071e-01, 1.6060701e-02,\n",
              "        1.5694943e-05],\n",
              "       [9.0040869e-01, 3.3900745e-03, 9.5708825e-02, 4.5602149e-04,\n",
              "        3.6654812e-05],\n",
              "       [1.7105278e-02, 3.0120274e-01, 5.8452308e-01, 9.4715476e-02,\n",
              "        2.4533637e-03],\n",
              "       ...,\n",
              "       [8.9010274e-01, 5.3892601e-02, 5.5480264e-02, 4.2520021e-04,\n",
              "        9.9173012e-05],\n",
              "       [8.6385059e-01, 1.0089386e-02, 1.2396208e-01, 2.0119615e-03,\n",
              "        8.5847772e-05],\n",
              "       [1.6839881e-01, 1.4679442e-01, 6.8157667e-01, 3.2212599e-03,\n",
              "        8.8336110e-06]], dtype=float32)"
            ]
          },
          "metadata": {},
          "execution_count": 47
        }
      ]
    },
    {
      "cell_type": "code",
      "source": [
        "preds.shape"
      ],
      "metadata": {
        "colab": {
          "base_uri": "https://localhost:8080/"
        },
        "id": "KxBFKP95XoZj",
        "outputId": "2c8779fa-cbea-4b10-8d7b-866cd9cfc4c6"
      },
      "execution_count": null,
      "outputs": [
        {
          "output_type": "execute_result",
          "data": {
            "text/plain": [
              "(10211, 5)"
            ]
          },
          "metadata": {},
          "execution_count": 48
        }
      ]
    },
    {
      "cell_type": "code",
      "source": [
        "preds.max(axis=1)"
      ],
      "metadata": {
        "colab": {
          "base_uri": "https://localhost:8080/"
        },
        "id": "vg2JslS0XmIA",
        "outputId": "5056962e-e2ba-4295-8067-96d3a5413973"
      },
      "execution_count": null,
      "outputs": [
        {
          "output_type": "execute_result",
          "data": {
            "text/plain": [
              "array([0.5437107 , 0.9004087 , 0.5845231 , ..., 0.89010274, 0.8638506 ,\n",
              "       0.68157667], dtype=float32)"
            ]
          },
          "metadata": {},
          "execution_count": 49
        }
      ]
    },
    {
      "cell_type": "code",
      "source": [
        "pred_cls=np.argmax(preds,axis=1)\n",
        "pred_cls"
      ],
      "metadata": {
        "colab": {
          "base_uri": "https://localhost:8080/"
        },
        "id": "dplZ0UubXjUl",
        "outputId": "a830d09a-ab77-4e39-f2bb-6ac9d48e070c"
      },
      "execution_count": null,
      "outputs": [
        {
          "output_type": "execute_result",
          "data": {
            "text/plain": [
              "array([2, 0, 2, ..., 0, 0, 2])"
            ]
          },
          "metadata": {},
          "execution_count": 50
        }
      ]
    },
    {
      "cell_type": "code",
      "source": [
        "import matplotlib.pyplot as plt\n",
        "plt.plot(history.history['accuracy'])\n",
        "plt.plot(history.history['val_accuracy'])\n",
        "plt.title('Model Accuracy')\n",
        "plt.ylabel('Accuracy')\n",
        "plt.xlabel('Epoch')\n",
        "plt.legend(['Train', 'Validation'], loc='upper left')\n",
        "plt.show()"
      ],
      "metadata": {
        "colab": {
          "base_uri": "https://localhost:8080/",
          "height": 472
        },
        "id": "xv8DwWPgXXhp",
        "outputId": "9a8f6b9c-6e22-47f8-89e9-fac81c1b5007"
      },
      "execution_count": null,
      "outputs": [
        {
          "output_type": "display_data",
          "data": {
            "text/plain": [
              "<Figure size 640x480 with 1 Axes>"
            ],
            "image/png": "[encoded data removed]"
          },
          "metadata": {}
        }
      ]
    },
    {
      "cell_type": "code",
      "source": [
        "import matplotlib.pyplot as plt\n",
        "plt.plot(history.history['loss'])\n",
        "plt.plot(history.history['val_loss'])\n",
        "plt.title('Model Loss')\n",
        "plt.ylabel('Loss')\n",
        "plt.xlabel('Epoch')\n",
        "plt.legend(['Train', 'Validation'], loc='upper left')\n",
        "plt.show()"
      ],
      "metadata": {
        "colab": {
          "base_uri": "https://localhost:8080/",
          "height": 472
        },
        "id": "t5BI1IzSjU4T",
        "outputId": "c2278747-9be9-48d1-9bfe-7e47ef012906"
      },
      "execution_count": null,
      "outputs": [
        {
          "output_type": "display_data",
          "data": {
            "text/plain": [
              "<Figure size 640x480 with 1 Axes>"
            ],
            "image/png": "[encoded data removed]"
          },
          "metadata": {}
        }
      ]
    }
  ]
}
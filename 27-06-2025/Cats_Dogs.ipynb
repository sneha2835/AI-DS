{
  "nbformat": 4,
  "nbformat_minor": 0,
  "metadata": {
    "colab": {
      "provenance": []
    },
    "kernelspec": {
      "name": "python3",
      "display_name": "Python 3"
    },
    "language_info": {
      "name": "python"
    }
  },
  "cells": [
    {
      "cell_type": "code",
      "execution_count": null,
      "metadata": {
        "colab": {
          "base_uri": "https://localhost:8080/"
        },
        "id": "WP_i_CeymlQj",
        "outputId": "cb5cfff6-70aa-4878-9cff-f44e42f83b96"
      },
      "outputs": [
        {
          "output_type": "stream",
          "name": "stdout",
          "text": [
            "Drive already mounted at /content/drive; to attempt to forcibly remount, call drive.mount(\"/content/drive\", force_remount=True).\n",
            "Drive already mounted at /content/drive; to attempt to forcibly remount, call drive.mount(\"/content/drive\", force_remount=True).\n"
          ]
        }
      ],
      "source": [
        "from google.colab import drive\n",
        "drive.mount('/content/drive')"
      ]
    },
    {
      "cell_type": "code",
      "source": [
        "import matplotlib.pyplot as plt\n",
        "import seaborn as sns\n",
        "\n",
        "import tensorflow as tf\n",
        "from tensorflow.keras.models import Sequential\n",
        "from tensorflow.keras.layers import Dense, Conv2D, MaxPool2D, Flatten, Dropout\n",
        "from tensorflow.keras.preprocessing.image import ImageDataGenerator\n",
        "from tensorflow.keras.optimizers import Adam\n",
        "\n",
        "from sklearn.metrics import classification_report, confusion_matrix\n",
        "\n",
        "import cv2\n",
        "import os\n",
        "import numpy as np\n",
        "import pandas as pd"
      ],
      "metadata": {
        "id": "rhOGDZb-m4jA"
      },
      "execution_count": null,
      "outputs": []
    },
    {
      "cell_type": "code",
      "source": [
        "import zipfile\n",
        "with zipfile.ZipFile('/content/drive/MyDrive/5_train.zip', 'r') as zip_ref:\n",
        "    zip_ref.extractall('/content/drive/MyDrive/train')"
      ],
      "metadata": {
        "id": "d4eHJeQMof2b"
      },
      "execution_count": null,
      "outputs": []
    },
    {
      "cell_type": "code",
      "source": [
        "files_list=os.listdir('/content/drive/MyDrive/train/train')\n",
        "num_files=len(files_list)"
      ],
      "metadata": {
        "id": "u1acAGaeosMo"
      },
      "execution_count": null,
      "outputs": []
    },
    {
      "cell_type": "code",
      "source": [
        "print(num_files)"
      ],
      "metadata": {
        "id": "L4I_qV8BqIeq"
      },
      "execution_count": null,
      "outputs": []
    },
    {
      "cell_type": "code",
      "source": [
        "import os, shutil, pathlib\n",
        "original_dir = pathlib.Path('/content/drive/MyDrive/train/train')\n",
        "new_base_dir = pathlib.Path('/content/drive/MyDrive/train_new')\n",
        "\n",
        "def make_subset(subset_name, start_index, end_index):\n",
        "    for category in (\"cat\", \"dog\"):\n",
        "        dir = new_base_dir / subset_name / category\n",
        "        os.makedirs(dir)\n",
        "        fnames=[f'{category}.{i}.jpg' for i in range(start_index, end_index)]\n",
        "        for fname in fnames:\n",
        "          shutil.copyfile(src=original_dir/fname, dst=dir/fname)\n",
        "\n",
        "make_subset('train', start_index=0, end_index=1500)\n",
        "make_subset('validation', start_index=1500, end_index=2000)\n",
        "make_subset('test',start_index=2000, end_index=3000)"
      ],
      "metadata": {
        "id": "rp6LFHfCsVvl"
      },
      "execution_count": null,
      "outputs": []
    },
    {
      "cell_type": "code",
      "source": [
        "labels=['cat','dog']\n",
        "img_size=224\n",
        "\n",
        "def get_data(data_dir):\n",
        "  images=[]\n",
        "  img_labels=[]\n",
        "  for label in lables:\n",
        "    path=os.path.join(data_dir,label)\n",
        "    class_num=labels.index(label)\n",
        "    for img in os.listdir(path):\n",
        "      try:\n",
        "        img_arr=cv2.imread(os.path.join(path,img))[...,::-1]\n",
        "        resized_arr=cv2.resize(img_arr,(img_size,img_size))\n",
        "        images.append(resized_arr)\n",
        "        img_labels.append(class_num)\n",
        "      except Exception as e:\n",
        "        print(e)\n",
        "  return np.array(images),np.array(img_labels)"
      ],
      "metadata": {
        "id": "yZvslC9jt_Yi"
      },
      "execution_count": null,
      "outputs": []
    },
    {
      "cell_type": "code",
      "source": [
        "train_images,train_labels=get_data('/content/drive/MyDrive/train_new/train')\n",
        "val_images,val_labels=get_data('/content/drive/MyDrive/train_new/validation')"
      ],
      "metadata": {
        "id": "xCJz1Yp2wZ9O"
      },
      "execution_count": null,
      "outputs": []
    },
    {
      "cell_type": "code",
      "source": [
        "train_images[0].shape"
      ],
      "metadata": {
        "id": "c2eQhuZ0XJBq"
      },
      "execution_count": null,
      "outputs": []
    },
    {
      "cell_type": "code",
      "source": [
        "train_images.shape"
      ],
      "metadata": {
        "id": "DHMVZk2mXJkS"
      },
      "execution_count": null,
      "outputs": []
    },
    {
      "cell_type": "code",
      "source": [],
      "metadata": {
        "id": "5DeT8YRWXZp4"
      },
      "execution_count": null,
      "outputs": []
    }
  ]
}
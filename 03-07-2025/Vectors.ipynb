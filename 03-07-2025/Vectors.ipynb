{
  "nbformat": 4,
  "nbformat_minor": 0,
  "metadata": {
    "colab": {
      "provenance": []
    },
    "kernelspec": {
      "name": "python3",
      "display_name": "Python 3"
    },
    "language_info": {
      "name": "python"
    }
  },
  "cells": [
    {
      "cell_type": "code",
      "execution_count": null,
      "metadata": {
        "id": "iMIdvc8il8k9"
      },
      "outputs": [],
      "source": [
        "import pandas as pd\n",
        "import numpy as np\n",
        "import nltk\n",
        "import re\n",
        "from nltk.tokenize import word_tokenize, sent_tokenize, TweetTokenizer, RegexpTokenizer\n",
        "from nltk.stem import PorterStemmer, WordNetLemmatizer\n",
        "from nltk.corpus import stopwords\n",
        "from sklearn.feature_extraction.text import CountVectorizer\n",
        "import string\n"
      ]
    },
    {
      "cell_type": "code",
      "source": [
        "nltk.download('punkt')\n",
        "nltk.download('punkt_tab')\n",
        "nltk.download('stopwords')\n",
        "nltk.download('wordnet')"
      ],
      "metadata": {
        "colab": {
          "base_uri": "https://localhost:8080/"
        },
        "id": "mdFzTniwmVHL",
        "outputId": "66c52a5a-bcc7-4bcb-9b06-9dc5514c866a"
      },
      "execution_count": null,
      "outputs": [
        {
          "output_type": "stream",
          "name": "stderr",
          "text": [
            "[nltk_data] Downloading package punkt to /root/nltk_data...\n",
            "[nltk_data]   Package punkt is already up-to-date!\n",
            "[nltk_data] Downloading package punkt_tab to /root/nltk_data...\n",
            "[nltk_data]   Package punkt_tab is already up-to-date!\n",
            "[nltk_data] Downloading package stopwords to /root/nltk_data...\n",
            "[nltk_data]   Package stopwords is already up-to-date!\n",
            "[nltk_data] Downloading package wordnet to /root/nltk_data...\n",
            "[nltk_data]   Package wordnet is already up-to-date!\n"
          ]
        },
        {
          "output_type": "execute_result",
          "data": {
            "text/plain": [
              "True"
            ]
          },
          "metadata": {},
          "execution_count": 2
        }
      ]
    },
    {
      "cell_type": "code",
      "source": [
        "para=\"\"\"\n",
        "Founded in the early 18th century as a pearling and fishing settlement, Dubai became a regional trade hub in the 20th century after declaring itself a free port (1901) and extending the Creek (1961).[11] Modest oil revenue helped accelerate Dubai's development from the 1960s to the 1990s when the city started to diversify its economy.[11] In 2018, oil production contributed less than 1% to the emirate's GDP.[12]\n",
        "\n",
        "Rapid construction since the 1990s has produced one of the world's densest skylines,[13] including the world's tallest building, the Burj Khalifa. Extensive land-reclamation projects have added more than 300 kilometres (190 mi) of artificial coastline. The city has a large real estate market, especially in the luxury segment.\n",
        "\"\"\""
      ],
      "metadata": {
        "id": "rwq-seoLmhgb"
      },
      "execution_count": null,
      "outputs": []
    },
    {
      "cell_type": "code",
      "source": [
        "print(para)"
      ],
      "metadata": {
        "colab": {
          "base_uri": "https://localhost:8080/"
        },
        "id": "YZRo3aNhmpj4",
        "outputId": "eb291b9c-f5a8-44bd-8baa-8cf68da49f9e"
      },
      "execution_count": null,
      "outputs": [
        {
          "output_type": "stream",
          "name": "stdout",
          "text": [
            "\n",
            "Founded in the early 18th century as a pearling and fishing settlement, Dubai became a regional trade hub in the 20th century after declaring itself a free port (1901) and extending the Creek (1961).[11] Modest oil revenue helped accelerate Dubai's development from the 1960s to the 1990s when the city started to diversify its economy.[11] In 2018, oil production contributed less than 1% to the emirate's GDP.[12]\n",
            "\n",
            "Rapid construction since the 1990s has produced one of the world's densest skylines,[13] including the world's tallest building, the Burj Khalifa. Extensive land-reclamation projects have added more than 300 kilometres (190 mi) of artificial coastline. The city has a large real estate market, especially in the luxury segment.\n",
            "\n"
          ]
        }
      ]
    },
    {
      "cell_type": "code",
      "source": [
        "sentences=sent_tokenize(para)\n",
        "sentences"
      ],
      "metadata": {
        "colab": {
          "base_uri": "https://localhost:8080/"
        },
        "id": "hmfU1aH-msjj",
        "outputId": "b62f007c-f61e-4173-b60f-7449f9998e80"
      },
      "execution_count": null,
      "outputs": [
        {
          "output_type": "execute_result",
          "data": {
            "text/plain": [
              "['\\nFounded in the early 18th century as a pearling and fishing settlement, Dubai became a regional trade hub in the 20th century after declaring itself a free port (1901) and extending the Creek (1961).',\n",
              " \"[11] Modest oil revenue helped accelerate Dubai's development from the 1960s to the 1990s when the city started to diversify its economy.\",\n",
              " \"[11] In 2018, oil production contributed less than 1% to the emirate's GDP.\",\n",
              " \"[12]\\n\\nRapid construction since the 1990s has produced one of the world's densest skylines,[13] including the world's tallest building, the Burj Khalifa.\",\n",
              " 'Extensive land-reclamation projects have added more than 300 kilometres (190 mi) of artificial coastline.',\n",
              " 'The city has a large real estate market, especially in the luxury segment.']"
            ]
          },
          "metadata": {},
          "execution_count": 5
        }
      ]
    },
    {
      "cell_type": "code",
      "source": [
        "lemmatizer=WordNetLemmatizer()"
      ],
      "metadata": {
        "id": "UiEpsdFlnA5f"
      },
      "execution_count": null,
      "outputs": []
    },
    {
      "cell_type": "code",
      "source": [
        "corpus=[]\n",
        "for i in range( len(sentences)):\n",
        "  review=re.sub('[^a-zA-Z]',' ',sentences[i])\n",
        "  review=review.lower()\n",
        "  review=review.split()\n",
        "  review=[lemmatizer.lemmatize(word) for word in review if word not in set(stopwords.words('english'))]\n",
        "  review=' '.join(review)\n",
        "  corpus.append(review)"
      ],
      "metadata": {
        "id": "16meTUhWnEdF"
      },
      "execution_count": null,
      "outputs": []
    },
    {
      "cell_type": "code",
      "source": [
        "corpus"
      ],
      "metadata": {
        "colab": {
          "base_uri": "https://localhost:8080/"
        },
        "id": "ygoou49onfjB",
        "outputId": "58dc073c-3085-4626-cb2b-b6293a66266b"
      },
      "execution_count": null,
      "outputs": [
        {
          "output_type": "execute_result",
          "data": {
            "text/plain": [
              "['founded early th century pearling fishing settlement dubai became regional trade hub th century declaring free port extending creek',\n",
              " 'modest oil revenue helped accelerate dubai development city started diversify economy',\n",
              " 'oil production contributed less emirate gdp',\n",
              " 'rapid construction since produced one world densest skyline including world tallest building burj khalifa',\n",
              " 'extensive land reclamation project added kilometre mi artificial coastline',\n",
              " 'city large real estate market especially luxury segment']"
            ]
          },
          "metadata": {},
          "execution_count": 8
        }
      ]
    },
    {
      "cell_type": "markdown",
      "source": [
        "**Count Vectorizer**"
      ],
      "metadata": {
        "id": "xtVsyOA2rlCt"
      }
    },
    {
      "cell_type": "code",
      "source": [
        "cv=CountVectorizer(ngram_range=(1,2))"
      ],
      "metadata": {
        "id": "efaH3OcGnm_C"
      },
      "execution_count": null,
      "outputs": []
    },
    {
      "cell_type": "code",
      "source": [
        "x=cv.fit_transform(corpus)\n",
        "x[0].toarray()"
      ],
      "metadata": {
        "colab": {
          "base_uri": "https://localhost:8080/"
        },
        "id": "8fpT7yd3nwpV",
        "outputId": "707c2916-d31c-4ccd-de5d-9b11866d7c68"
      },
      "execution_count": null,
      "outputs": [
        {
          "output_type": "execute_result",
          "data": {
            "text/plain": [
              "array([[0, 0, 0, 0, 0, 0, 1, 1, 0, 0, 0, 0, 2, 1, 1, 0, 0, 0, 0, 0, 0, 0,\n",
              "        0, 1, 1, 1, 0, 0, 0, 0, 0, 0, 1, 1, 0, 1, 1, 0, 0, 0, 0, 0, 0, 0,\n",
              "        1, 1, 0, 0, 1, 1, 1, 1, 1, 1, 0, 0, 0, 1, 1, 0, 0, 0, 0, 0, 0, 0,\n",
              "        0, 0, 0, 0, 0, 0, 0, 0, 0, 0, 0, 0, 0, 0, 0, 0, 0, 1, 1, 1, 1, 0,\n",
              "        0, 0, 0, 0, 0, 0, 0, 0, 0, 0, 0, 1, 1, 0, 0, 0, 1, 1, 0, 0, 0, 0,\n",
              "        0, 0, 0, 0, 2, 2, 1, 1, 0, 0, 0]])"
            ]
          },
          "metadata": {},
          "execution_count": 10
        }
      ]
    },
    {
      "cell_type": "code",
      "source": [
        "cv.get_feature_names_out()"
      ],
      "metadata": {
        "colab": {
          "base_uri": "https://localhost:8080/"
        },
        "id": "OlIhaxJTpmzN",
        "outputId": "c3994487-dad0-4add-c0df-c672bf840c6f"
      },
      "execution_count": null,
      "outputs": [
        {
          "output_type": "execute_result",
          "data": {
            "text/plain": [
              "array(['accelerate', 'accelerate dubai', 'added', 'added kilometre',\n",
              "       'artificial', 'artificial coastline', 'became', 'became regional',\n",
              "       'building', 'building burj', 'burj', 'burj khalifa', 'century',\n",
              "       'century declaring', 'century pearling', 'city', 'city large',\n",
              "       'city started', 'coastline', 'construction', 'construction since',\n",
              "       'contributed', 'contributed less', 'creek', 'declaring',\n",
              "       'declaring free', 'densest', 'densest skyline', 'development',\n",
              "       'development city', 'diversify', 'diversify economy', 'dubai',\n",
              "       'dubai became', 'dubai development', 'early', 'early th',\n",
              "       'economy', 'emirate', 'emirate gdp', 'especially',\n",
              "       'especially luxury', 'estate', 'estate market', 'extending',\n",
              "       'extending creek', 'extensive', 'extensive land', 'fishing',\n",
              "       'fishing settlement', 'founded', 'founded early', 'free',\n",
              "       'free port', 'gdp', 'helped', 'helped accelerate', 'hub', 'hub th',\n",
              "       'including', 'including world', 'khalifa', 'kilometre',\n",
              "       'kilometre mi', 'land', 'land reclamation', 'large', 'large real',\n",
              "       'less', 'less emirate', 'luxury', 'luxury segment', 'market',\n",
              "       'market especially', 'mi', 'mi artificial', 'modest', 'modest oil',\n",
              "       'oil', 'oil production', 'oil revenue', 'one', 'one world',\n",
              "       'pearling', 'pearling fishing', 'port', 'port extending',\n",
              "       'produced', 'produced one', 'production', 'production contributed',\n",
              "       'project', 'project added', 'rapid', 'rapid construction', 'real',\n",
              "       'real estate', 'reclamation', 'reclamation project', 'regional',\n",
              "       'regional trade', 'revenue', 'revenue helped', 'segment',\n",
              "       'settlement', 'settlement dubai', 'since', 'since produced',\n",
              "       'skyline', 'skyline including', 'started', 'started diversify',\n",
              "       'tallest', 'tallest building', 'th', 'th century', 'trade',\n",
              "       'trade hub', 'world', 'world densest', 'world tallest'],\n",
              "      dtype=object)"
            ]
          },
          "metadata": {},
          "execution_count": 11
        }
      ]
    },
    {
      "cell_type": "code",
      "source": [
        "x.shape"
      ],
      "metadata": {
        "colab": {
          "base_uri": "https://localhost:8080/"
        },
        "id": "Xo6-IOqrpqDm",
        "outputId": "b2f198b6-0fc7-47e7-994f-7eb294095b9b"
      },
      "execution_count": null,
      "outputs": [
        {
          "output_type": "execute_result",
          "data": {
            "text/plain": [
              "(6, 121)"
            ]
          },
          "metadata": {},
          "execution_count": 12
        }
      ]
    },
    {
      "cell_type": "code",
      "source": [
        "text_feature=pd.DataFrame(x.toarray(), columns=cv.get_feature_names_out())\n",
        "text_feature"
      ],
      "metadata": {
        "colab": {
          "base_uri": "https://localhost:8080/",
          "height": 304
        },
        "id": "WgrfYwNxn4T_",
        "outputId": "73d7acd8-796d-4518-b1fb-c44567855b27"
      },
      "execution_count": null,
      "outputs": [
        {
          "output_type": "execute_result",
          "data": {
            "text/plain": [
              "   accelerate  accelerate dubai  added  added kilometre  artificial  \\\n",
              "0           0                 0      0                0           0   \n",
              "1           1                 1      0                0           0   \n",
              "2           0                 0      0                0           0   \n",
              "3           0                 0      0                0           0   \n",
              "4           0                 0      1                1           1   \n",
              "5           0                 0      0                0           0   \n",
              "\n",
              "   artificial coastline  became  became regional  building  building burj  \\\n",
              "0                     0       1                1         0              0   \n",
              "1                     0       0                0         0              0   \n",
              "2                     0       0                0         0              0   \n",
              "3                     0       0                0         1              1   \n",
              "4                     1       0                0         0              0   \n",
              "5                     0       0                0         0              0   \n",
              "\n",
              "   ...  started diversify  tallest  tallest building  th  th century  trade  \\\n",
              "0  ...                  0        0                 0   2           2      1   \n",
              "1  ...                  1        0                 0   0           0      0   \n",
              "2  ...                  0        0                 0   0           0      0   \n",
              "3  ...                  0        1                 1   0           0      0   \n",
              "4  ...                  0        0                 0   0           0      0   \n",
              "5  ...                  0        0                 0   0           0      0   \n",
              "\n",
              "   trade hub  world  world densest  world tallest  \n",
              "0          1      0              0              0  \n",
              "1          0      0              0              0  \n",
              "2          0      0              0              0  \n",
              "3          0      2              1              1  \n",
              "4          0      0              0              0  \n",
              "5          0      0              0              0  \n",
              "\n",
              "[6 rows x 121 columns]"
            ],
            "text/html": [
              "\n",
              "  <div id=\"df-f44c17ee-f580-4dff-8530-16a079e492c1\" class=\"colab-df-container\">\n",
              "    <div>\n",
              "<style scoped>\n",
              "    .dataframe tbody tr th:only-of-type {\n",
              "        vertical-align: middle;\n",
              "    }\n",
              "\n",
              "    .dataframe tbody tr th {\n",
              "        vertical-align: top;\n",
              "    }\n",
              "\n",
              "    .dataframe thead th {\n",
              "        text-align: right;\n",
              "    }\n",
              "</style>\n",
              "<table border=\"1\" class=\"dataframe\">\n",
              "  <thead>\n",
              "    <tr style=\"text-align: right;\">\n",
              "      <th></th>\n",
              "      <th>accelerate</th>\n",
              "      <th>accelerate dubai</th>\n",
              "      <th>added</th>\n",
              "      <th>added kilometre</th>\n",
              "      <th>artificial</th>\n",
              "      <th>artificial coastline</th>\n",
              "      <th>became</th>\n",
              "      <th>became regional</th>\n",
              "      <th>building</th>\n",
              "      <th>building burj</th>\n",
              "      <th>...</th>\n",
              "      <th>started diversify</th>\n",
              "      <th>tallest</th>\n",
              "      <th>tallest building</th>\n",
              "      <th>th</th>\n",
              "      <th>th century</th>\n",
              "      <th>trade</th>\n",
              "      <th>trade hub</th>\n",
              "      <th>world</th>\n",
              "      <th>world densest</th>\n",
              "      <th>world tallest</th>\n",
              "    </tr>\n",
              "  </thead>\n",
              "  <tbody>\n",
              "    <tr>\n",
              "      <th>0</th>\n",
              "      <td>0</td>\n",
              "      <td>0</td>\n",
              "      <td>0</td>\n",
              "      <td>0</td>\n",
              "      <td>0</td>\n",
              "      <td>0</td>\n",
              "      <td>1</td>\n",
              "      <td>1</td>\n",
              "      <td>0</td>\n",
              "      <td>0</td>\n",
              "      <td>...</td>\n",
              "      <td>0</td>\n",
              "      <td>0</td>\n",
              "      <td>0</td>\n",
              "      <td>2</td>\n",
              "      <td>2</td>\n",
              "      <td>1</td>\n",
              "      <td>1</td>\n",
              "      <td>0</td>\n",
              "      <td>0</td>\n",
              "      <td>0</td>\n",
              "    </tr>\n",
              "    <tr>\n",
              "      <th>1</th>\n",
              "      <td>1</td>\n",
              "      <td>1</td>\n",
              "      <td>0</td>\n",
              "      <td>0</td>\n",
              "      <td>0</td>\n",
              "      <td>0</td>\n",
              "      <td>0</td>\n",
              "      <td>0</td>\n",
              "      <td>0</td>\n",
              "      <td>0</td>\n",
              "      <td>...</td>\n",
              "      <td>1</td>\n",
              "      <td>0</td>\n",
              "      <td>0</td>\n",
              "      <td>0</td>\n",
              "      <td>0</td>\n",
              "      <td>0</td>\n",
              "      <td>0</td>\n",
              "      <td>0</td>\n",
              "      <td>0</td>\n",
              "      <td>0</td>\n",
              "    </tr>\n",
              "    <tr>\n",
              "      <th>2</th>\n",
              "      <td>0</td>\n",
              "      <td>0</td>\n",
              "      <td>0</td>\n",
              "      <td>0</td>\n",
              "      <td>0</td>\n",
              "      <td>0</td>\n",
              "      <td>0</td>\n",
              "      <td>0</td>\n",
              "      <td>0</td>\n",
              "      <td>0</td>\n",
              "      <td>...</td>\n",
              "      <td>0</td>\n",
              "      <td>0</td>\n",
              "      <td>0</td>\n",
              "      <td>0</td>\n",
              "      <td>0</td>\n",
              "      <td>0</td>\n",
              "      <td>0</td>\n",
              "      <td>0</td>\n",
              "      <td>0</td>\n",
              "      <td>0</td>\n",
              "    </tr>\n",
              "    <tr>\n",
              "      <th>3</th>\n",
              "      <td>0</td>\n",
              "      <td>0</td>\n",
              "      <td>0</td>\n",
              "      <td>0</td>\n",
              "      <td>0</td>\n",
              "      <td>0</td>\n",
              "      <td>0</td>\n",
              "      <td>0</td>\n",
              "      <td>1</td>\n",
              "      <td>1</td>\n",
              "      <td>...</td>\n",
              "      <td>0</td>\n",
              "      <td>1</td>\n",
              "      <td>1</td>\n",
              "      <td>0</td>\n",
              "      <td>0</td>\n",
              "      <td>0</td>\n",
              "      <td>0</td>\n",
              "      <td>2</td>\n",
              "      <td>1</td>\n",
              "      <td>1</td>\n",
              "    </tr>\n",
              "    <tr>\n",
              "      <th>4</th>\n",
              "      <td>0</td>\n",
              "      <td>0</td>\n",
              "      <td>1</td>\n",
              "      <td>1</td>\n",
              "      <td>1</td>\n",
              "      <td>1</td>\n",
              "      <td>0</td>\n",
              "      <td>0</td>\n",
              "      <td>0</td>\n",
              "      <td>0</td>\n",
              "      <td>...</td>\n",
              "      <td>0</td>\n",
              "      <td>0</td>\n",
              "      <td>0</td>\n",
              "      <td>0</td>\n",
              "      <td>0</td>\n",
              "      <td>0</td>\n",
              "      <td>0</td>\n",
              "      <td>0</td>\n",
              "      <td>0</td>\n",
              "      <td>0</td>\n",
              "    </tr>\n",
              "    <tr>\n",
              "      <th>5</th>\n",
              "      <td>0</td>\n",
              "      <td>0</td>\n",
              "      <td>0</td>\n",
              "      <td>0</td>\n",
              "      <td>0</td>\n",
              "      <td>0</td>\n",
              "      <td>0</td>\n",
              "      <td>0</td>\n",
              "      <td>0</td>\n",
              "      <td>0</td>\n",
              "      <td>...</td>\n",
              "      <td>0</td>\n",
              "      <td>0</td>\n",
              "      <td>0</td>\n",
              "      <td>0</td>\n",
              "      <td>0</td>\n",
              "      <td>0</td>\n",
              "      <td>0</td>\n",
              "      <td>0</td>\n",
              "      <td>0</td>\n",
              "      <td>0</td>\n",
              "    </tr>\n",
              "  </tbody>\n",
              "</table>\n",
              "<p>6 rows × 121 columns</p>\n",
              "</div>\n",
              "    <div class=\"colab-df-buttons\">\n",
              "\n",
              "  <div class=\"colab-df-container\">\n",
              "    <button class=\"colab-df-convert\" onclick=\"convertToInteractive('df-f44c17ee-f580-4dff-8530-16a079e492c1')\"\n",
              "            title=\"Convert this dataframe to an interactive table.\"\n",
              "            style=\"display:none;\">\n",
              "\n",
              "  <svg xmlns=\"http://www.w3.org/2000/svg\" height=\"24px\" viewBox=\"0 -960 960 960\">\n",
              "    <path d=\"M120-120v-720h720v720H120Zm60-500h600v-160H180v160Zm220 220h160v-160H400v160Zm0 220h160v-160H400v160ZM180-400h160v-160H180v160Zm440 0h160v-160H620v160ZM180-180h160v-160H180v160Zm440 0h160v-160H620v160Z\"/>\n",
              "  </svg>\n",
              "    </button>\n",
              "\n",
              "  <style>\n",
              "    .colab-df-container {\n",
              "      display:flex;\n",
              "      gap: 12px;\n",
              "    }\n",
              "\n",
              "    .colab-df-convert {\n",
              "      background-color: #E8F0FE;\n",
              "      border: none;\n",
              "      border-radius: 50%;\n",
              "      cursor: pointer;\n",
              "      display: none;\n",
              "      fill: #1967D2;\n",
              "      height: 32px;\n",
              "      padding: 0 0 0 0;\n",
              "      width: 32px;\n",
              "    }\n",
              "\n",
              "    .colab-df-convert:hover {\n",
              "      background-color: #E2EBFA;\n",
              "      box-shadow: 0px 1px 2px rgba(60, 64, 67, 0.3), 0px 1px 3px 1px rgba(60, 64, 67, 0.15);\n",
              "      fill: #174EA6;\n",
              "    }\n",
              "\n",
              "    .colab-df-buttons div {\n",
              "      margin-bottom: 4px;\n",
              "    }\n",
              "\n",
              "    [theme=dark] .colab-df-convert {\n",
              "      background-color: #3B4455;\n",
              "      fill: #D2E3FC;\n",
              "    }\n",
              "\n",
              "    [theme=dark] .colab-df-convert:hover {\n",
              "      background-color: #434B5C;\n",
              "      box-shadow: 0px 1px 3px 1px rgba(0, 0, 0, 0.15);\n",
              "      filter: drop-shadow(0px 1px 2px rgba(0, 0, 0, 0.3));\n",
              "      fill: #FFFFFF;\n",
              "    }\n",
              "  </style>\n",
              "\n",
              "    <script>\n",
              "      const buttonEl =\n",
              "        document.querySelector('#df-f44c17ee-f580-4dff-8530-16a079e492c1 button.colab-df-convert');\n",
              "      buttonEl.style.display =\n",
              "        google.colab.kernel.accessAllowed ? 'block' : 'none';\n",
              "\n",
              "      async function convertToInteractive(key) {\n",
              "        const element = document.querySelector('#df-f44c17ee-f580-4dff-8530-16a079e492c1');\n",
              "        const dataTable =\n",
              "          await google.colab.kernel.invokeFunction('convertToInteractive',\n",
              "                                                    [key], {});\n",
              "        if (!dataTable) return;\n",
              "\n",
              "        const docLinkHtml = 'Like what you see? Visit the ' +\n",
              "          '<a target=\"_blank\" href=https://colab.research.google.com/notebooks/data_table.ipynb>data table notebook</a>'\n",
              "          + ' to learn more about interactive tables.';\n",
              "        element.innerHTML = '';\n",
              "        dataTable['output_type'] = 'display_data';\n",
              "        await google.colab.output.renderOutput(dataTable, element);\n",
              "        const docLink = document.createElement('div');\n",
              "        docLink.innerHTML = docLinkHtml;\n",
              "        element.appendChild(docLink);\n",
              "      }\n",
              "    </script>\n",
              "  </div>\n",
              "\n",
              "\n",
              "    <div id=\"df-b398b081-59c3-4d4f-8b72-b331f78c6a43\">\n",
              "      <button class=\"colab-df-quickchart\" onclick=\"quickchart('df-b398b081-59c3-4d4f-8b72-b331f78c6a43')\"\n",
              "                title=\"Suggest charts\"\n",
              "                style=\"display:none;\">\n",
              "\n",
              "<svg xmlns=\"http://www.w3.org/2000/svg\" height=\"24px\"viewBox=\"0 0 24 24\"\n",
              "     width=\"24px\">\n",
              "    <g>\n",
              "        <path d=\"M19 3H5c-1.1 0-2 .9-2 2v14c0 1.1.9 2 2 2h14c1.1 0 2-.9 2-2V5c0-1.1-.9-2-2-2zM9 17H7v-7h2v7zm4 0h-2V7h2v10zm4 0h-2v-4h2v4z\"/>\n",
              "    </g>\n",
              "</svg>\n",
              "      </button>\n",
              "\n",
              "<style>\n",
              "  .colab-df-quickchart {\n",
              "      --bg-color: #E8F0FE;\n",
              "      --fill-color: #1967D2;\n",
              "      --hover-bg-color: #E2EBFA;\n",
              "      --hover-fill-color: #174EA6;\n",
              "      --disabled-fill-color: #AAA;\n",
              "      --disabled-bg-color: #DDD;\n",
              "  }\n",
              "\n",
              "  [theme=dark] .colab-df-quickchart {\n",
              "      --bg-color: #3B4455;\n",
              "      --fill-color: #D2E3FC;\n",
              "      --hover-bg-color: #434B5C;\n",
              "      --hover-fill-color: #FFFFFF;\n",
              "      --disabled-bg-color: #3B4455;\n",
              "      --disabled-fill-color: #666;\n",
              "  }\n",
              "\n",
              "  .colab-df-quickchart {\n",
              "    background-color: var(--bg-color);\n",
              "    border: none;\n",
              "    border-radius: 50%;\n",
              "    cursor: pointer;\n",
              "    display: none;\n",
              "    fill: var(--fill-color);\n",
              "    height: 32px;\n",
              "    padding: 0;\n",
              "    width: 32px;\n",
              "  }\n",
              "\n",
              "  .colab-df-quickchart:hover {\n",
              "    background-color: var(--hover-bg-color);\n",
              "    box-shadow: 0 1px 2px rgba(60, 64, 67, 0.3), 0 1px 3px 1px rgba(60, 64, 67, 0.15);\n",
              "    fill: var(--button-hover-fill-color);\n",
              "  }\n",
              "\n",
              "  .colab-df-quickchart-complete:disabled,\n",
              "  .colab-df-quickchart-complete:disabled:hover {\n",
              "    background-color: var(--disabled-bg-color);\n",
              "    fill: var(--disabled-fill-color);\n",
              "    box-shadow: none;\n",
              "  }\n",
              "\n",
              "  .colab-df-spinner {\n",
              "    border: 2px solid var(--fill-color);\n",
              "    border-color: transparent;\n",
              "    border-bottom-color: var(--fill-color);\n",
              "    animation:\n",
              "      spin 1s steps(1) infinite;\n",
              "  }\n",
              "\n",
              "  @keyframes spin {\n",
              "    0% {\n",
              "      border-color: transparent;\n",
              "      border-bottom-color: var(--fill-color);\n",
              "      border-left-color: var(--fill-color);\n",
              "    }\n",
              "    20% {\n",
              "      border-color: transparent;\n",
              "      border-left-color: var(--fill-color);\n",
              "      border-top-color: var(--fill-color);\n",
              "    }\n",
              "    30% {\n",
              "      border-color: transparent;\n",
              "      border-left-color: var(--fill-color);\n",
              "      border-top-color: var(--fill-color);\n",
              "      border-right-color: var(--fill-color);\n",
              "    }\n",
              "    40% {\n",
              "      border-color: transparent;\n",
              "      border-right-color: var(--fill-color);\n",
              "      border-top-color: var(--fill-color);\n",
              "    }\n",
              "    60% {\n",
              "      border-color: transparent;\n",
              "      border-right-color: var(--fill-color);\n",
              "    }\n",
              "    80% {\n",
              "      border-color: transparent;\n",
              "      border-right-color: var(--fill-color);\n",
              "      border-bottom-color: var(--fill-color);\n",
              "    }\n",
              "    90% {\n",
              "      border-color: transparent;\n",
              "      border-bottom-color: var(--fill-color);\n",
              "    }\n",
              "  }\n",
              "</style>\n",
              "\n",
              "      <script>\n",
              "        async function quickchart(key) {\n",
              "          const quickchartButtonEl =\n",
              "            document.querySelector('#' + key + ' button');\n",
              "          quickchartButtonEl.disabled = true;  // To prevent multiple clicks.\n",
              "          quickchartButtonEl.classList.add('colab-df-spinner');\n",
              "          try {\n",
              "            const charts = await google.colab.kernel.invokeFunction(\n",
              "                'suggestCharts', [key], {});\n",
              "          } catch (error) {\n",
              "            console.error('Error during call to suggestCharts:', error);\n",
              "          }\n",
              "          quickchartButtonEl.classList.remove('colab-df-spinner');\n",
              "          quickchartButtonEl.classList.add('colab-df-quickchart-complete');\n",
              "        }\n",
              "        (() => {\n",
              "          let quickchartButtonEl =\n",
              "            document.querySelector('#df-b398b081-59c3-4d4f-8b72-b331f78c6a43 button');\n",
              "          quickchartButtonEl.style.display =\n",
              "            google.colab.kernel.accessAllowed ? 'block' : 'none';\n",
              "        })();\n",
              "      </script>\n",
              "    </div>\n",
              "\n",
              "  <div id=\"id_45ccc373-b60e-4d03-b4fe-2dc3bb3bfa4c\">\n",
              "    <style>\n",
              "      .colab-df-generate {\n",
              "        background-color: #E8F0FE;\n",
              "        border: none;\n",
              "        border-radius: 50%;\n",
              "        cursor: pointer;\n",
              "        display: none;\n",
              "        fill: #1967D2;\n",
              "        height: 32px;\n",
              "        padding: 0 0 0 0;\n",
              "        width: 32px;\n",
              "      }\n",
              "\n",
              "      .colab-df-generate:hover {\n",
              "        background-color: #E2EBFA;\n",
              "        box-shadow: 0px 1px 2px rgba(60, 64, 67, 0.3), 0px 1px 3px 1px rgba(60, 64, 67, 0.15);\n",
              "        fill: #174EA6;\n",
              "      }\n",
              "\n",
              "      [theme=dark] .colab-df-generate {\n",
              "        background-color: #3B4455;\n",
              "        fill: #D2E3FC;\n",
              "      }\n",
              "\n",
              "      [theme=dark] .colab-df-generate:hover {\n",
              "        background-color: #434B5C;\n",
              "        box-shadow: 0px 1px 3px 1px rgba(0, 0, 0, 0.15);\n",
              "        filter: drop-shadow(0px 1px 2px rgba(0, 0, 0, 0.3));\n",
              "        fill: #FFFFFF;\n",
              "      }\n",
              "    </style>\n",
              "    <button class=\"colab-df-generate\" onclick=\"generateWithVariable('text_feature')\"\n",
              "            title=\"Generate code using this dataframe.\"\n",
              "            style=\"display:none;\">\n",
              "\n",
              "  <svg xmlns=\"http://www.w3.org/2000/svg\" height=\"24px\"viewBox=\"0 0 24 24\"\n",
              "       width=\"24px\">\n",
              "    <path d=\"M7,19H8.4L18.45,9,17,7.55,7,17.6ZM5,21V16.75L18.45,3.32a2,2,0,0,1,2.83,0l1.4,1.43a1.91,1.91,0,0,1,.58,1.4,1.91,1.91,0,0,1-.58,1.4L9.25,21ZM18.45,9,17,7.55Zm-12,3A5.31,5.31,0,0,0,4.9,8.1,5.31,5.31,0,0,0,1,6.5,5.31,5.31,0,0,0,4.9,4.9,5.31,5.31,0,0,0,6.5,1,5.31,5.31,0,0,0,8.1,4.9,5.31,5.31,0,0,0,12,6.5,5.46,5.46,0,0,0,6.5,12Z\"/>\n",
              "  </svg>\n",
              "    </button>\n",
              "    <script>\n",
              "      (() => {\n",
              "      const buttonEl =\n",
              "        document.querySelector('#id_45ccc373-b60e-4d03-b4fe-2dc3bb3bfa4c button.colab-df-generate');\n",
              "      buttonEl.style.display =\n",
              "        google.colab.kernel.accessAllowed ? 'block' : 'none';\n",
              "\n",
              "      buttonEl.onclick = () => {\n",
              "        google.colab.notebook.generateWithVariable('text_feature');\n",
              "      }\n",
              "      })();\n",
              "    </script>\n",
              "  </div>\n",
              "\n",
              "    </div>\n",
              "  </div>\n"
            ],
            "application/vnd.google.colaboratory.intrinsic+json": {
              "type": "dataframe",
              "variable_name": "text_feature"
            }
          },
          "metadata": {},
          "execution_count": 13
        }
      ]
    },
    {
      "cell_type": "code",
      "source": [
        "(x[0].toarray()).shape"
      ],
      "metadata": {
        "colab": {
          "base_uri": "https://localhost:8080/"
        },
        "id": "4WAtiM_8pvbK",
        "outputId": "89ef82ab-1296-4d32-b8d7-7b48c4f79646"
      },
      "execution_count": null,
      "outputs": [
        {
          "output_type": "execute_result",
          "data": {
            "text/plain": [
              "(1, 121)"
            ]
          },
          "metadata": {},
          "execution_count": 14
        }
      ]
    },
    {
      "cell_type": "code",
      "source": [
        "\n",
        "stopword=stopwords.words('english')\n",
        "\n",
        "punctuation=string.punctuation\n",
        "def rem_stopwords_punctuation(text):\n",
        "  stopword=stopwords.words('english')\n",
        "  punctuation=string.punctuation\n",
        "  text=text.lower()\n",
        "  tokens=word_tokenize(text)\n",
        "  cleaned_text=[word for word in tokens if word not in stopword]\n",
        "  cleaned_text=[word for word in tokens if word not in punctuation]\n",
        "  cleaned_text=' '.join(cleaned_text)\n",
        "  return cleaned_text"
      ],
      "metadata": {
        "id": "tQwds89nqA3V"
      },
      "execution_count": null,
      "outputs": []
    },
    {
      "cell_type": "code",
      "source": [
        "new=rem_stopwords_punctuation (para)"
      ],
      "metadata": {
        "id": "33sFDMhAqvAY"
      },
      "execution_count": null,
      "outputs": []
    },
    {
      "cell_type": "code",
      "source": [
        "new"
      ],
      "metadata": {
        "colab": {
          "base_uri": "https://localhost:8080/",
          "height": 88
        },
        "id": "EaJfrWIaqwo0",
        "outputId": "fa6fec5c-472d-4e67-933e-973a8af97333"
      },
      "execution_count": null,
      "outputs": [
        {
          "output_type": "execute_result",
          "data": {
            "text/plain": [
              "\"founded in the early 18th century as a pearling and fishing settlement dubai became a regional trade hub in the 20th century after declaring itself a free port 1901 and extending the creek 1961 11 modest oil revenue helped accelerate dubai 's development from the 1960s to the 1990s when the city started to diversify its economy 11 in 2018 oil production contributed less than 1 to the emirate 's gdp 12 rapid construction since the 1990s has produced one of the world 's densest skylines 13 including the world 's tallest building the burj khalifa extensive land-reclamation projects have added more than 300 kilometres 190 mi of artificial coastline the city has a large real estate market especially in the luxury segment\""
            ],
            "application/vnd.google.colaboratory.intrinsic+json": {
              "type": "string"
            }
          },
          "metadata": {},
          "execution_count": 18
        }
      ]
    },
    {
      "cell_type": "code",
      "source": [
        "def stemmer(text):\n",
        "  for sent in sent_tokenize(text):\n",
        "    for word in word_tokenize(sent):\n",
        "      lemmatizer.lemmatize(word)"
      ],
      "metadata": {
        "id": "SeFK_fXLqx4x"
      },
      "execution_count": null,
      "outputs": []
    },
    {
      "cell_type": "code",
      "source": [
        "stemmer(new)"
      ],
      "metadata": {
        "id": "8ce5DvDTq62r"
      },
      "execution_count": null,
      "outputs": []
    },
    {
      "cell_type": "markdown",
      "source": [
        "**TF-IDF Vectorizer**"
      ],
      "metadata": {
        "id": "yR_-3i7trOmC"
      }
    },
    {
      "cell_type": "code",
      "source": [
        "np.log((5/6))"
      ],
      "metadata": {
        "colab": {
          "base_uri": "https://localhost:8080/"
        },
        "id": "-jc33mgrrYjz",
        "outputId": "3a753ced-5469-4412-c628-4c16f492f835"
      },
      "execution_count": null,
      "outputs": [
        {
          "output_type": "execute_result",
          "data": {
            "text/plain": [
              "np.float64(-0.1823215567939546)"
            ]
          },
          "metadata": {},
          "execution_count": 21
        }
      ]
    },
    {
      "cell_type": "code",
      "source": [
        "from sklearn.feature_extraction.text import TfidfVectorizer"
      ],
      "metadata": {
        "id": "X38WvZ6yrbNZ"
      },
      "execution_count": null,
      "outputs": []
    },
    {
      "cell_type": "code",
      "source": [
        "tf_vect=TfidfVectorizer(ngram_range=(1,2))"
      ],
      "metadata": {
        "id": "fK085HGJs6cc"
      },
      "execution_count": null,
      "outputs": []
    },
    {
      "cell_type": "code",
      "source": [
        "x=tf_vect.fit_transform(corpus)\n",
        "x.toarray()"
      ],
      "metadata": {
        "colab": {
          "base_uri": "https://localhost:8080/"
        },
        "id": "bIDPaaQNtAG8",
        "outputId": "b402680d-282b-4a43-b764-eda071813024"
      },
      "execution_count": null,
      "outputs": [
        {
          "output_type": "execute_result",
          "data": {
            "text/plain": [
              "array([[0.        , 0.        , 0.        , 0.        , 0.        ,\n",
              "        0.        , 0.15308278, 0.15308278, 0.        , 0.        ,\n",
              "        0.        , 0.        , 0.30616556, 0.15308278, 0.15308278,\n",
              "        0.        , 0.        , 0.        , 0.        , 0.        ,\n",
              "        0.        , 0.        , 0.        , 0.15308278, 0.15308278,\n",
              "        0.15308278, 0.        , 0.        , 0.        , 0.        ,\n",
              "        0.        , 0.        , 0.12553007, 0.15308278, 0.        ,\n",
              "        0.15308278, 0.15308278, 0.        , 0.        , 0.        ,\n",
              "        0.        , 0.        , 0.        , 0.        , 0.15308278,\n",
              "        0.15308278, 0.        , 0.        , 0.15308278, 0.15308278,\n",
              "        0.15308278, 0.15308278, 0.15308278, 0.15308278, 0.        ,\n",
              "        0.        , 0.        , 0.15308278, 0.15308278, 0.        ,\n",
              "        0.        , 0.        , 0.        , 0.        , 0.        ,\n",
              "        0.        , 0.        , 0.        , 0.        , 0.        ,\n",
              "        0.        , 0.        , 0.        , 0.        , 0.        ,\n",
              "        0.        , 0.        , 0.        , 0.        , 0.        ,\n",
              "        0.        , 0.        , 0.        , 0.15308278, 0.15308278,\n",
              "        0.15308278, 0.15308278, 0.        , 0.        , 0.        ,\n",
              "        0.        , 0.        , 0.        , 0.        , 0.        ,\n",
              "        0.        , 0.        , 0.        , 0.        , 0.15308278,\n",
              "        0.15308278, 0.        , 0.        , 0.        , 0.15308278,\n",
              "        0.15308278, 0.        , 0.        , 0.        , 0.        ,\n",
              "        0.        , 0.        , 0.        , 0.        , 0.30616556,\n",
              "        0.30616556, 0.15308278, 0.15308278, 0.        , 0.        ,\n",
              "        0.        ],\n",
              "       [0.22351032, 0.22351032, 0.        , 0.        , 0.        ,\n",
              "        0.        , 0.        , 0.        , 0.        , 0.        ,\n",
              "        0.        , 0.        , 0.        , 0.        , 0.        ,\n",
              "        0.18328166, 0.        , 0.22351032, 0.        , 0.        ,\n",
              "        0.        , 0.        , 0.        , 0.        , 0.        ,\n",
              "        0.        , 0.        , 0.        , 0.22351032, 0.22351032,\n",
              "        0.22351032, 0.22351032, 0.18328166, 0.        , 0.22351032,\n",
              "        0.        , 0.        , 0.22351032, 0.        , 0.        ,\n",
              "        0.        , 0.        , 0.        , 0.        , 0.        ,\n",
              "        0.        , 0.        , 0.        , 0.        , 0.        ,\n",
              "        0.        , 0.        , 0.        , 0.        , 0.        ,\n",
              "        0.22351032, 0.22351032, 0.        , 0.        , 0.        ,\n",
              "        0.        , 0.        , 0.        , 0.        , 0.        ,\n",
              "        0.        , 0.        , 0.        , 0.        , 0.        ,\n",
              "        0.        , 0.        , 0.        , 0.        , 0.        ,\n",
              "        0.        , 0.22351032, 0.22351032, 0.18328166, 0.        ,\n",
              "        0.22351032, 0.        , 0.        , 0.        , 0.        ,\n",
              "        0.        , 0.        , 0.        , 0.        , 0.        ,\n",
              "        0.        , 0.        , 0.        , 0.        , 0.        ,\n",
              "        0.        , 0.        , 0.        , 0.        , 0.        ,\n",
              "        0.        , 0.22351032, 0.22351032, 0.        , 0.        ,\n",
              "        0.        , 0.        , 0.        , 0.        , 0.        ,\n",
              "        0.22351032, 0.22351032, 0.        , 0.        , 0.        ,\n",
              "        0.        , 0.        , 0.        , 0.        , 0.        ,\n",
              "        0.        ],\n",
              "       [0.        , 0.        , 0.        , 0.        , 0.        ,\n",
              "        0.        , 0.        , 0.        , 0.        , 0.        ,\n",
              "        0.        , 0.        , 0.        , 0.        , 0.        ,\n",
              "        0.        , 0.        , 0.        , 0.        , 0.        ,\n",
              "        0.        , 0.30610363, 0.30610363, 0.        , 0.        ,\n",
              "        0.        , 0.        , 0.        , 0.        , 0.        ,\n",
              "        0.        , 0.        , 0.        , 0.        , 0.        ,\n",
              "        0.        , 0.        , 0.        , 0.30610363, 0.30610363,\n",
              "        0.        , 0.        , 0.        , 0.        , 0.        ,\n",
              "        0.        , 0.        , 0.        , 0.        , 0.        ,\n",
              "        0.        , 0.        , 0.        , 0.        , 0.30610363,\n",
              "        0.        , 0.        , 0.        , 0.        , 0.        ,\n",
              "        0.        , 0.        , 0.        , 0.        , 0.        ,\n",
              "        0.        , 0.        , 0.        , 0.30610363, 0.30610363,\n",
              "        0.        , 0.        , 0.        , 0.        , 0.        ,\n",
              "        0.        , 0.        , 0.        , 0.25100935, 0.30610363,\n",
              "        0.        , 0.        , 0.        , 0.        , 0.        ,\n",
              "        0.        , 0.        , 0.        , 0.        , 0.30610363,\n",
              "        0.30610363, 0.        , 0.        , 0.        , 0.        ,\n",
              "        0.        , 0.        , 0.        , 0.        , 0.        ,\n",
              "        0.        , 0.        , 0.        , 0.        , 0.        ,\n",
              "        0.        , 0.        , 0.        , 0.        , 0.        ,\n",
              "        0.        , 0.        , 0.        , 0.        , 0.        ,\n",
              "        0.        , 0.        , 0.        , 0.        , 0.        ,\n",
              "        0.        ],\n",
              "       [0.        , 0.        , 0.        , 0.        , 0.        ,\n",
              "        0.        , 0.        , 0.        , 0.18569534, 0.18569534,\n",
              "        0.18569534, 0.18569534, 0.        , 0.        , 0.        ,\n",
              "        0.        , 0.        , 0.        , 0.        , 0.18569534,\n",
              "        0.18569534, 0.        , 0.        , 0.        , 0.        ,\n",
              "        0.        , 0.18569534, 0.18569534, 0.        , 0.        ,\n",
              "        0.        , 0.        , 0.        , 0.        , 0.        ,\n",
              "        0.        , 0.        , 0.        , 0.        , 0.        ,\n",
              "        0.        , 0.        , 0.        , 0.        , 0.        ,\n",
              "        0.        , 0.        , 0.        , 0.        , 0.        ,\n",
              "        0.        , 0.        , 0.        , 0.        , 0.        ,\n",
              "        0.        , 0.        , 0.        , 0.        , 0.18569534,\n",
              "        0.18569534, 0.18569534, 0.        , 0.        , 0.        ,\n",
              "        0.        , 0.        , 0.        , 0.        , 0.        ,\n",
              "        0.        , 0.        , 0.        , 0.        , 0.        ,\n",
              "        0.        , 0.        , 0.        , 0.        , 0.        ,\n",
              "        0.        , 0.18569534, 0.18569534, 0.        , 0.        ,\n",
              "        0.        , 0.        , 0.18569534, 0.18569534, 0.        ,\n",
              "        0.        , 0.        , 0.        , 0.18569534, 0.18569534,\n",
              "        0.        , 0.        , 0.        , 0.        , 0.        ,\n",
              "        0.        , 0.        , 0.        , 0.        , 0.        ,\n",
              "        0.        , 0.18569534, 0.18569534, 0.18569534, 0.18569534,\n",
              "        0.        , 0.        , 0.18569534, 0.18569534, 0.        ,\n",
              "        0.        , 0.        , 0.        , 0.37139068, 0.18569534,\n",
              "        0.18569534],\n",
              "       [0.        , 0.        , 0.24253563, 0.24253563, 0.24253563,\n",
              "        0.24253563, 0.        , 0.        , 0.        , 0.        ,\n",
              "        0.        , 0.        , 0.        , 0.        , 0.        ,\n",
              "        0.        , 0.        , 0.        , 0.24253563, 0.        ,\n",
              "        0.        , 0.        , 0.        , 0.        , 0.        ,\n",
              "        0.        , 0.        , 0.        , 0.        , 0.        ,\n",
              "        0.        , 0.        , 0.        , 0.        , 0.        ,\n",
              "        0.        , 0.        , 0.        , 0.        , 0.        ,\n",
              "        0.        , 0.        , 0.        , 0.        , 0.        ,\n",
              "        0.        , 0.24253563, 0.24253563, 0.        , 0.        ,\n",
              "        0.        , 0.        , 0.        , 0.        , 0.        ,\n",
              "        0.        , 0.        , 0.        , 0.        , 0.        ,\n",
              "        0.        , 0.        , 0.24253563, 0.24253563, 0.24253563,\n",
              "        0.24253563, 0.        , 0.        , 0.        , 0.        ,\n",
              "        0.        , 0.        , 0.        , 0.        , 0.24253563,\n",
              "        0.24253563, 0.        , 0.        , 0.        , 0.        ,\n",
              "        0.        , 0.        , 0.        , 0.        , 0.        ,\n",
              "        0.        , 0.        , 0.        , 0.        , 0.        ,\n",
              "        0.        , 0.24253563, 0.24253563, 0.        , 0.        ,\n",
              "        0.        , 0.        , 0.24253563, 0.24253563, 0.        ,\n",
              "        0.        , 0.        , 0.        , 0.        , 0.        ,\n",
              "        0.        , 0.        , 0.        , 0.        , 0.        ,\n",
              "        0.        , 0.        , 0.        , 0.        , 0.        ,\n",
              "        0.        , 0.        , 0.        , 0.        , 0.        ,\n",
              "        0.        ],\n",
              "       [0.        , 0.        , 0.        , 0.        , 0.        ,\n",
              "        0.        , 0.        , 0.        , 0.        , 0.        ,\n",
              "        0.        , 0.        , 0.        , 0.        , 0.        ,\n",
              "        0.21407724, 0.26106525, 0.        , 0.        , 0.        ,\n",
              "        0.        , 0.        , 0.        , 0.        , 0.        ,\n",
              "        0.        , 0.        , 0.        , 0.        , 0.        ,\n",
              "        0.        , 0.        , 0.        , 0.        , 0.        ,\n",
              "        0.        , 0.        , 0.        , 0.        , 0.        ,\n",
              "        0.26106525, 0.26106525, 0.26106525, 0.26106525, 0.        ,\n",
              "        0.        , 0.        , 0.        , 0.        , 0.        ,\n",
              "        0.        , 0.        , 0.        , 0.        , 0.        ,\n",
              "        0.        , 0.        , 0.        , 0.        , 0.        ,\n",
              "        0.        , 0.        , 0.        , 0.        , 0.        ,\n",
              "        0.        , 0.26106525, 0.26106525, 0.        , 0.        ,\n",
              "        0.26106525, 0.26106525, 0.26106525, 0.26106525, 0.        ,\n",
              "        0.        , 0.        , 0.        , 0.        , 0.        ,\n",
              "        0.        , 0.        , 0.        , 0.        , 0.        ,\n",
              "        0.        , 0.        , 0.        , 0.        , 0.        ,\n",
              "        0.        , 0.        , 0.        , 0.        , 0.        ,\n",
              "        0.26106525, 0.26106525, 0.        , 0.        , 0.        ,\n",
              "        0.        , 0.        , 0.        , 0.26106525, 0.        ,\n",
              "        0.        , 0.        , 0.        , 0.        , 0.        ,\n",
              "        0.        , 0.        , 0.        , 0.        , 0.        ,\n",
              "        0.        , 0.        , 0.        , 0.        , 0.        ,\n",
              "        0.        ]])"
            ]
          },
          "metadata": {},
          "execution_count": 25
        }
      ]
    },
    {
      "cell_type": "code",
      "source": [
        "tf_vect.vocabulary_"
      ],
      "metadata": {
        "colab": {
          "base_uri": "https://localhost:8080/"
        },
        "id": "k391qpkFtEEV",
        "outputId": "b1411746-e05a-4551-e848-88521064988b"
      },
      "execution_count": null,
      "outputs": [
        {
          "output_type": "execute_result",
          "data": {
            "text/plain": [
              "{'founded': 50,\n",
              " 'early': 35,\n",
              " 'th': 114,\n",
              " 'century': 12,\n",
              " 'pearling': 83,\n",
              " 'fishing': 48,\n",
              " 'settlement': 104,\n",
              " 'dubai': 32,\n",
              " 'became': 6,\n",
              " 'regional': 99,\n",
              " 'trade': 116,\n",
              " 'hub': 57,\n",
              " 'declaring': 24,\n",
              " 'free': 52,\n",
              " 'port': 85,\n",
              " 'extending': 44,\n",
              " 'creek': 23,\n",
              " 'founded early': 51,\n",
              " 'early th': 36,\n",
              " 'th century': 115,\n",
              " 'century pearling': 14,\n",
              " 'pearling fishing': 84,\n",
              " 'fishing settlement': 49,\n",
              " 'settlement dubai': 105,\n",
              " 'dubai became': 33,\n",
              " 'became regional': 7,\n",
              " 'regional trade': 100,\n",
              " 'trade hub': 117,\n",
              " 'hub th': 58,\n",
              " 'century declaring': 13,\n",
              " 'declaring free': 25,\n",
              " 'free port': 53,\n",
              " 'port extending': 86,\n",
              " 'extending creek': 45,\n",
              " 'modest': 76,\n",
              " 'oil': 78,\n",
              " 'revenue': 101,\n",
              " 'helped': 55,\n",
              " 'accelerate': 0,\n",
              " 'development': 28,\n",
              " 'city': 15,\n",
              " 'started': 110,\n",
              " 'diversify': 30,\n",
              " 'economy': 37,\n",
              " 'modest oil': 77,\n",
              " 'oil revenue': 80,\n",
              " 'revenue helped': 102,\n",
              " 'helped accelerate': 56,\n",
              " 'accelerate dubai': 1,\n",
              " 'dubai development': 34,\n",
              " 'development city': 29,\n",
              " 'city started': 17,\n",
              " 'started diversify': 111,\n",
              " 'diversify economy': 31,\n",
              " 'production': 89,\n",
              " 'contributed': 21,\n",
              " 'less': 68,\n",
              " 'emirate': 38,\n",
              " 'gdp': 54,\n",
              " 'oil production': 79,\n",
              " 'production contributed': 90,\n",
              " 'contributed less': 22,\n",
              " 'less emirate': 69,\n",
              " 'emirate gdp': 39,\n",
              " 'rapid': 93,\n",
              " 'construction': 19,\n",
              " 'since': 106,\n",
              " 'produced': 87,\n",
              " 'one': 81,\n",
              " 'world': 118,\n",
              " 'densest': 26,\n",
              " 'skyline': 108,\n",
              " 'including': 59,\n",
              " 'tallest': 112,\n",
              " 'building': 8,\n",
              " 'burj': 10,\n",
              " 'khalifa': 61,\n",
              " 'rapid construction': 94,\n",
              " 'construction since': 20,\n",
              " 'since produced': 107,\n",
              " 'produced one': 88,\n",
              " 'one world': 82,\n",
              " 'world densest': 119,\n",
              " 'densest skyline': 27,\n",
              " 'skyline including': 109,\n",
              " 'including world': 60,\n",
              " 'world tallest': 120,\n",
              " 'tallest building': 113,\n",
              " 'building burj': 9,\n",
              " 'burj khalifa': 11,\n",
              " 'extensive': 46,\n",
              " 'land': 64,\n",
              " 'reclamation': 97,\n",
              " 'project': 91,\n",
              " 'added': 2,\n",
              " 'kilometre': 62,\n",
              " 'mi': 74,\n",
              " 'artificial': 4,\n",
              " 'coastline': 18,\n",
              " 'extensive land': 47,\n",
              " 'land reclamation': 65,\n",
              " 'reclamation project': 98,\n",
              " 'project added': 92,\n",
              " 'added kilometre': 3,\n",
              " 'kilometre mi': 63,\n",
              " 'mi artificial': 75,\n",
              " 'artificial coastline': 5,\n",
              " 'large': 66,\n",
              " 'real': 95,\n",
              " 'estate': 42,\n",
              " 'market': 72,\n",
              " 'especially': 40,\n",
              " 'luxury': 70,\n",
              " 'segment': 103,\n",
              " 'city large': 16,\n",
              " 'large real': 67,\n",
              " 'real estate': 96,\n",
              " 'estate market': 43,\n",
              " 'market especially': 73,\n",
              " 'especially luxury': 41,\n",
              " 'luxury segment': 71}"
            ]
          },
          "metadata": {},
          "execution_count": 26
        }
      ]
    },
    {
      "cell_type": "code",
      "source": [
        "tf_vect.get_feature_names_out()"
      ],
      "metadata": {
        "colab": {
          "base_uri": "https://localhost:8080/"
        },
        "id": "aGUacj1gtMbt",
        "outputId": "e8df8a49-dcec-429f-f397-227022d7acaa"
      },
      "execution_count": null,
      "outputs": [
        {
          "output_type": "execute_result",
          "data": {
            "text/plain": [
              "array(['accelerate', 'accelerate dubai', 'added', 'added kilometre',\n",
              "       'artificial', 'artificial coastline', 'became', 'became regional',\n",
              "       'building', 'building burj', 'burj', 'burj khalifa', 'century',\n",
              "       'century declaring', 'century pearling', 'city', 'city large',\n",
              "       'city started', 'coastline', 'construction', 'construction since',\n",
              "       'contributed', 'contributed less', 'creek', 'declaring',\n",
              "       'declaring free', 'densest', 'densest skyline', 'development',\n",
              "       'development city', 'diversify', 'diversify economy', 'dubai',\n",
              "       'dubai became', 'dubai development', 'early', 'early th',\n",
              "       'economy', 'emirate', 'emirate gdp', 'especially',\n",
              "       'especially luxury', 'estate', 'estate market', 'extending',\n",
              "       'extending creek', 'extensive', 'extensive land', 'fishing',\n",
              "       'fishing settlement', 'founded', 'founded early', 'free',\n",
              "       'free port', 'gdp', 'helped', 'helped accelerate', 'hub', 'hub th',\n",
              "       'including', 'including world', 'khalifa', 'kilometre',\n",
              "       'kilometre mi', 'land', 'land reclamation', 'large', 'large real',\n",
              "       'less', 'less emirate', 'luxury', 'luxury segment', 'market',\n",
              "       'market especially', 'mi', 'mi artificial', 'modest', 'modest oil',\n",
              "       'oil', 'oil production', 'oil revenue', 'one', 'one world',\n",
              "       'pearling', 'pearling fishing', 'port', 'port extending',\n",
              "       'produced', 'produced one', 'production', 'production contributed',\n",
              "       'project', 'project added', 'rapid', 'rapid construction', 'real',\n",
              "       'real estate', 'reclamation', 'reclamation project', 'regional',\n",
              "       'regional trade', 'revenue', 'revenue helped', 'segment',\n",
              "       'settlement', 'settlement dubai', 'since', 'since produced',\n",
              "       'skyline', 'skyline including', 'started', 'started diversify',\n",
              "       'tallest', 'tallest building', 'th', 'th century', 'trade',\n",
              "       'trade hub', 'world', 'world densest', 'world tallest'],\n",
              "      dtype=object)"
            ]
          },
          "metadata": {},
          "execution_count": 27
        }
      ]
    },
    {
      "cell_type": "code",
      "source": [],
      "metadata": {
        "id": "JEHHphNxZYFl"
      },
      "execution_count": null,
      "outputs": []
    }
  ]
}
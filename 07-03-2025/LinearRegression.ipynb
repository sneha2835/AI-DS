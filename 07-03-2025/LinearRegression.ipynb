{
 "cells": [
  {
   "cell_type": "code",
   "execution_count": 1,
   "id": "ffed6b8a",
   "metadata": {},
   "outputs": [
    {
     "name": "stdout",
     "output_type": "stream",
     "text": [
      "Equation of the line: y = 0.4x + 2.4\n",
      "Predictions for x = [1, 2, 3, 4, 5]: y = [2.8 3.2 3.6 4.  4.4]\n"
     ]
    }
   ],
   "source": [
    "import numpy as np\n",
    "\n",
    "def compute_line_equation(x, y):\n",
    "    x_mean = np.mean(x)\n",
    "    y_mean = np.mean(y)\n",
    "    y2 = y - y_mean\n",
    "    x2 = x - x_mean\n",
    "    mul = x2 * y2\n",
    "    mul_sum = np.sum(mul)\n",
    "    x2_sqr = np.sum(x2 ** 2)\n",
    "    m = mul_sum / x2_sqr\n",
    "    c = y_mean - (m * x_mean)\n",
    "    return m, c\n",
    "\n",
    "def predict(x_values, m, c):\n",
    "    return m * np.array(x_values) + c\n",
    "\n",
    "x = [1, 2, 3, 4, 5]\n",
    "y = [3, 4, 2, 4, 5]\n",
    "\n",
    "m, c = compute_line_equation(x, y)\n",
    "\n",
    "print(f\"Equation of the line: y = {m}x + {c}\")\n",
    "\n",
    "x_new = [1, 2, 3, 4, 5]\n",
    "y_p = predict(x_new, m, c)\n",
    "\n",
    "print(f\"Predictions for x = {x_new}: y = {y_p}\")"
   ]
  },
  {
   "cell_type": "code",
   "execution_count": 2,
   "id": "23271423",
   "metadata": {},
   "outputs": [
    {
     "name": "stdout",
     "output_type": "stream",
     "text": [
      "R-squared: 0.3076923076923078\n"
     ]
    }
   ],
   "source": [
    "#r-squared\n",
    "\n",
    "def r2(y_p, y_a):\n",
    "    y_mean = np.mean(y_a)\n",
    "    ss_total = np.sum((y_a - y_mean) ** 2)\n",
    "    ss_residual = np.sum((y_a - y_p) ** 2)\n",
    "    return 1 - (ss_residual / ss_total)\n",
    "\n",
    "\n",
    "r_squared = r2(y_p, y)\n",
    "print(f\"R-squared: {r_squared}\")"
   ]
  },
  {
   "cell_type": "code",
   "execution_count": null,
   "id": "13775259",
   "metadata": {},
   "outputs": [],
   "source": []
  }
 ],
 "metadata": {
  "kernelspec": {
   "display_name": "Python 3 (ipykernel)",
   "language": "python",
   "name": "python3"
  },
  "language_info": {
   "codemirror_mode": {
    "name": "ipython",
    "version": 3
   },
   "file_extension": ".py",
   "mimetype": "text/x-python",
   "name": "python",
   "nbconvert_exporter": "python",
   "pygments_lexer": "ipython3",
   "version": "3.11.5"
  }
 },
 "nbformat": 4,
 "nbformat_minor": 5
}

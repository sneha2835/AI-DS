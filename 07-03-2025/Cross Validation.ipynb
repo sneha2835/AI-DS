{
 "cells": [
  {
   "cell_type": "markdown",
   "id": "ac33a861",
   "metadata": {},
   "source": [
    "# Cross Validation\n",
    "\n",
    "prevents overfitting\n",
    "\n",
    "ensures model is evaluated on different subsets\n",
    "\n",
    "provides a more reliable performance estimate\n",
    "\n",
    "## k-fold cross validation\n",
    "\n",
    "split data set in k equal sized folds\n",
    "\n",
    "train the model on k-1 folds and test on remaining folds\n",
    "\n",
    "repeat the process for k times"
   ]
  },
  {
   "cell_type": "code",
   "execution_count": 1,
   "id": "631c805b",
   "metadata": {},
   "outputs": [
    {
     "name": "stdout",
     "output_type": "stream",
     "text": [
      "cross-validation scores: [0.88987982 0.92002456 0.92869735 0.92175772 0.9656831 ]\n",
      "Average score: 0.9252085103477234\n"
     ]
    }
   ],
   "source": [
    "from sklearn.model_selection import KFold,cross_val_score\n",
    "from sklearn.linear_model import LinearRegression\n",
    "from sklearn.datasets import make_regression\n",
    "\n",
    "x,y = make_regression(n_samples=100,n_features=2,noise=20)\n",
    "\n",
    "kf=KFold(n_splits=5,shuffle=True,random_state=42)\n",
    "model=LinearRegression()\n",
    "\n",
    "scores=cross_val_score(model,x,y,cv=kf,scoring='r2')\n",
    "print(\"cross-validation scores:\",scores)\n",
    "print(\"Average score:\",scores.mean())"
   ]
  },
  {
   "cell_type": "code",
   "execution_count": null,
   "id": "143e2906",
   "metadata": {},
   "outputs": [],
   "source": []
  }
 ],
 "metadata": {
  "kernelspec": {
   "display_name": "Python 3 (ipykernel)",
   "language": "python",
   "name": "python3"
  },
  "language_info": {
   "codemirror_mode": {
    "name": "ipython",
    "version": 3
   },
   "file_extension": ".py",
   "mimetype": "text/x-python",
   "name": "python",
   "nbconvert_exporter": "python",
   "pygments_lexer": "ipython3",
   "version": "3.11.5"
  }
 },
 "nbformat": 4,
 "nbformat_minor": 5
}
